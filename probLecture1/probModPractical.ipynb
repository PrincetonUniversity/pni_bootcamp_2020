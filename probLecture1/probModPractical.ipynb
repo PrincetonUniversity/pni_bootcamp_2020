{
 "cells": [
  {
   "cell_type": "markdown",
   "metadata": {},
   "source": [
    "In this notebook we hope to provide a practical reference for when you'll need to do \"modeling\" of some sort.\n",
    "\n",
    "Recall that usually when we think about experiments we reason in terms of **random variables**. These random variables have distributions, sometimes continuous, othertimes discrete. \n",
    "\n",
    "For example we might say that the number of spikes from a particlar neuron is a random variable, and that this random variable has a Poisson distribution. \n",
    "\n",
    "So we can write: \n",
    "\n",
    "$X$ is the random variable for the number of spikes and it can take on (become) an element from the set of positive integers, we'll call that element $k$. We write this statement compactly as:\n",
    "\n",
    "$$P(X = k) = Poisson(k; \\lambda) = \\frac{\\lambda^k e ^{-\\lambda}}{k!}$$\n",
    "\n",
    "## Q.1 \n",
    "* Is this a continous or discrete distribution, why or why not?"
   ]
  },
  {
   "cell_type": "markdown",
   "metadata": {},
   "source": []
  },
  {
   "cell_type": "markdown",
   "metadata": {},
   "source": [
    "The distribution of a random variable is determined by either its probability mass(discrete) or density(continuous) function.  Often times from an experiment, if we continue with the example above, we will have $k$, the number of spikes. For the sake of this tutorial we'll say we somehow have $\\lambda$, the rate parameter. How do we then compute $P(X)$ for the $k, \\lambda$ that we have? We plug it in. Let's do this in code: "
   ]
  },
  {
   "cell_type": "code",
   "execution_count": 2,
   "metadata": {},
   "outputs": [],
   "source": [
    "from scipy.stats import poisson"
   ]
  },
  {
   "cell_type": "markdown",
   "metadata": {},
   "source": [
    "## Visit [this link](https://docs.scipy.org/doc/scipy/reference/generated/scipy.stats.poisson.html) and read the documentation about the poisson object from scipy\n",
    "\n",
    "## Q.2 \n",
    "* for the $k$ and $\\lambda$ given, compute $P(X)$"
   ]
  },
  {
   "cell_type": "code",
   "execution_count": 3,
   "metadata": {},
   "outputs": [],
   "source": [
    "k, lamb = 10, 4\n",
    "\n",
    "# your code below\n",
    "# px_given_klamb = "
   ]
  },
  {
   "cell_type": "markdown",
   "metadata": {},
   "source": [
    "## Relation to terms in Bayes stuff\n",
    "\n",
    "Continuing with the example above, we'll also code up, and relate terms from the individual elements of Bayes Theorem to performing particular (somewhat routine?) tasks."
   ]
  },
  {
   "cell_type": "code",
   "execution_count": null,
   "metadata": {},
   "outputs": [],
   "source": []
  }
 ],
 "metadata": {
  "kernelspec": {
   "display_name": "Python 3",
   "language": "python",
   "name": "python3"
  },
  "language_info": {
   "codemirror_mode": {
    "name": "ipython",
    "version": 3
   },
   "file_extension": ".py",
   "mimetype": "text/x-python",
   "name": "python",
   "nbconvert_exporter": "python",
   "pygments_lexer": "ipython3",
   "version": "3.7.0"
  }
 },
 "nbformat": 4,
 "nbformat_minor": 4
}
