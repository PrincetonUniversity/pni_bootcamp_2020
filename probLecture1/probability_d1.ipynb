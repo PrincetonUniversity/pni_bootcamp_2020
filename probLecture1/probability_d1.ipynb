{
 "cells": [
  {
   "cell_type": "markdown",
   "metadata": {
    "colab_type": "text",
    "id": "Gqp7CBGVCX1x"
   },
   "source": [
    "topics: \n",
    "\n",
    "---\n",
    "\n",
    "* frequency probability (YOEL)\n",
    "* subjective probability (YOEL)\n",
    "* random variables (RACHEL)\n",
    "* continuous vs discrete R.V.s (RACHEL) \n",
    "* conditional probability (YOEL) \n",
    "* marginal probability (YOEL)\n",
    "* joint probability (RACHEL)\n",
    "\n",
    "---"
   ]
  },
  {
   "cell_type": "code",
   "execution_count": null,
   "metadata": {
    "colab": {},
    "colab_type": "code",
    "id": "hIbA9ARdCUQR"
   },
   "outputs": [],
   "source": [
    "import numpy as np \n",
    "import matplotlib.pyplot as plt\n",
    "import scipy.stats as stats"
   ]
  },
  {
   "cell_type": "code",
   "execution_count": null,
   "metadata": {
    "colab": {},
    "colab_type": "code",
    "id": "4QyHDcKSDANY"
   },
   "outputs": [],
   "source": []
  },
  {
   "cell_type": "markdown",
   "metadata": {
    "colab_type": "text",
    "id": "qena_yEsEQyF"
   },
   "source": [
    "## Assigning numbers to groups of things\n",
    "\n",
    "In very loose terms the framework of probability theory tells you how you should assign numbers, in a very specific ways, to groups of things.\n",
    "\n",
    "This might be a bit slow but we'll try and build up in a reasonable amount of time. Imagine you have 3 groups, and inside these groups you have numbers between 1 and 10. Each group has some subset of the numbers between 1 and 10"
   ]
  },
  {
   "cell_type": "code",
   "execution_count": null,
   "metadata": {
    "colab": {
     "base_uri": "https://localhost:8080/",
     "height": 69
    },
    "colab_type": "code",
    "id": "cUCJaGdeESDW",
    "outputId": "2550a168-8b52-4b0b-c106-d4420a685d03"
   },
   "outputs": [
    {
     "name": "stdout",
     "output_type": "stream",
     "text": [
      "groupA = :  [ 1  1  1  3  3  4  5  6  7  7  7  8  9 10]\n",
      "groupB = :  [2 4 6 8]\n",
      "groupC = :  [ 1  3  5  7  9 10]\n"
     ]
    }
   ],
   "source": [
    "import numpy as np\n",
    "from collections import Counter\n",
    "\n",
    "groupA = np.array([1, 1, 1, 3, 3, 4, 5, 6, 7, 7, 7, 8, 9, 10])\n",
    "print(\"groupA = : \", groupA)\n",
    "\n",
    "groupB = np.arange(2, 10, 2)\n",
    "print(\"groupB = : \", groupB)\n",
    "\n",
    "groupC = np.setdiff1d(groupA, groupB)\n",
    "print(\"groupC = : \", groupC)"
   ]
  },
  {
   "cell_type": "markdown",
   "metadata": {
    "colab_type": "text",
    "id": "9Zy1QnkIEjAe"
   },
   "source": [
    "If you read books on probability theory the above might have the following names attached to them: \n",
    "\n",
    "groupA: **sample space**\n",
    "\n",
    "groupB: **event, a subset of the sample space**\n",
    "\n",
    "3: **outcome of the event groupC**\n",
    "\n",
    "it's not too important that you memorize these definitions but we just want to make you aware of them. Now that we have \"groups of things\" we want to use the rules of probability theory to consistently assign numbers to \"things happening\". Usually when someone asks about a probability of an event it roughly falls into an interpertation in terms of: \n",
    "\n",
    "## frequency of event happening\n",
    "\n",
    "imagine you sample a number randomly from groupA, and you tally up the times that the number(s) comes up then divide by the total amount of times sampled. If we didn't know all of the possible outcomes of groupA then we could define the probability of those numbers as so: "
   ]
  },
  {
   "cell_type": "code",
   "execution_count": null,
   "metadata": {
    "colab": {
     "base_uri": "https://localhost:8080/",
     "height": 191
    },
    "colab_type": "code",
    "id": "0os81VcqEaDM",
    "outputId": "7395a80e-3d79-47d8-e30d-56efd2625a87"
   },
   "outputs": [
    {
     "name": "stdout",
     "output_type": "stream",
     "text": [
      "key, probability:\n"
     ]
    },
    {
     "data": {
      "text/plain": [
       "[(1, 0.214932),\n",
       " (3, 0.14412),\n",
       " (4, 0.071102),\n",
       " (5, 0.071496),\n",
       " (6, 0.071382),\n",
       " (7, 0.213216),\n",
       " (8, 0.07143),\n",
       " (9, 0.071248),\n",
       " (10, 0.071074)]"
      ]
     },
     "execution_count": 6,
     "metadata": {
      "tags": []
     },
     "output_type": "execute_result"
    }
   ],
   "source": [
    "nSamples = 500000\n",
    "samples = np.random.choice(groupA, nSamples)\n",
    "sampleDist = [(key, val / nSamples) for key, val in sorted(Counter(samples).items())]\n",
    "print(\"key, probability:\")\n",
    "sampleDist"
   ]
  },
  {
   "cell_type": "markdown",
   "metadata": {
    "colab_type": "text",
    "id": "2EGwg7qfExhU"
   },
   "source": [
    "it happens to be the case that because we do know the entire sample space we can analyically compute the probability of each number, which we do below _(we can almost never do this \"in the real world\" with real data)_"
   ]
  },
  {
   "cell_type": "code",
   "execution_count": null,
   "metadata": {
    "colab": {
     "base_uri": "https://localhost:8080/",
     "height": 191
    },
    "colab_type": "code",
    "id": "pC8FaoBiEnvh",
    "outputId": "4116dfe1-ad58-461a-88bc-932ac5b691c1"
   },
   "outputs": [
    {
     "name": "stdout",
     "output_type": "stream",
     "text": [
      "key, probability:\n"
     ]
    },
    {
     "data": {
      "text/plain": [
       "[(1, 0.21428571428571427),\n",
       " (3, 0.14285714285714285),\n",
       " (4, 0.07142857142857142),\n",
       " (5, 0.07142857142857142),\n",
       " (6, 0.07142857142857142),\n",
       " (7, 0.21428571428571427),\n",
       " (8, 0.07142857142857142),\n",
       " (9, 0.07142857142857142),\n",
       " (10, 0.07142857142857142)]"
      ]
     },
     "execution_count": 7,
     "metadata": {
      "tags": []
     },
     "output_type": "execute_result"
    }
   ],
   "source": [
    "trueN = len(groupA)\n",
    "print(\"key, probability:\")\n",
    "trueDist = [(key, val / trueN) for key, val in sorted(Counter(groupA).items())]\n",
    "trueDist"
   ]
  },
  {
   "cell_type": "markdown",
   "metadata": {
    "colab_type": "text",
    "id": "dnAAgw11E1Zi"
   },
   "source": [
    "### Q.1 \n",
    "The above is also referred to a relatively naive interpretation of probability (to be clear, the view point of frequency of events is not by itself what makes this naive). \n",
    "\n",
    "**Write down a reason why probability as defined above is naive. Or rather, under what condition is the above definition of probability invalid, in the sense that it would not reflect reality?**"
   ]
  },
  {
   "cell_type": "markdown",
   "metadata": {
    "colab_type": "text",
    "id": "dnAAgw11E1Zi"
   },
   "source": []
  },
  {
   "cell_type": "markdown",
   "metadata": {
    "colab_type": "text",
    "id": "dnAAgw11E1Zi"
   },
   "source": [
    "## Degree of belief\n",
    "\n",
    "We could alternatively imagine a case where an event only happens once, as in a presidential election. In this case we might say that we are reasonaly sure our favorite candidate will win, and assign a number to that degree of belief. This is called a subjective probability. \n",
    "\n",
    "In any case both definitions of probability rely on the concept of **random variables**.\n",
    "\n",
    "\n",
    "## Formal definition: \n",
    "\n",
    "A _probability space_ contains two elements, a sample space $G$ and a probability function $P(\\cdot)$ which takes an event $A$ (that is a subset of $G$) as input and returns a real number between 0 and 1: $P(A)$\n",
    "\n",
    "There are particular properties that together a sample space and probability function must meet, these properties further rely on 2 basic claims: \n",
    "\n",
    "1. $P(nothing) = 0$ and $P(G) = 1$\n",
    "\n",
    "if $A_1, ...,$ are disjoint events then:\n",
    "\n",
    "2. $P(\\bigcup_{A_i \\in G} A_i) = \\sum _{A_i \\in G} P(A_i)$\n",
    "\n",
    "in words, the above states that disjoint events are mutually exclusive: e.g. $P(A_i , A_j) = 0$ if $i \\neq j$"
   ]
  },
  {
   "cell_type": "markdown",
   "metadata": {
    "colab": {},
    "colab_type": "code",
    "id": "dqcJ_iFrE0HQ"
   },
   "source": [
    "## "
   ]
  },
  {
   "cell_type": "markdown",
   "metadata": {
    "colab_type": "text",
    "id": "kkNeXt__KBOH"
   },
   "source": []
  },
  {
   "cell_type": "markdown",
   "metadata": {
    "colab_type": "text",
    "id": "N-mE5AOjKBdk"
   },
   "source": []
  },
  {
   "cell_type": "markdown",
   "metadata": {
    "colab_type": "text",
    "id": "fIsOP_VzJ_-K"
   },
   "source": []
  },
  {
   "cell_type": "markdown",
   "metadata": {
    "colab_type": "text",
    "id": "UYzEc8fEKAZR"
   },
   "source": []
  },
  {
   "cell_type": "markdown",
   "metadata": {
    "colab_type": "text",
    "id": "irdRYaEEKAry"
   },
   "source": []
  },
  {
   "cell_type": "code",
   "execution_count": null,
   "metadata": {
    "colab": {},
    "colab_type": "code",
    "id": "x59AteTqG22a"
   },
   "outputs": [],
   "source": []
  },
  {
   "cell_type": "markdown",
   "metadata": {
    "colab_type": "text",
    "id": "MPv0Gy9QG68f"
   },
   "source": [
    "# Random Variables\n",
    "\n",
    "A random variable is just like a normal variable we use in algebra, except it's value depends on the outcome of a random phenomenon. Random variables are an important part of Probability Theory. \n",
    "\n",
    "For example, we can consider random variable $X$ that denotes the outcome of a coin flip. If the coin flips to heads, $X = 0$, to tails, $X = 1$. We can consider different properties of random variable X such as how likely $X = 0$ or $X = 1$. We use the random variable because we don't quite know the possible outcome, and we want to be able to measure the probabilities for each outcome (altogether forming a probaiblity distribution). \n",
    "\n",
    "\n",
    "\n",
    "## Discrete Random Variables\n",
    "\n",
    "The coin flip described earlier is an example of a *discrete* random variable because the possible values for X is finite or countably infinite. \n",
    "\n",
    "We can consider functions on discrete variables such as the **probability mass function** of a random variable which describes how likely a random variable $X$ can take on some value $x$. We can formally define this for disecrete random variables as $p(x) = P(X = x)$ such that $x$ denotes each possible value that $X$ can take. \n",
    "\n",
    "In the coin flip case, we can say that the set of possible values for $X$ is $X = {0, 1}$, a finite set. If the coin is fair, then we can say that $p(0) = p(X = 0) = 0.5$ and $p(1) = p(X = 1) = 0.5$. \n",
    "\n",
    "You can see that it will always be true that $\\sum_{x \\in X} p(x) = 1$ or that the sum of the probability of X being all its possible values will be 1. \n",
    "\n",
    "\n",
    "We can also consider the **cumulative distribution function (cdf)** of a random variable which describes how likely a random variable $X$ can be less than or equal to some value $x$. This is formally defined as $F(x) = P(X <= x)$ and specifically for discrete variables as $F(x) = \\sum_{t\\in X: t x} p(t)$. \n",
    "\n",
    "Examples of discrete random variables include Bernoulli (eg. the coin flip, probability $p$ for one outcome, $1-p$ for the other outcome), Binomial (a series of Bernoulli's), Poisson, discrete uniform variables. "
   ]
  },
  {
   "cell_type": "code",
   "execution_count": null,
   "metadata": {
    "colab": {
     "base_uri": "https://localhost:8080/",
     "height": 329
    },
    "colab_type": "code",
    "id": "8VPdfKqhGLhZ",
    "outputId": "70cdc764-8657-4280-8d52-0e2743c1ac14"
   },
   "outputs": [
    {
     "name": "stdout",
     "output_type": "stream",
     "text": [
      "In this example, we can see that P(x = 2) = 0.35\n",
      "You can also see how the sum of P(x = x_i) for all x_i is 1\n"
     ]
    },
    {
     "data": {
      "image/png": "[encoded data removed]",
      "text/plain": [
       "<Figure size 432x288 with 1 Axes>"
      ]
     },
     "metadata": {
      "needs_background": "light",
      "tags": []
     },
     "output_type": "display_data"
    }
   ],
   "source": [
    "# example of pmf for discrete random variables\n",
    "pmf = np.array([2.7, 5.5, 7, 3.5, 1.3, 0, 0, 0, 0, 0])/20\n",
    "plt.vlines(np.arange(10), np.zeros((10)), pmf)\n",
    "plt.plot(np.arange(10), pmf, 'ko')\n",
    "plt.xlabel('x')\n",
    "plt.ylabel('f(x)')\n",
    "plt.title('Example of a Discrete pmf')\n",
    "print(\"In this example, we can see that P(x = 2) = 0.35\")\n",
    "print(\"You can also see how the sum of P(x = x_i) for all x_i is 1\")\n"
   ]
  },
  {
   "cell_type": "markdown",
   "metadata": {
    "colab_type": "text",
    "id": "11VSxM6UMc2h"
   },
   "source": [
    "\n",
    "**EXAMPLE 1** A fair coin is flipped three times. Let $X$ be the total number of heads. \n",
    "1. What are the possible values for $X$? Is $X$ a discrete variable?  \n",
    "2. What is the pmf for those possible values? \n",
    "\n",
    "\n"
   ]
  },
  {
   "cell_type": "markdown",
   "metadata": {
    "colab_type": "text",
    "id": "j1KhXeWv2Mi6"
   },
   "source": [
    "*solution:*\n",
    "The set of possible values of X is X = {0,1,2,3}, a finite set, so X is discrete. Its pmf is p(0) = p(3) = 1/8, p(1) = p(2) = 3/8. We can also recognize X as a binomial random variable.\n",
    "\n"
   ]
  },
  {
   "cell_type": "code",
   "execution_count": null,
   "metadata": {
    "colab": {
     "base_uri": "https://localhost:8080/",
     "height": 281
    },
    "colab_type": "code",
    "id": "LrtXRxf-bLzA",
    "outputId": "f2bc16f2-8699-42d3-8abe-dd0097a9a539"
   },
   "outputs": [
    {
     "data": {
      "image/png": "[encoded data removed]",
      "text/plain": [
       "<Figure size 432x288 with 1 Axes>"
      ]
     },
     "metadata": {
      "needs_background": "light",
      "tags": []
     },
     "output_type": "display_data"
    }
   ],
   "source": [
    "x = np.arange(10)\n",
    "n = 3\n",
    "p = 0.5\n",
    "rv = stats.binom(n, p)\n",
    "plt.vlines(x, 0, rv.pmf(x), colors='b', linestyles='-', lw=5)\n",
    "plt.title(\"Binomial PMF for Total number of Heads for 3 flips\")\n",
    "plt.show()\n"
   ]
  },
  {
   "cell_type": "markdown",
   "metadata": {
    "colab_type": "text",
    "id": "tC_22vyg2Mvo"
   },
   "source": [
    "**EXAMPLE 2**: A fair coin is flipped repeatedly until it comes up heads. Let $X$ be the total number of flips needed to obtain heads. Again, \n",
    "1. What are the possible values for $X$? Is $X$ a discrete variable?  \n",
    "2. What is the pmf for those possible values? \n",
    "\n"
   ]
  },
  {
   "cell_type": "markdown",
   "metadata": {
    "colab_type": "text",
    "id": "XGdWj5VG2WXa"
   },
   "source": [
    "\n",
    "*solution:* \n",
    "The set of possible values of $X$ is $X = {1, 2, 3, . . .}$, a countably infinite set, so X is discrete. \n",
    "Its pmf is $p(x) = 2^{-x}$ for every $x \\in {1, 2, 3, . . .}$. We can also recognize X as a geometric random variable.\n",
    "\n"
   ]
  },
  {
   "cell_type": "code",
   "execution_count": null,
   "metadata": {
    "colab": {
     "base_uri": "https://localhost:8080/",
     "height": 281
    },
    "colab_type": "code",
    "id": "APSoE89hdQWr",
    "outputId": "02aecab8-2272-403f-940f-6a921bb8b14b"
   },
   "outputs": [
    {
     "data": {
      "image/png": "[encoded data removed]",
      "text/plain": [
       "<Figure size 432x288 with 1 Axes>"
      ]
     },
     "metadata": {
      "needs_background": "light",
      "tags": []
     },
     "output_type": "display_data"
    }
   ],
   "source": [
    "x = np.arange(40)\n",
    "p = 0.5 \n",
    "rv = stats.geom(p)\n",
    "plt.vlines(x, 0, rv.pmf(x), colors='b', linestyles='-', lw=5)\n",
    "plt.title(\"Geometric PMF for Total number of flips until heads\")\n",
    "plt.show()"
   ]
  },
  {
   "cell_type": "markdown",
   "metadata": {
    "colab_type": "text",
    "id": "QEbqEFl02ra5"
   },
   "source": [
    "# Continuous Random Variables\n",
    "\n",
    "A random variable $X$ is continuous if its possible values form an uncountable set (eg. some interval on $\\Re$ ); in other words, it takes values in a continuous space. \n",
    "\n",
    "Note that the probability for X equal to any specific value is *exactly* 0. So instead of a pmf, we look at the probability density function (pdf), which will be defined formally as $\\int_a^b f(x) dx = P(a \\le X \\le b)$ for any $a, b \\in \\Re$. Just like with the pmf, we know that $\\int_{- \\infty}^\\infty f(x) dx = 1$ is always true.\n",
    "\n",
    "We can also define the cdf of a random variable $X$ as $F(x) = P(X\\le x)$, so for continuous rv $X$, we can define it as $F(x) = P(X \\le x) = \\int_{- \\infty}^x f(x) dx$. \n",
    "\n",
    "The pdf is obtained by differentiating the cdf. Examples of continuous random variables include normal, exponential, beta, gamma, chi-squared, Student's t, and continuous uniform random variable. "
   ]
  },
  {
   "cell_type": "code",
   "execution_count": null,
   "metadata": {
    "colab": {
     "base_uri": "https://localhost:8080/",
     "height": 298
    },
    "colab_type": "code",
    "id": "ZPnJUi6qnlV-",
    "outputId": "af842b8a-4afd-4680-d4a5-a3ac2c10bd4f"
   },
   "outputs": [
    {
     "data": {
      "text/plain": [
       "Text(0.5, 1.0, 'Example continuous random variable PDF (normal distribution)')"
      ]
     },
     "execution_count": 58,
     "metadata": {
      "tags": []
     },
     "output_type": "execute_result"
    },
    {
     "data": {
      "image/png": "[encoded data removed]",
      "text/plain": [
       "<Figure size 432x288 with 1 Axes>"
      ]
     },
     "metadata": {
      "needs_background": "light",
      "tags": []
     },
     "output_type": "display_data"
    }
   ],
   "source": [
    "x = np.linspace(-10, 10)\n",
    "rv = stats.norm()\n",
    "plt.plot(x, rv.pdf(x), 'k-', lw=2, label='frozen pdf')\n",
    "plt.title('Example continuous random variable PDF (normal distribution)')"
   ]
  },
  {
   "cell_type": "markdown",
   "metadata": {
    "colab_type": "text",
    "id": "_nDz3r8ssY6C"
   },
   "source": [
    "**EXAMPLE 1:**  \n",
    "Let $X$ be the amount of time in hours that an electrical component functions before breaking down. This random variable might have the pdf: \n",
    "\n",
    "$f(x) =  \\bigg\\{ \\begin {array}{l} \\lambda \\exp(- \\lambda x) \\text{ if } x \\ge 0, \\\\\n",
    "    0 \\text { if } x < 0.\n",
    "  \\end{array}$\n",
    "\n",
    "This is the expontential distribution. We can plot this pdf as below. "
   ]
  },
  {
   "cell_type": "code",
   "execution_count": null,
   "metadata": {
    "colab": {
     "base_uri": "https://localhost:8080/",
     "height": 282
    },
    "colab_type": "code",
    "id": "3UKnP9gypkfb",
    "outputId": "0d66505f-7fb9-4f77-d162-92986791b787"
   },
   "outputs": [
    {
     "data": {
      "text/plain": [
       "[<matplotlib.lines.Line2D at 0x7ff10bc0f1d0>]"
      ]
     },
     "execution_count": 62,
     "metadata": {
      "tags": []
     },
     "output_type": "execute_result"
    },
    {
     "data": {
      "image/png": "[encoded data removed]",
      "text/plain": [
       "<Figure size 432x288 with 1 Axes>"
      ]
     },
     "metadata": {
      "needs_background": "light",
      "tags": []
     },
     "output_type": "display_data"
    }
   ],
   "source": [
    "x = np.linspace(-2, 40)\n",
    "rv = stats.expon()\n",
    "plt.plot(x, rv.pdf(x), 'k-', lw=2, label='frozen pdf')"
   ]
  },
  {
   "cell_type": "markdown",
   "metadata": {
    "colab_type": "text",
    "id": "GNgi6bI5xSad"
   },
   "source": [
    "Can you calculate the probability that the part function will last at least $c$ hours? "
   ]
  },
  {
   "cell_type": "markdown",
   "metadata": {
    "colab_type": "text",
    "id": "vFG6C3b_xgM3"
   },
   "source": [
    "*solution:* $P(X \\le c) = \\int_c^\\inf f(x) dx = \\exp(-c \\lambda) $"
   ]
  },
  {
   "cell_type": "markdown",
   "metadata": {
    "colab_type": "text",
    "id": "zC09FZPMx2tR"
   },
   "source": [
    "# Joint, Conditional, Marginal Probability \n",
    "\n",
    "## Discrete Random Variables\n",
    "\n",
    "Let $X$ and $Y$ be discrete random variables that take on values $x$ and $y$ respectively. \n",
    "\n",
    "We can then consider the **joint pmf** of $X$ and $Y$ as $p(x, y) = P(X = x, Y = y)$. In other words, this is the probability of X *and* Y taking on those values. \n",
    "\n",
    "For a discrete random variables, we can look at joint probabilities like a table. \n",
    "\n",
    "Here we have $P(x, y)$ with the rows taking the x values, and columns y values \n",
    "\n",
    "|| | | | | \n",
    "|-|-|-|-|-| \n",
    "||**x=-2**|**x=-1**|**x=0**|**x=1**|\n",
    "|**y=4**|.01 |.03 |.07 |.08 | \n",
    "|**y=5**|.03 |.07 |.14 |.07 | \n",
    "|**y=6**|.07 |.14 |.07 |.03 | \n",
    "|**y=7**|.08 |.07 |.03 |.01 |\n",
    "\n",
    "So we can consider, say, $P(-2, 5) = 0.03$ by this lookup table. \n",
    "\n",
    "We can consider the **marginal pmfs** of a joint pmf, which is the probability of only one variable, regardless of the other variables' values. Concretely, this means, given joint pmf $p(x, y)$, the marginal pmf of X is $P(X = x)$ regardless of what value $Y$ takes and the marginal pmf of Y is $P(Y = y)$ regardless of what value $X$ takes. \n",
    "\n",
    "Mathematically, we can define this as\n",
    "\n",
    "$P(X = x) = \\sum_{y \\in \\mathcal{Y}} P(X = x, Y = y)$ \n",
    "\n",
    "$P(Y = y) = \\sum_{x \\in \\mathcal{X}} P(X = x, Y = y)$ \n",
    "\n",
    "Intuitively, we can look at our table and essentially *sum* down a row or column. \n",
    "\n",
    "For example, given our discrete probabilities above, if we're looking for $P(X = x)$, we will sum all the rows. "
   ]
  },
  {
   "cell_type": "code",
   "execution_count": null,
   "metadata": {
    "colab": {
     "base_uri": "https://localhost:8080/",
     "height": 299
    },
    "colab_type": "code",
    "id": "TZl30FpM4kVp",
    "outputId": "37ef13ac-3b16-4552-82b2-a7bd7af425e7"
   },
   "outputs": [
    {
     "name": "stdout",
     "output_type": "stream",
     "text": [
      "P(X = x) =  [0.19 0.31 0.31 0.19]\n"
     ]
    },
    {
     "data": {
      "text/plain": [
       "<BarContainer object of 4 artists>"
      ]
     },
     "execution_count": 67,
     "metadata": {
      "tags": []
     },
     "output_type": "execute_result"
    },
    {
     "data": {
      "image/png": "[encoded data removed]",
      "text/plain": [
       "<Figure size 432x288 with 1 Axes>"
      ]
     },
     "metadata": {
      "needs_background": "light",
      "tags": []
     },
     "output_type": "display_data"
    }
   ],
   "source": [
    "P_xy = np.array([[.01, .03, .07, .08], [.03, .07, .14, .07], [.07, .14, .07, .03], [.08, .07, .03, .01]])\n",
    "P_x = np.sum(P_xy, axis = 0)\n",
    "print(\"P(X = x) = \", P_x)\n",
    "\n",
    "plt.bar([-2, -1, 0, 1], P_x)"
   ]
  },
  {
   "cell_type": "markdown",
   "metadata": {
    "colab_type": "text",
    "id": "n_J4YK7z5glk"
   },
   "source": [
    "Note that like all pmfs, we can see that $\\sum_{x \\in X} p(x) = 1$\n",
    "\n",
    "\n",
    "Another important pmf we can derive from joint pmfs are **Conditional PMFs.** Unlike marginal pmfs, which is the pmf for $X = x$ irrespective of the value of $Y$, conditional pmfs is the pmf for $X = x$ *given* that $Y$ is a specific value $y$. \n",
    "\n",
    "Mathematically, that is defined as: \n",
    "\n",
    "$P(X = x | Y = y) = \\frac {P(X = x, Y = y)}{P(Y = y)}$\n",
    "\n",
    "$P(Y = y | X = x) = \\frac {P(X = x, Y = y)}{P(X = x)}$\n",
    "\n",
    "\n",
    "Intuitively, we can calculate the conditional pmf by looking at the specific row/column for the variable we want to condition on. \n",
    "\n",
    "For example, if we want $P(y|x = -1)$, we will look at the second column for $x = -1$. \n",
    "\n",
    "\n",
    "|| | | | | \n",
    "|-|-|-|-|-| \n",
    "||**x=-2**|**x=-1**|**x=0**|**x=1**|\n",
    "|**y=4**|.01 |**.03** |.07 |.08 | \n",
    "|**y=5**|.03 |**.07**  |.14 |.07 | \n",
    "|**y=6**|.07 |**.14** |.07 |.03 | \n",
    "|**y=7**|.08 |**.07** |.03 |.01 |\n",
    "\n",
    "But note that the column doesn't sum to 1-- we need to scale the column's values by the marginal pmf $P(x = -1)$. This is the intuition behind the mathematical definition of the conditional pmf, i.e. \n",
    "\n",
    "$P(Y = y|x = -1) = \\frac{P(y, x = -1)}{P(x = -1)}$\n",
    "\n",
    "From our earlier example, we know $P(x = -1) = 0.31$, so we just need to take our column and scale it by the marginal probability.  "
   ]
  },
  {
   "cell_type": "code",
   "execution_count": null,
   "metadata": {
    "colab": {
     "base_uri": "https://localhost:8080/",
     "height": 34
    },
    "colab_type": "code",
    "id": "73yk78UVEKHl",
    "outputId": "9743cad2-ab06-4bdb-e4cd-3bb1876c8c37"
   },
   "outputs": [
    {
     "name": "stdout",
     "output_type": "stream",
     "text": [
      "P(Y = y | x = -1) =  [0.09677419 0.22580645 0.4516129  0.22580645]\n"
     ]
    }
   ],
   "source": [
    "P_y_given_x = P_xy[:,1] / 0.31\n",
    "print(\"P(Y = y | x = -1) = \", P_y_given_x)"
   ]
  },
  {
   "cell_type": "markdown",
   "metadata": {
    "colab_type": "text",
    "id": "swt9nL__O1Tc"
   },
   "source": [
    "## Continuous Random Variables\n",
    "\n",
    "We can also look at joint, marginal, and conditional distributions for continuous random variables. \n",
    "\n",
    "Given continuous random variables $X$, $Y$, the joint pdf of $X$ and $Y$ is the nonnegative function s.t. \n",
    "\n",
    "$f(x_y) = \\iint A f^{(X, Y)} (x, y) \\,dx \\,dy = P[(X, Y) \\in A] \\text{ for any set }A \\subset \\Re^2$\n",
    "\n",
    "\n",
    "Like our table example earlier, let us consider an example joint pdf as we go through the marginal and conditional distributions. We will use the Gaussian distribution."
   ]
  },
  {
   "cell_type": "code",
   "execution_count": null,
   "metadata": {
    "colab": {
     "base_uri": "https://localhost:8080/",
     "height": 312
    },
    "colab_type": "code",
    "id": "3rC8EYdQRr9X",
    "outputId": "b3cede46-7674-4e47-cffb-7285eafee4dd"
   },
   "outputs": [
    {
     "data": {
      "text/plain": [
       "Text(0.5, 1.0, 'P(x,y)')"
      ]
     },
     "execution_count": 105,
     "metadata": {
      "tags": []
     },
     "output_type": "execute_result"
    },
    {
     "data": {
      "image/png": "[encoded data removed]",
      "text/plain": [
       "<Figure size 432x288 with 1 Axes>"
      ]
     },
     "metadata": {
      "needs_background": "light",
      "tags": []
     },
     "output_type": "display_data"
    }
   ],
   "source": [
    "x, y = np.mgrid[-3:3:.01, -3:3:.01]\n",
    "pos = np.dstack((x, y))\n",
    "rv = stats.multivariate_normal(mean=[0,0], cov=[[2, 1.8], [1.8, 2]])\n",
    "plt.contourf(x, y, rv.pdf(pos))\n",
    "plt.xlabel('x')\n",
    "plt.ylabel('y')\n",
    "plt.title('P(x,y)')"
   ]
  },
  {
   "cell_type": "markdown",
   "metadata": {
    "colab_type": "text",
    "id": "tYAV2wb0Xs3o"
   },
   "source": [
    "As with before, the marginal distribution $P(X)$ of $P(x,y)$ would be the probability for $X$ given any values for $Y$. \n",
    "\n",
    "Mathematically, we can define this as: \n",
    "\n",
    "$f(x) = \\int_{- \\infty}^\\infty f(x, y) dy$ \n",
    "\n",
    "$f(y) = \\int_{- \\infty}^\\infty f(x, y) dx$\n",
    "\n",
    "Intuitively, we will again \"sum\" across rows for $f(x)$ and across columns for $f(y)$. "
   ]
  },
  {
   "cell_type": "code",
   "execution_count": null,
   "metadata": {
    "colab": {},
    "colab_type": "code",
    "id": "IXGFaomQYzKw"
   },
   "outputs": [],
   "source": []
  }
 ],
 "metadata": {
  "colab": {
   "collapsed_sections": [],
   "name": "probability-0.ipynb",
   "provenance": []
  },
  "kernelspec": {
   "display_name": "Python 3",
   "language": "python",
   "name": "python3"
  },
  "language_info": {
   "codemirror_mode": {
    "name": "ipython",
    "version": 3
   },
   "file_extension": ".py",
   "mimetype": "text/x-python",
   "name": "python",
   "nbconvert_exporter": "python",
   "pygments_lexer": "ipython3",
   "version": "3.7.0"
  }
 },
 "nbformat": 4,
 "nbformat_minor": 1
}
