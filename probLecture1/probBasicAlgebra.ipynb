{
 "cells": [
  {
   "cell_type": "markdown",
   "metadata": {},
   "source": [
    "This notebook is a little different in that we don't really have any coding exercises. Instead we will attempt to exercise our ways of reasoning - in a mechanical, and algebraic manner, about statements such as: \n",
    "\n",
    "$$P(A, E|B,C,D)$$\n",
    "\n",
    "First we need to recall how to interpret something such as $P(X|Y)$\n",
    "\n",
    "### Q.1 \n",
    "* What variable is $P(X|Y)$ a function of? \n",
    "* What exactly are we condsidering the probability of here? \n",
    "* Does it make sense to say we are considering the probability of a \"thing\" called:  X given Y ? "
   ]
  },
  {
   "cell_type": "markdown",
   "metadata": {},
   "source": []
  },
  {
   "cell_type": "markdown",
   "metadata": {},
   "source": [
    "## The product (also called chain) rule of probability\n",
    "\n",
    "If we are considering the probability of two random variables in tandem we write this down as: $P(A, B)$\n",
    "\n",
    "In probability theory there is a rule we can apply referred to the product rule, or the chain rule that allows us to rewrite $P(A, B)$ as: \n",
    "\n",
    "$$P(A, B) = P(A|B)P(B)$$\n",
    "\n",
    "in addition we should note that the application of this rule is symmetric in the sense that we could have also written:\n",
    "\n",
    "$$P(A, B) = P(B|A)P(A)$$\n",
    "\n",
    "later you'll learn, or as you'll remember, this symmetry allows you to write down conditional probabilities in terms of **likelihoods, priors, and marginals** (if you don't already know what all of those terms mean, don't worry)\n",
    "\n",
    "## Q.2\n",
    "\n",
    "* Write down what the application of the product rule to $P(X|Y)$ gives. ((Write this down both ways as above)\n",
    "* Equate both ways of writing down $P(X|Y)$ after applying the product rule to eachother and manipulate the equation such that only one statement of $P(\\cdot)$ is on either the left or right side. Do this 3 different ways"
   ]
  },
  {
   "cell_type": "markdown",
   "metadata": {},
   "source": []
  },
  {
   "cell_type": "markdown",
   "metadata": {},
   "source": [
    "## All probabilities are conditional probabilities\n",
    "\n",
    "This is less a point of technicality, rather more on the side of interpretation. It is very much in line with how we should think of $P(A|B)$ as only a function of $A$. Said another way, $P(A|B)$ should hold the same meaning as $P(X)$ in the sense that we are only considering the distribution over one variable, the one to the left of the verticle bar (and when there is only one variable you can imagine there is a verticle bar, with some prior information being conditioned on). \n",
    "\n",
    "Keeping this view in mind, then it is easy to apply the chain rule while holding a conditioning set constant: \n",
    "\n",
    "$$P(A, B | C) = P(A|B, C)P(B|C)$$\n",
    "\n",
    "the same applies when we use Bayes rule.\n",
    "\n",
    "## Q.3\n",
    "\n",
    "* Write down what $P(X, Y, Z| A, C)$ is aftering using the product rule to expand it as a product of 2 terms (e.g. the answer should be of the form: $P(X, Y, Z | A, C) = P(\\cdot)P(\\cdot)$"
   ]
  },
  {
   "cell_type": "markdown",
   "metadata": {},
   "source": []
  },
  {
   "cell_type": "markdown",
   "metadata": {},
   "source": [
    "## Reverting from marginals to joint probabilities\n",
    "\n",
    "If you're working on a problem that has been considering the joint distribution of two variables: $P(A,B)$ and at times an equation or term is written down where somehow $P(A,B)$ turns into $P(A)$ or $P(B)$, it is because of the following: \n",
    "\n",
    "$$P(B) = \\sum_{A_i \\in A}P(B|A_i)P(A_i)$$\n",
    "\n",
    "or, in the continuous case (above $A$ is discrete):\n",
    "\n",
    "$$P(B) = \\int_{A_i \\in A} \\mathop{dA} P(B|A_i)P(A_i)$$\n",
    "\n",
    "## Q.4\n",
    "\n",
    "* We have $P(A|C,Y)$, and we got this from $P(A, Z, X | C, Y)$, $Z$ is a discrete variable and $X$ is a continous variable. Fully show what steps are carried out to get from $P(A,Z,X|C,Y)$ to $P(A | C, Y)$"
   ]
  },
  {
   "cell_type": "markdown",
   "metadata": {},
   "source": []
  },
  {
   "cell_type": "markdown",
   "metadata": {},
   "source": [
    "## Manipulation with Bayes rule\n",
    "\n",
    "Bayes rule tells you how to compute a particular conditional probability, from a different conditional probability, in particular if we want $P(A|B)$ but only have $P(B|A)$ (and a some additional information) we can use Bayes rule to get at the desired quantity. Using: \n",
    "\n",
    "$$P(A|B) = \\frac{P(B|A)P(A)}{P(B)}$$\n",
    "\n",
    "some things to note, in modeling: \n",
    "\n",
    "$P(A)$ is often called the prior\n",
    "\n",
    "$P(B|A)$ is often called the likelihood \n",
    "\n",
    "$P(B)$ is often called the marginal evidence\n",
    "\n",
    "$P(A|B)$ is called the posterior\n",
    "\n",
    "## Q.5\n",
    "\n",
    "* Use Bayes rule to write down $P(Z|Y)$ as a product of the likelihood and prior, divided by the maringal evidence"
   ]
  },
  {
   "cell_type": "markdown",
   "metadata": {},
   "source": []
  },
  {
   "cell_type": "markdown",
   "metadata": {},
   "source": [
    "At the risk of beating a dead horse, let's try to give the different variables in Bayes rule a bit of meaning to help us remember how to apply it in general. \n",
    "\n",
    "$P(A|B)$ considers the probability of $A$, after incorporating the information about $B$.\n",
    "\n",
    "$P(B|A)$ is the current evidence for $B$, taking into acount what we know about some particular aspect of $A$\n",
    "\n",
    "$P(A)$ is our prior knowledge of some particular aspect of $A$\n",
    "\n",
    "$P(B)$ is a marginal probability, where we have \"marginalized out\" $A$, that is, it is $P(B|A)P(A)$ for all possible values of $A$"
   ]
  },
  {
   "cell_type": "markdown",
   "metadata": {},
   "source": [
    "## Additional exercises\n",
    "\n",
    "* Consider the term $\\frac{P(A,B|Z, C)}{P(B|Z, C)}$, write down the full set of steps needed to get to $P(A | B, Z, C)$"
   ]
  },
  {
   "cell_type": "markdown",
   "metadata": {},
   "source": []
  },
  {
   "cell_type": "markdown",
   "metadata": {},
   "source": [
    "* Write down what rule you're using at each step, for the above question"
   ]
  },
  {
   "cell_type": "markdown",
   "metadata": {},
   "source": []
  },
  {
   "cell_type": "markdown",
   "metadata": {},
   "source": [
    "* Fully expand $P(B|Z, C)$ in the above to show what is being marginalized out"
   ]
  },
  {
   "cell_type": "markdown",
   "metadata": {},
   "source": []
  },
  {
   "cell_type": "markdown",
   "metadata": {},
   "source": [
    "* Use Bayes rule to write down the posterior of $P(B| A, X)$ in terms of $X$"
   ]
  },
  {
   "cell_type": "code",
   "execution_count": null,
   "metadata": {},
   "outputs": [],
   "source": []
  }
 ],
 "metadata": {
  "kernelspec": {
   "display_name": "Python 3",
   "language": "python",
   "name": "python3"
  },
  "language_info": {
   "codemirror_mode": {
    "name": "ipython",
    "version": 3
   },
   "file_extension": ".py",
   "mimetype": "text/x-python",
   "name": "python",
   "nbconvert_exporter": "python",
   "pygments_lexer": "ipython3",
   "version": "3.7.0"
  }
 },
 "nbformat": 4,
 "nbformat_minor": 4
}
