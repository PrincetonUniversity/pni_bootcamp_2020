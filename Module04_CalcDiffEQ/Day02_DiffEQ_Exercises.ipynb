{
 "cells": [
  {
   "cell_type": "markdown",
   "metadata": {},
   "source": [
    "# Module 4: Calculus & Differential Equations\n",
    "\n",
    "---\n",
    "\n",
    "# Day 2: Differential equations exercises"
   ]
  },
  {
   "cell_type": "code",
   "execution_count": 1,
   "metadata": {},
   "outputs": [],
   "source": [
    "%matplotlib inline\n",
    "import numpy as np\n",
    "import scipy.stats as stats\n",
    "import matplotlib.pyplot as plt\n",
    "import numpy.linalg as lin\n",
    "from scipy.io import loadmat\n",
    "from mpl_toolkits.mplot3d import Axes3D"
   ]
  },
  {
   "cell_type": "markdown",
   "metadata": {},
   "source": [
    "## 1. LIF model with time-varying input current\n",
    "\n",
    "In our lecture example of the LIF model, we used a constant $I_{input}$ for simplicity and to allow for a tractable analytical solution. However, the problem becomes much more interesting when $I_{input}$ also varies with time, such that:\n",
    "\n",
    "$$\n",
    "C \\frac{dV}{dt} = (E_\\text{leak} - V) \\frac{1}{R} + I(t)\n",
    "$$\n",
    "\n",
    "Assuming $RC = 20 ms$, $E_{leak} = -70 mV$, and $V_0 = -70 mV$, use Euler's method with stepsize $1 ms$ to model the above differential equation with the following input currents:\n",
    "\n",
    "1. $I(t)$ is a step-function, where $I(t) = 1000C$ amps for $250$ ms $< t < 750$ ms and $I(t) = 0$ everywhere else.\n",
    "2. $I(t) = I_0\\sin(\\omega t)$, where $I_0 = 1000C$ amps and angular frequency $\\omega = 10$\n",
    "\n",
    "**Note:** Don't think too hard about the $C$ in the input current functions -- this is just to \"cancel out\" the $C$ in the differential equation when it gets moved to the right side."
   ]
  },
  {
   "cell_type": "code",
   "execution_count": null,
   "metadata": {},
   "outputs": [],
   "source": [
    "# 0. initialize constants\n",
    "\n",
    "# 1. make a function for the input current\n",
    "# step function\n",
    "    \n",
    "# sinusoid      \n",
    "\n",
    "            \n",
    "\n",
    "# 2. function for membrane potential dynamics\n",
    "\n",
    "# 3. apply Euler's method   \n",
    "    \n",
    "    \n",
    "# 4. plot results\n",
    "# include a plot for both the membrane potential and the input current"
   ]
  },
  {
   "cell_type": "markdown",
   "metadata": {},
   "source": [
    "## 2. Drift-diffusion model\n",
    "Another commmon dynamical system that's studied in neuroscience is known as the *drift-diffusion model*. The drift-diffusion model is applied to tasks involving *evidence accumulation* towards one of two available choices. One such task is known as the *towers task*, where mice run down a virtual hallway counting towers that appear to its left and right. The side with the higher number of towers by the end of the hallway corresponds to the correct choice, where if the mouse turns to the side with more towers, it will collect reward. A visualization of what this task looks like to the mouse is shown below (from Engelhard et al., 2019, *Nature*)."
   ]
  },
  {
   "cell_type": "code",
   "execution_count": 2,
   "metadata": {},
   "outputs": [
    {
     "data": {
      "text/html": [
       "\n",
       "<div align=\"middle\">\n",
       "<video width=\"60%\" controls>\n",
       "      <source src=\"41586_2019_1261_MOESM2_ESM.mp4\" type=\"video/mp4\">\n",
       "</video></div>"
      ],
      "text/plain": [
       "<IPython.core.display.HTML object>"
      ]
     },
     "execution_count": 2,
     "metadata": {},
     "output_type": "execute_result"
    }
   ],
   "source": [
    "from IPython.display import HTML\n",
    "\n",
    "HTML(\"\"\"\n",
    "<div align=\"middle\">\n",
    "<video width=\"60%\" controls>\n",
    "      <source src=\"41586_2019_1261_MOESM2_ESM.mp4\" type=\"video/mp4\">\n",
    "</video></div>\"\"\")"
   ]
  },
  {
   "cell_type": "markdown",
   "metadata": {},
   "source": [
    "The drift-diffusion model describes how a descition variable $C$ changes in response to evidence $v$ you're accumulating over time. This starts with a very simple differential equation:\n",
    "\n",
    "$$\n",
    "\\frac{dC}{dt} = v\n",
    "$$\n",
    "\n",
    "This can be solved by integrating the equation:\n",
    "\n",
    "$$\n",
    "dC = vdt\n",
    "$$\n",
    "\n",
    "For the towers task, $v$ is something like a step function, with positive steps corresponding to towers on the left and negative steps corresponding to towers on the right. Integrating these steps over time gives you a decision variable $C$, which will bias the mouse towards the left if positive, and bias the mouse towards the right if negative. However, this is *not* the full drift-diffusion model. This is more like a *drift* model; where does the *diffusion* come in? You can imagine that mice, as well as most animals, are not going to be perfect in their counting of the towers. They might get distracted and miss some, or forget how many they have seen half way through, or mistake something for a tower that didn't actually appear. To account for this, we need to add in a *diffusion* term that adds noise to the evidence accumulation. This can be done by adding a random variable drawn from a Gaussian:\n",
    "\n",
    "$$\n",
    "dC = vdt + wN(0,1)\n",
    "$$\n",
    "\n",
    "where $w$ is the weight of the diffusion, or how strongly it influences the decision variable. You may be wondering: why isn't the diffusion term included in the integral? This is because the animal isn't *accumulating* the noise -- it's merely affecting the evidence independently and randomply at each time step. Because of this, when applying Euler's method, the noise term will be *excluded* from the differential function and instead added at the end.\n",
    "\n",
    "Lets start by approximating the decision variable $C$ with constant evidence $v = 1$ and noise weight $w = 0.7$. Use $dt = 0.02 s$ and $C(0) = 0$, and approximate the model out to $5$ seconds. Run this at least 5 times and plot the results together."
   ]
  },
  {
   "cell_type": "code",
   "execution_count": null,
   "metadata": {},
   "outputs": [],
   "source": [
    "# 0. initialize variables\n",
    "\n",
    "# 1. use Euler's method to approximate C\n",
    "# tip: use a for loop to store C for multiple iterations\n",
    "    \n",
    "# 2. plot results"
   ]
  },
  {
   "cell_type": "markdown",
   "metadata": {},
   "source": [
    "You may notice that the model will continue accumulating indefinitely; oftentimes, the model contains some bound that signifies when sufficient evidence has been accumulated and a decision can be made. You'll learn more about this in your core courses.\n",
    "\n",
    "What if the evidence $v$ varied with time? Repeat the above simulation but this time have $v$ vary randomly across timesteps according to $v = 0.5 + N(0,1)$"
   ]
  },
  {
   "cell_type": "code",
   "execution_count": null,
   "metadata": {},
   "outputs": [],
   "source": [
    "# 0. initialize variables\n",
    "\n",
    "# 1. use Euler's method to approximate C\n",
    "# tip: use a for loop to store C for multiple iterations\n",
    "\n",
    "    \n",
    "# 2. plot results\n"
   ]
  },
  {
   "cell_type": "markdown",
   "metadata": {},
   "source": [
    "What if $v$ were a function, like a step function corresponding to towers in the towers task? See if you can think of a way to model the stimulus of this task as a step function with $1$s corresponding to left towers and $-1$s corresponding to right towers. Here are some tips that might help you:\n",
    "1. Think of each simulation as a single trial. We'll assume that the a trial lasts $20$ seconds, and we want to sample every $0.02$s (i.e. $dt = 0.02$)\n",
    "2. The towers on the \"high\" side should be chosen as a poisson random variable with $\\lambda=6$, and the number of towers on the \"low\" side should be chosen with $\\lambda=2$. The high side (either left or right) should be chosen randomly at the beginning of the trial.\n",
    "3. We want each tower to be \"in view\" for $1$ second. In other words, pad a zeros vector with $1$s for $1$ s ($1/dt$ samples) for left towers and $-1$s for right towers\n",
    "4. The towers on each side should be randomly placed throughout the trial with no overlap and no co-occurance of left and right towers. \n",
    "\n",
    "Once you have the stimulus defined, use this as you evidence $v$ that is being accumulated throughout the trial. Use Euler's method to approximate the decision variable $C$ using the same $dt = 0.02$ and noise weight $w = 0.05$. Plot both the towers stimulus and the decision variable on separate plots."
   ]
  },
  {
   "cell_type": "code",
   "execution_count": null,
   "metadata": {},
   "outputs": [],
   "source": [
    "# 0. define variables\n",
    "\n",
    "# 1. construct function for evidence\n",
    "# get the number of towers for each side\n",
    "\n",
    "# randomly place each tower throughout the trial \n",
    "\n",
    "# 2. use Euler's method to approximate the decision variable\n",
    "\n",
    "# 3. plot results\n"
   ]
  },
  {
   "cell_type": "markdown",
   "metadata": {},
   "source": [
    "You can interpret the sign of the decision variable at the end as the *choice* the agent will make, and the magnitude of the decision variable is proportional to the *confidence* of the agent in their choice. How often is the drift-diffusion model making the correct choice?"
   ]
  }
 ],
 "metadata": {
  "kernelspec": {
   "display_name": "Python 3",
   "language": "python",
   "name": "python3"
  },
  "language_info": {
   "codemirror_mode": {
    "name": "ipython",
    "version": 3
   },
   "file_extension": ".py",
   "mimetype": "text/x-python",
   "name": "python",
   "nbconvert_exporter": "python",
   "pygments_lexer": "ipython3",
   "version": "3.7.3"
  }
 },
 "nbformat": 4,
 "nbformat_minor": 2
}
