{
 "cells": [
  {
   "cell_type": "markdown",
   "metadata": {},
   "source": [
    "# Module 4: Calculus & Differential Equations\n",
    "\n",
    "---\n",
    "\n",
    "# Day 2: Differential equations exercises"
   ]
  },
  {
   "cell_type": "code",
   "execution_count": 2,
   "metadata": {},
   "outputs": [],
   "source": [
    "%matplotlib inline\n",
    "import numpy as np\n",
    "import scipy.stats as stats\n",
    "import matplotlib.pyplot as plt\n",
    "import numpy.linalg as lin\n",
    "from scipy.io import loadmat\n",
    "from mpl_toolkits.mplot3d import Axes3D"
   ]
  },
  {
   "cell_type": "markdown",
   "metadata": {},
   "source": [
    "## 1. LIF model with time-varying input current\n",
    "\n",
    "In our lecture example of the LIF model, we used a constant $I_{input}$ for simplicity and to allow for a tractable analytical solution. However, the problem becomes much more interesting when $I_{input}$ also varies with time, such that:\n",
    "\n",
    "$$\n",
    "C \\frac{dV}{dt} = (E_\\text{leak} - V) \\frac{1}{R} + I(t)\n",
    "$$\n",
    "\n",
    "Assuming $RC = 20 ms$, $E_{leak} = -70 mV$, and $V_0 = -70 mV$, use Euler's method to model the above differential equation with the following input currents:\n",
    "\n",
    "1. $I(t)$ is a step-function, where $I(t) = 1000C$ amps for $250$ ms $< t < 750$ ms and $I(t) = 0$ everywhere else.\n",
    "2. $I(t) = I_0\\sin(\\omega t)$, where $I_0 = 1000C$ amps and angular frequency $\\omega = 10$\n",
    "\n",
    "**Note:** Don't think too hard about the $C$ in the input current functions -- this is just to \"cancel out\" the $C$ in the differential equation when it gets moved to the right side."
   ]
  },
  {
   "cell_type": "code",
   "execution_count": 16,
   "metadata": {},
   "outputs": [
    {
     "data": {
      "image/png": "[encoded data removed]",
      "text/plain": [
       "<Figure size 720x432 with 1 Axes>"
      ]
     },
     "metadata": {
      "needs_background": "light"
     },
     "output_type": "display_data"
    }
   ],
   "source": [
    "# initialize constants\n",
    "RC = 0.02\n",
    "E_leak = -70\n",
    "V_init = -70\n",
    "\n",
    "# input current\n",
    "def I_in(t):\n",
    "    return 1000*np.sin(10*t)\n",
    "            \n",
    "\n",
    "# membrane potential dynamics\n",
    "def dV_dt(V,t):\n",
    "    return (E_ion-V)/RC + I_in(t)\n",
    "\n",
    "# Euler's method\n",
    "h = 0.001\n",
    "t = np.arange(0,1,h)\n",
    "V_em = np.zeros_like(t)\n",
    "N = np.size(t)\n",
    "V_em[0] = V_init\n",
    "for n in np.arange(1,N):\n",
    "    V_em[n] = h*dV_dt(V_em[n-1],t[n-1]) + V_em[n-1]\n",
    "    \n",
    "    \n",
    "# plotting\n",
    "_, ax = plt.subplots(figsize=(10,6))\n",
    "ax.plot(t,V_em)\n",
    "ax.plot(t,E_ion*np.ones_like(t),'k--')\n",
    "ax.axhline(y=0, color='k')\n",
    "ax.axvline(x=0, color='k');\n",
    "ax.set_title(\"Membrane potential\");\n",
    "ax.set_xlabel(\"time (s)\")\n",
    "ax.set_ylabel(\"potential (mV)\");\n",
    "    "
   ]
  },
  {
   "cell_type": "markdown",
   "metadata": {},
   "source": [
    "## 2. Drift-diffusion model\n"
   ]
  },
  {
   "cell_type": "code",
   "execution_count": 18,
   "metadata": {},
   "outputs": [
    {
     "data": {
      "text/html": [
       "\n",
       "<div align=\"middle\">\n",
       "<video width=\"60%\" controls>\n",
       "      <source src=\"41586_2019_1261_MOESM2_ESM.mp4\" type=\"video/mp4\">\n",
       "</video></div>"
      ],
      "text/plain": [
       "<IPython.core.display.HTML object>"
      ]
     },
     "execution_count": 18,
     "metadata": {},
     "output_type": "execute_result"
    }
   ],
   "source": [
    "from IPython.display import HTML\n",
    "\n",
    "HTML(\"\"\"\n",
    "<div align=\"middle\">\n",
    "<video width=\"60%\" controls>\n",
    "      <source src=\"41586_2019_1261_MOESM2_ESM.mp4\" type=\"video/mp4\">\n",
    "</video></div>\"\"\")"
   ]
  },
  {
   "cell_type": "code",
   "execution_count": null,
   "metadata": {},
   "outputs": [],
   "source": []
  }
 ],
 "metadata": {
  "kernelspec": {
   "display_name": "Python 3",
   "language": "python",
   "name": "python3"
  },
  "language_info": {
   "codemirror_mode": {
    "name": "ipython",
    "version": 3
   },
   "file_extension": ".py",
   "mimetype": "text/x-python",
   "name": "python",
   "nbconvert_exporter": "python",
   "pygments_lexer": "ipython3",
   "version": "3.7.3"
  }
 },
 "nbformat": 4,
 "nbformat_minor": 2
}
