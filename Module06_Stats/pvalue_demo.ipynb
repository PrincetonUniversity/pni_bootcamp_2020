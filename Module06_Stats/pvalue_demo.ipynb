{
 "cells": [
  {
   "cell_type": "code",
   "execution_count": 1,
   "metadata": {},
   "outputs": [],
   "source": [
    "import numpy as np\n",
    "import matplotlib.pyplot as plt\n",
    "import seaborn as sns\n",
    "from scipy.stats import ttest_ind\n",
    "sns.set_style('white')\n",
    "sns.set_context('notebook', font_scale=1.5)\n",
    "%matplotlib inline"
   ]
  },
  {
   "cell_type": "markdown",
   "metadata": {},
   "source": [
    "## Exercise 1: Empirical p-values\n",
    "\n",
    "Simulate random data for two groups."
   ]
  },
  {
   "cell_type": "code",
   "execution_count": 2,
   "metadata": {},
   "outputs": [],
   "source": [
    "np.random.seed(47404)\n",
    "\n",
    "## Define parameters: group A.\n",
    "N_a = 100\n",
    "mu_a = 1\n",
    "sd_a = 3\n",
    "\n",
    "## Define parameters: group B.\n",
    "N_b = 100\n",
    "mu_b = 0\n",
    "sd_b = 3\n",
    "\n",
    "## Simulate data.\n",
    "A = np.random.normal(mu_a, sd_a, N_a)\n",
    "B = np.random.normal(mu_b, sd_b, N_b)"
   ]
  },
  {
   "cell_type": "markdown",
   "metadata": {},
   "source": [
    "Compute the true t-statistic and p-value."
   ]
  },
  {
   "cell_type": "code",
   "execution_count": 3,
   "metadata": {},
   "outputs": [
    {
     "name": "stdout",
     "output_type": "stream",
     "text": [
      "2.1584316104281203 0.03209770345245153\n"
     ]
    }
   ],
   "source": [
    "t_true, p_true = ttest_ind(A, B)\n",
    "print(t_true, p_true)"
   ]
  },
  {
   "cell_type": "markdown",
   "metadata": {},
   "source": [
    "Simulate permuted t-statistics."
   ]
  },
  {
   "cell_type": "code",
   "execution_count": 4,
   "metadata": {},
   "outputs": [
    {
     "data": {
      "image/png": "[encoded data removed]",
      "text/plain": [
       "<Figure size 576x288 with 1 Axes>"
      ]
     },
     "metadata": {
      "needs_background": "light"
     },
     "output_type": "display_data"
    }
   ],
   "source": [
    "## Define parameters.\n",
    "n_perm = 5000\n",
    "\n",
    "## Preallocate space.\n",
    "t_perm = np.zeros(n_perm)\n",
    "\n",
    "## Main loop.\n",
    "obs = np.concatenate([A,B])\n",
    "for i in range(t_perm.size):\n",
    "    \n",
    "    ## Shuffle observations.\n",
    "    np.random.shuffle(obs)\n",
    "    \n",
    "    ## Divide into random groups.\n",
    "    A_perm = obs[:N_a]\n",
    "    B_perm = obs[N_b:]\n",
    "    \n",
    "    ## Compute and store permuted t-statistic.\n",
    "    t_perm[i], _ = ttest_ind(A_perm, B_perm)\n",
    "    \n",
    "## Plot distribution.\n",
    "fig, ax = plt.subplots(1,1,figsize=(8,4))\n",
    "sns.distplot(t_perm, kde=False, ax=ax)\n",
    "ax.vlines([-t_true, t_true], 0, 400, lw=0.5, linestyle='--')\n",
    "ax.set(xlabel='t-statistic', yticks=[], ylim=(0,400), title='permutation test')\n",
    "\n",
    "sns.despine(left=True)\n",
    "plt.tight_layout()"
   ]
  },
  {
   "cell_type": "markdown",
   "metadata": {},
   "source": [
    "Compute the empirical p-value."
   ]
  },
  {
   "cell_type": "code",
   "execution_count": 5,
   "metadata": {},
   "outputs": [
    {
     "name": "stdout",
     "output_type": "stream",
     "text": [
      "empirical p-value: 0.0298\n"
     ]
    }
   ],
   "source": [
    "p_perm = (np.abs(t_perm) > t_true).mean()\n",
    "print('empirical p-value:', p_perm)"
   ]
  },
  {
   "cell_type": "markdown",
   "metadata": {},
   "source": [
    "## Exercise 2: p-values as random variables\n",
    "\n",
    "Simulate the distribution of p-values for a comparison of two (normally distributed) samples."
   ]
  },
  {
   "cell_type": "code",
   "execution_count": 6,
   "metadata": {},
   "outputs": [
    {
     "data": {
      "image/png": "[encoded data removed]",
      "text/plain": [
       "<Figure size 576x288 with 1 Axes>"
      ]
     },
     "metadata": {
      "needs_background": "light"
     },
     "output_type": "display_data"
    }
   ],
   "source": [
    "np.random.seed(47404)\n",
    "\n",
    "## Define parameters.\n",
    "n_sim = 1000\n",
    "\n",
    "## Define parameters: group A.\n",
    "N_a = 100\n",
    "mu_a = 1\n",
    "sd_a = 3\n",
    "\n",
    "## Define parameters: group B.\n",
    "N_b = 100\n",
    "mu_b = 0\n",
    "sd_b = 3\n",
    "\n",
    "## Preallocate space.\n",
    "p_values = np.zeros(n_sim)\n",
    "\n",
    "for i in range(n_sim):\n",
    "\n",
    "    ## Simulate data.\n",
    "    A = np.random.normal(mu_a, sd_a, N_a)\n",
    "    B = np.random.normal(mu_b, sd_b, N_b)\n",
    "    \n",
    "    ## Compute and store permuted p-value.\n",
    "    _, p_values[i] = ttest_ind(A, B)\n",
    "    \n",
    "## Plot distribution.\n",
    "fig, ax = plt.subplots(1,1,figsize=(8,4))\n",
    "sns.distplot(p_values, kde=False, ax=ax)\n",
    "ax.axvline(0.05, color='k', lw=0.8, linestyle='--')\n",
    "ax.set(xlabel='p-values', yticks=[])\n",
    "\n",
    "sns.despine(left=True)\n",
    "plt.tight_layout()"
   ]
  },
  {
   "cell_type": "markdown",
   "metadata": {},
   "source": [
    "## Exercise 3: p-values under null hypothesis\n",
    "\n",
    "Simulate the distribution of p-values under the hypothesis ($\\mu_1 = \\mu_2$)."
   ]
  },
  {
   "cell_type": "code",
   "execution_count": 7,
   "metadata": {},
   "outputs": [
    {
     "name": "stdout",
     "output_type": "stream",
     "text": [
      "0.0564\n"
     ]
    },
    {
     "data": {
      "image/png": "[encoded data removed]",
      "text/plain": [
       "<Figure size 576x288 with 1 Axes>"
      ]
     },
     "metadata": {
      "needs_background": "light"
     },
     "output_type": "display_data"
    }
   ],
   "source": [
    "np.random.seed(47404)\n",
    "\n",
    "## Define parameters.\n",
    "n_sim = 10000\n",
    "\n",
    "## Define parameters: group A.\n",
    "N_a = 100\n",
    "mu_a = 0\n",
    "sd_a = 3\n",
    "\n",
    "## Define parameters: group B.\n",
    "N_b = 100\n",
    "mu_b = 0\n",
    "sd_b = 3\n",
    "\n",
    "## Preallocate space.\n",
    "p_values = np.zeros(n_sim)\n",
    "\n",
    "for i in range(n_sim):\n",
    "\n",
    "    ## Simulate data.\n",
    "    A = np.random.normal(mu_a, sd_a, N_a)\n",
    "    B = np.random.normal(mu_b, sd_b, N_b)\n",
    "    \n",
    "    ## Compute and store permuted p-value.\n",
    "    _, p_values[i] = ttest_ind(A, B)\n",
    "    \n",
    "## Compute fraction of significant p-values.\n",
    "print(np.mean(p_values < 0.05))\n",
    "    \n",
    "## Plot distribution.\n",
    "fig, ax = plt.subplots(1,1,figsize=(8,4))\n",
    "sns.distplot(p_values, kde=False, ax=ax)\n",
    "ax.axvline(0.05, color='k', lw=0.8, linestyle='--')\n",
    "ax.set(xlabel='p-values', yticks=[])\n",
    "\n",
    "sns.despine(left=True)\n",
    "plt.tight_layout()"
   ]
  },
  {
   "cell_type": "markdown",
   "metadata": {},
   "source": [
    "## Exercise 4: p-values under alternative hypothesis\n",
    "\n",
    "Simulate the distribution of p-values under the alternative ($\\mu_1 \\neq \\mu_2$)."
   ]
  },
  {
   "cell_type": "code",
   "execution_count": 8,
   "metadata": {},
   "outputs": [
    {
     "name": "stdout",
     "output_type": "stream",
     "text": [
      "0.6567\n"
     ]
    },
    {
     "data": {
      "image/png": "[encoded data removed]",
      "text/plain": [
       "<Figure size 576x288 with 1 Axes>"
      ]
     },
     "metadata": {
      "needs_background": "light"
     },
     "output_type": "display_data"
    }
   ],
   "source": [
    "np.random.seed(47404)\n",
    "\n",
    "## Define parameters.\n",
    "n_sim = 10000\n",
    "\n",
    "## Define parameters: group A.\n",
    "N_a = 100\n",
    "mu_a = 1\n",
    "sd_a = 3\n",
    "\n",
    "## Define parameters: group B.\n",
    "N_b = 100\n",
    "mu_b = 0\n",
    "sd_b = 3\n",
    "\n",
    "## Preallocate space.\n",
    "p_values = np.zeros(n_sim)\n",
    "\n",
    "for i in range(n_sim):\n",
    "\n",
    "    ## Simulate data.\n",
    "    A = np.random.normal(mu_a, sd_a, N_a)\n",
    "    B = np.random.normal(mu_b, sd_b, N_b)\n",
    "    \n",
    "    ## Compute and store permuted p-value.\n",
    "    _, p_values[i] = ttest_ind(A, B)\n",
    "    \n",
    "## Compute fraction of significant p-values.\n",
    "print(np.mean(p_values < 0.05))\n",
    "    \n",
    "## Plot distribution.\n",
    "fig, ax = plt.subplots(1,1,figsize=(8,4))\n",
    "sns.distplot(p_values, kde=False, ax=ax)\n",
    "ax.set(xlabel='p-values', yticks=[])\n",
    "ax.axvline(0.05, color='k', lw=0.8, linestyle='--')\n",
    "\n",
    "sns.despine(left=True)\n",
    "plt.tight_layout()"
   ]
  }
 ],
 "metadata": {
  "kernelspec": {
   "display_name": "Python 3",
   "language": "python",
   "name": "python3"
  },
  "language_info": {
   "codemirror_mode": {
    "name": "ipython",
    "version": 3
   },
   "file_extension": ".py",
   "mimetype": "text/x-python",
   "name": "python",
   "nbconvert_exporter": "python",
   "pygments_lexer": "ipython3",
   "version": "3.7.4"
  }
 },
 "nbformat": 4,
 "nbformat_minor": 4
}
