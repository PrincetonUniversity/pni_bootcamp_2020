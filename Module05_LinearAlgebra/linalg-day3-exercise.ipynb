{
 "cells": [
  {
   "cell_type": "markdown",
   "metadata": {},
   "source": [
    "# Exercise: PCA on Neural data\n",
    "\n",
    "In this exercise, you'll examine a neural dataset and replicate a figure from Russo et al. 2020. In this article, Russo et al. examined neural representations in the Supplementary Motor Area (SMA) and Motor Cortex (M1) while monkeys performed a task involving cycling a hand pedal some number of times.\n",
    "\n",
    "<img src=\"images/russo-task.jpg\" width=\"80%\" />\n",
    "\n",
    "They find really interesting (and beautiful) structure in M1 (Fig. A and B below, each for a different monkey) and SMA (Fig. C and D below, each also for a different monkey) using a Principal Components Analysis. The top PCs represent the seven cycles monkeys had to perform to accomplish the task, though SMA's representation seems to additionally reflect time or task progress.\n",
    "\n",
    "<img src=\"images/russo-manifold.jpg\" width=\"80%\" />\n",
    "\n",
    "Abigail A. Russo, ..., Mark M. Churchland,\n",
    "(2020) Neural Trajectories in the Supplementary Motor Area and Motor Cortex Exhibit Distinct Geometries, Compatible with Different Classes of Computation. Neuron.\n"
   ]
  },
  {
   "cell_type": "markdown",
   "metadata": {},
   "source": [
    "## Exercise\n",
    "\n",
    "In this exercise, you'll replicate the above figure.\n",
    "\n",
    "We'll download the data from [Russo's GitHub](https://github.com/aarusso/trajectory-divergence#datasets) which includes details on the data format. You can run the below cell to download the data."
   ]
  },
  {
   "cell_type": "code",
   "execution_count": null,
   "metadata": {},
   "outputs": [],
   "source": [
    "!curl -sL https://github.com/aarusso/trajectory-divergence/raw/master/M1_sampleData.mat -o M1_sampleData.mat\n",
    "!curl -sL https://github.com/aarusso/trajectory-divergence/raw/master/SMA_sampleData.mat -o SMA_sampleData.mat"
   ]
  },
  {
   "cell_type": "markdown",
   "metadata": {},
   "source": [
    "Now we'll load the data for the SMA. It's a bit cumbersome in Python, so below I've made sure all of Russo's notes from GitHub are included.\n",
    "\n",
    "Our neural data is set to a variable below and has shape 5330 (number of time units) x 77 (number of neurons). We're ultimately looking to reduce the dimensionality in terms of neurons."
   ]
  },
  {
   "cell_type": "code",
   "execution_count": null,
   "metadata": {},
   "outputs": [],
   "source": [
    "from scipy.io import loadmat\n",
    "import sklearn.decomposition\n",
    "import numpy as np\n",
    "import matplotlib.pyplot as plt\n",
    "from mpl_toolkits.mplot3d import Axes3D\n",
    "%matplotlib inline"
   ]
  },
  {
   "cell_type": "code",
   "execution_count": null,
   "metadata": {},
   "outputs": [],
   "source": [
    "data = loadmat('SMA_sampleData.mat', squeeze_me=True)['D_sma']\n",
    "print('SMA keys:', data.dtype)\n",
    "\n",
    "neural_data = data['A'][0]\n",
    "print('neural data shape', neural_data.shape)"
   ]
  },
  {
   "cell_type": "markdown",
   "metadata": {},
   "source": [
    "Now we can do PCA! Refer back to lecture to choose a way to implement this. Think carefully about what dimensionality of your input to PCA; We want to preserve the time dimension (size 5330), while reducing the dimensionality of the nueral dimension (size 77). If you're using `sklearn`, check out the documentation for `PCA.fit()` [here](https://scikit-learn.org/stable/modules/generated/sklearn.decomposition.PCA.html#sklearn.decomposition.PCA.fit), you'll have to think about what our \"samples\" and \"features\" are. Make sure that you understand the shape of your principal components, which you can access with `.components_` after running `fit()` on an instance of `PCA()`."
   ]
  },
  {
   "cell_type": "code",
   "execution_count": null,
   "metadata": {},
   "outputs": [],
   "source": [
    "# Answer here"
   ]
  },
  {
   "cell_type": "markdown",
   "metadata": {},
   "source": [
    "Now, try plotting the top PCs! You can try plotting them in 2D, or adapt this example code to plot in 3D\n",
    "```python\n",
    "f = plt.figure()\n",
    "ax = f.add_subplot(111, projection='3d')\n",
    "ax.plot(x, y, z) # add your 3 PCs here, replace x, y, z\n",
    "ax.view_init(elev=45, azim=45) # You can change the angle of rendering here\n",
    "```\n",
    "\n",
    "If you're plotting in 3D, you may need to adjust the angle of rendering.\n",
    "\n",
    "Bonus: find a way to get the color of the line to change over time. A good guide for multicolored 2D lines is [here](https://matplotlib.org/3.1.1/gallery/lines_bars_and_markers/multicolored_line.html), and one for multicolored 3D lines is [here](https://stackoverflow.com/a/22079775). An alternative is to simply draw a line between each pair of time points, changing the color based on the current timepoint.\n",
    "\n",
    "**Question**: What do the top 3 PCs seem to represent?"
   ]
  },
  {
   "cell_type": "code",
   "execution_count": null,
   "metadata": {},
   "outputs": [],
   "source": [
    "# Answer here"
   ]
  },
  {
   "cell_type": "code",
   "execution_count": null,
   "metadata": {},
   "outputs": [],
   "source": []
  }
 ],
 "metadata": {
  "kernelspec": {
   "display_name": "Python 3",
   "language": "python",
   "name": "python3"
  },
  "language_info": {
   "codemirror_mode": {
    "name": "ipython",
    "version": 3
   },
   "file_extension": ".py",
   "mimetype": "text/x-python",
   "name": "python",
   "nbconvert_exporter": "python",
   "pygments_lexer": "ipython3",
   "version": "3.7.7"
  }
 },
 "nbformat": 4,
 "nbformat_minor": 4
}
