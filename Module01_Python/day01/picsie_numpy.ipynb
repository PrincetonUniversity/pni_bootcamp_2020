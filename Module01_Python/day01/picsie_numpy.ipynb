{
 "cells": [
  {
   "cell_type": "markdown",
   "metadata": {},
   "source": [
    "# Introduction to Numpy"
   ]
  },
  {
   "cell_type": "markdown",
   "metadata": {},
   "source": [
    "## The Tao of Numpy\n",
    "\n",
    "Numpy is the foundation upon which the entire Python scientific stack is built. Its general behavior (which takes some getting used to) and its power flow from an ethos that differs from that of vanilla Python in two main ways:\n",
    "\n",
    "* **One data, many views:**  Humans tend to conceptualize mathematical objects using hiearchies of abstractions (vectors, rows vs. columns, matrices, tables, spreadsheets with tabs, etc) that help us visualize or otherwise get a handle on what mathematical objects are and what they mean in a given context.  But to computers, all numerical data is fundamentally 1D -- just a chain of bytes.  In fact, the same 1D chain of bytes can represent a bunch of different structures to us depending on how you parse it (including 2D, 3D, or  even 4D data).  Unlike plain Python, Numpy makes this distinction between the \"raw\" data and our *view* of it explicit.\n",
    "\n",
    "* **Vectorization:**  Suppose you have a list of 10,000 timestamps $t$, and for each value, you need to compute $\\frac{1}{2} t^2 + 5t + 4$. That's five operations per $t$ value: square $t$, multiply the result by 1/2, separately multiply $t$ by 5, add those results, and then add 4 to that.  In Python, you perform all five operations on *each* $t$ value, one at a time.  In Numpy, you perform each operation *simultaneously* on *all 10,000 $t$ values or intermediate results*.  Modern computer hardware, including GPUs, work the same way, so that difference is at the heart of Numpy's performance.\n",
    "\n",
    "This hands-on introduction to using Numpy will largely be divided along the above two lines.\n",
    "\n",
    "First, we will explore how Numpy's `ndarray` (N-dimensional array) captures this notion of \"one data, many views\".  This will require delving a little bit into Numpy's internals. This is important -- merely being exposed to this once, even if you constantly have to go look up details afterward to get your Numpy code right (we *all* do that), will save a future you weeks of frustration trying to squash vicious bugs that you just can't wrap your head around. An ounce of prevention really is worth a pound of cure here.\n",
    "\n",
    "Then, once we have `ndarray`'s behavior as a data vessel down, we'll switch our focus to additional infrastructure that Numpy provides -- namely, \"universal functions\", or `ufunc`s and *broadcasting rules* -- that enable *vectorized operations* on those arrays."
   ]
  },
  {
   "cell_type": "markdown",
   "metadata": {},
   "source": [
    "Let's start by importing numpy and checking our version (yours may be a little different -- that's ok)"
   ]
  },
  {
   "cell_type": "code",
   "execution_count": 1,
   "metadata": {},
   "outputs": [
    {
     "name": "stdout",
     "output_type": "stream",
     "text": [
      "1.18.5\n"
     ]
    }
   ],
   "source": [
    "import numpy as np\n",
    "print(np.__version__)"
   ]
  },
  {
   "cell_type": "markdown",
   "metadata": {},
   "source": [
    "## Making arrays\n",
    "\n",
    "### 1D arrays\n",
    "\n",
    "`ndarray`s are often just called \"arrays\" for short.  The easiest way to make one is by passing a Python list, tuple, or range object to the `array()` constructor function:"
   ]
  },
  {
   "cell_type": "code",
   "execution_count": 10,
   "metadata": {},
   "outputs": [
    {
     "name": "stdout",
     "output_type": "stream",
     "text": [
      "[0 1 2]\n",
      "[3. 4. 5. 6.]\n",
      "[ 7  8  9 10]\n"
     ]
    }
   ],
   "source": [
    "arr1 = np.array([0,1,2])\n",
    "arr2 = np.array((3.0,4.0,5.0,6.0))\n",
    "arr3 = np.array((range(7,11)))\n",
    "\n",
    "print(arr1)\n",
    "print(arr2)\n",
    "print(arr3)"
   ]
  },
  {
   "cell_type": "code",
   "execution_count": 6,
   "metadata": {},
   "outputs": [
    {
     "name": "stdout",
     "output_type": "stream",
     "text": [
      "[0, 1, 2] <class 'list'>\n",
      "[0 1 2] <class 'numpy.ndarray'>\n"
     ]
    }
   ],
   "source": [
    "# The outputs in the notebook may look like list, but they aren't lists\n",
    "print([0,1,2], type([0,1,2]))\n",
    "print(arr1, type(arr1))"
   ]
  },
  {
   "cell_type": "markdown",
   "metadata": {},
   "source": [
    "You can also feed arrays into `array()`:"
   ]
  },
  {
   "cell_type": "code",
   "execution_count": 14,
   "metadata": {},
   "outputs": [
    {
     "name": "stdout",
     "output_type": "stream",
     "text": [
      "[0 1 2] <class 'numpy.ndarray'>\n"
     ]
    }
   ],
   "source": [
    "arr4 = np.array(arr1)\n",
    "print(arr4, type(arr4))"
   ]
  },
  {
   "cell_type": "markdown",
   "metadata": {},
   "source": [
    "Numpy has a utility function `arange()` that works largely like its Python counterpart to simplify making an array without a Python list first, along with other common array-generating commands you find in MATLAB or R:"
   ]
  },
  {
   "cell_type": "code",
   "execution_count": 62,
   "metadata": {},
   "outputs": [
    {
     "name": "stdout",
     "output_type": "stream",
     "text": [
      "np.arange(5)        = [0 1 2 3 4]\n",
      "np.zeros(5)         = [0. 0. 0. 0. 0.]\n",
      "np.zeros_like(arr1)         = [0 0 0]\n",
      "np.ones(5)          = [1. 1. 1. 1. 1.]\n",
      "np.ones_like(arr1)         = [1 1 1]\n",
      "np.empty(5)         = [1. 1. 1. 1. 1.]\n",
      "np.empty_like(arr1)         = [1 1 1]\n",
      "np.linspace(0,10,5) = [ 0.   2.5  5.   7.5 10. ]\n",
      "np.logspace(0,2,5) = [  1.           3.16227766  10.          31.6227766  100.        ]\n",
      "np.random.rand(5) = [0.78821671 0.13392728 0.64690817 0.5534075  0.83698021]\n"
     ]
    }
   ],
   "source": [
    "print('np.arange(5)        = %s' %np.arange(5))         # Array of 5 sequential integers.\n",
    "print('np.zeros(5)         = %s' %np.zeros(5))          # Array of 5 zeros.\n",
    "print('np.zeros_like(arr1)         = %s' %np.zeros_like(arr1))          # Array like arr1, with zeros.\n",
    "print('np.ones(5)          = %s' %np.ones(5))           # Array of 5 ones.\n",
    "print('np.ones_like(arr1)         = %s' %np.ones_like(arr1))          # Array like arr1, with ones.\n",
    "print('np.empty(5)         = %s' %np.empty(5))          # Array of 5... whatever was sitting in memory.\n",
    "print('np.empty_like(arr1)         = %s' %np.empty_like(arr1))          # Array like arr1, but empty.\n",
    "print('np.linspace(0,10,5) = %s' %np.linspace(0,10,5))  # Length-5 evenly-spaced array from 0 to 10.\n",
    "print('np.logspace(0,2,5) = %s' %np.logspace(0,2,5))    # Length-5 logarithmically-spaced array.\n",
    "print('np.random.rand(5) = %s' %np.random.rand(5))    # Length-5 random numbers drawn uniformly from [0,1)."
   ]
  },
  {
   "cell_type": "markdown",
   "metadata": {},
   "source": [
    "Like Python's `range`, `arange` even lets you go backward.  Unlike `range`, `arange` lets you do non-integer values and steps:"
   ]
  },
  {
   "cell_type": "code",
   "execution_count": 9,
   "metadata": {},
   "outputs": [
    {
     "name": "stdout",
     "output_type": "stream",
     "text": [
      "[6 5 4 3 2 1]\n",
      "[0.  0.1 0.2 0.3 0.4 0.5 0.6 0.7 0.8 0.9 1.  1.1 1.2 1.3 1.4 1.5 1.6 1.7\n",
      " 1.8 1.9 2.  2.1 2.2 2.3 2.4 2.5 2.6 2.7 2.8 2.9 3.  3.1 3.2 3.3 3.4 3.5\n",
      " 3.6 3.7 3.8 3.9]\n"
     ]
    }
   ],
   "source": [
    "print(np.arange(6,0,-1))\n",
    "print(np.arange(0, 4.0, 0.1))"
   ]
  },
  {
   "cell_type": "markdown",
   "metadata": {},
   "source": [
    "All of the above arrays have been 1D -- you access their elements just like you do in Python lists with only one index (including negative indices). "
   ]
  },
  {
   "cell_type": "code",
   "execution_count": 11,
   "metadata": {},
   "outputs": [
    {
     "name": "stdout",
     "output_type": "stream",
     "text": [
      "arr1[2] =  2\n",
      "arr2[-1] =  6.0\n"
     ]
    }
   ],
   "source": [
    "print(\"arr1[2] = \",arr1[2])\n",
    "print(\"arr2[-1] = \",arr2[-1])"
   ]
  },
  {
   "cell_type": "markdown",
   "metadata": {},
   "source": [
    "### dtypes\n",
    "\n",
    "Unlike lists, Numpy arrays *MUST* have elements that are all of the same type.  The type is reflected in an array attribute `dtype` (`dtype`s themselves have some further complexity that is beyond our scope today):\n"
   ]
  },
  {
   "cell_type": "code",
   "execution_count": 25,
   "metadata": {},
   "outputs": [
    {
     "name": "stdout",
     "output_type": "stream",
     "text": [
      "int64\n",
      "float64\n"
     ]
    }
   ],
   "source": [
    "print(arr1.dtype)\n",
    "print(arr2.dtype)"
   ]
  },
  {
   "cell_type": "markdown",
   "metadata": {},
   "source": [
    "`dtype`s are, in general, *not* the same as Python types.  They are more akin to C data types.  Numpy makes some default inferences based on what you pass it, but you can set the `dtype` to something else by giving the `dtype` keyword argument to `array()` (and to other commands).\n",
    "\n",
    "Numpy also has attributes that show you the size (`itemsize`, in bytes, 1 byte = 8  bits) of each element and of the total array (`nbytes`), as well as how many elements are in the array (`size = nbytes/itemsize`):"
   ]
  },
  {
   "cell_type": "code",
   "execution_count": 33,
   "metadata": {
    "scrolled": true
   },
   "outputs": [
    {
     "name": "stdout",
     "output_type": "stream",
     "text": [
      "[1 2 3] int64 8 3 24\n",
      "[1 2 3] int16 2 3 6\n",
      "[1. 2. 3.] float64 8 3 24\n"
     ]
    }
   ],
   "source": [
    "intarr = np.array([1,2,3])\n",
    "# size = nbytes // itemsize  (need floor division, technically)\n",
    "print(intarr, intarr.dtype, intarr.itemsize, intarr.size, intarr.nbytes)\n",
    "\n",
    "smallintarr = np.array([1,2,3],dtype=np.int16)\n",
    "print(smallintarr, smallintarr.dtype, smallintarr.itemsize, smallintarr.size, smallintarr.nbytes)\n",
    "\n",
    "flarr = np.array([1,2,3],dtype=np.float64)\n",
    "print(flarr, flarr.dtype, flarr.itemsize, flarr.size, flarr.nbytes)"
   ]
  },
  {
   "cell_type": "markdown",
   "metadata": {},
   "source": [
    "Numpy has a few variables that give us some introspection on the available `dtype`s and notations for them (so you don't have to google as much):"
   ]
  },
  {
   "cell_type": "code",
   "execution_count": 26,
   "metadata": {},
   "outputs": [
    {
     "data": {
      "text/plain": [
       "{'Character': 'c',\n",
       " 'Integer': 'bhilqp',\n",
       " 'UnsignedInteger': 'BHILQP',\n",
       " 'Float': 'efdg',\n",
       " 'Complex': 'FDG',\n",
       " 'AllInteger': 'bBhHiIlLqQpP',\n",
       " 'AllFloat': 'efdgFDG',\n",
       " 'Datetime': 'Mm',\n",
       " 'All': '?bhilqpBHILQPefdgFDGSUVOMm'}"
      ]
     },
     "execution_count": 26,
     "metadata": {},
     "output_type": "execute_result"
    }
   ],
   "source": [
    "np.typecodes"
   ]
  },
  {
   "cell_type": "code",
   "execution_count": 27,
   "metadata": {},
   "outputs": [
    {
     "data": {
      "text/plain": [
       "{'int': [numpy.int8, numpy.int16, numpy.int32, numpy.int64],\n",
       " 'uint': [numpy.uint8, numpy.uint16, numpy.uint32, numpy.uint64],\n",
       " 'float': [numpy.float16, numpy.float32, numpy.float64, numpy.float128],\n",
       " 'complex': [numpy.complex64, numpy.complex128, numpy.complex256],\n",
       " 'others': [bool, object, bytes, str, numpy.void]}"
      ]
     },
     "execution_count": 27,
     "metadata": {},
     "output_type": "execute_result"
    }
   ],
   "source": [
    "np.sctypes"
   ]
  },
  {
   "cell_type": "code",
   "execution_count": null,
   "metadata": {},
   "outputs": [],
   "source": [
    "np.sctypeDict  #This is a long output..."
   ]
  },
  {
   "cell_type": "markdown",
   "metadata": {},
   "source": []
  },
  {
   "cell_type": "markdown",
   "metadata": {},
   "source": [
    "### 2D arrays\n",
    "\n",
    "#### From sequences\n",
    "\n",
    "If you pass the `array()` constructor a sequence of suitably-sized Python lists/tuples that would lay out naturally in a grid, it gives you a 2D array (not the difference in visual representation compared to Python lists):"
   ]
  },
  {
   "cell_type": "code",
   "execution_count": 15,
   "metadata": {},
   "outputs": [
    {
     "name": "stdout",
     "output_type": "stream",
     "text": [
      "[[1, 2, 3], [4, 5, 6]] <class 'list'>\n",
      "[[ 7  8  9]\n",
      " [10 11 12]] <class 'numpy.ndarray'>\n"
     ]
    }
   ],
   "source": [
    "l2d = [[1,2,3],[4,5,6]]\n",
    "print(l2d, type(l2d))\n",
    "\n",
    "arr2d = np.array([[7,8,9],[10,11,12]])\n",
    "print(arr2d, type(arr2d))"
   ]
  },
  {
   "cell_type": "markdown",
   "metadata": {},
   "source": [
    "Arrays have an attribute `ndim` that reflects the dimension.  In Numpy, each dimension is called an **axis** (starting with axis-0, then axis-1), and they indicate the direction you're *moving along* (negative and positive indices shown below):\n",
    "\n",
    "```\n",
    "            -- axis1 -->\n",
    "              -3  -2  -1\n",
    "               0   1   2\n",
    "  |          +---+---+---+\n",
    "  |    -2, 0 |7  | 8 |  9|\n",
    "  |          +---+---+---+\n",
    "axis0  -1, 1 |10 |11 | 12|\n",
    "  |          +---+---+---+\n",
    "  | \n",
    "  V \n",
    "  ```"
   ]
  },
  {
   "cell_type": "code",
   "execution_count": 18,
   "metadata": {},
   "outputs": [
    {
     "name": "stdout",
     "output_type": "stream",
     "text": [
      "2\n"
     ]
    }
   ],
   "source": [
    "print(arr1.ndim)\n",
    "print(arr2d.ndim)"
   ]
  },
  {
   "cell_type": "markdown",
   "metadata": {},
   "source": [
    "`zeros, ones, empty, random.rand`, etc can take a shape argument (a tuple of ints) to make 2D (or higher dimension) pre-filled arrays. `identity` also makes square arrays with ones on the diagonal (really intended for linear algebra)."
   ]
  },
  {
   "cell_type": "code",
   "execution_count": 64,
   "metadata": {},
   "outputs": [
    {
     "name": "stdout",
     "output_type": "stream",
     "text": [
      "[[0. 0. 0. 0.]\n",
      " [0. 0. 0. 0.]\n",
      " [0. 0. 0. 0.]]\n",
      "[[1. 0. 0. 0.]\n",
      " [0. 1. 0. 0.]\n",
      " [0. 0. 1. 0.]\n",
      " [0. 0. 0. 1.]]\n"
     ]
    }
   ],
   "source": [
    "print(np.zeros((3,4)))\n",
    "print(np.identity(4))"
   ]
  },
  {
   "cell_type": "markdown",
   "metadata": {},
   "source": [
    "#### ASIDE: Are 1D arrays rows or columns?\n",
    "\n",
    "What about our 1D arrays?  Were they \"row\" arrays or \"column\" arrays?  In Numpy, that's a meaningless question -- there's no distinction between the two in 1D. No orientation, just \"extent\".  Visuals are helpful, but fundamentally, arrays are nested sequences of indexed \"slots\".  The visuals (even the one numpy gives in its pretty-printed output) shouldn't be taken too literally."
   ]
  },
  {
   "cell_type": "markdown",
   "metadata": {},
   "source": [
    "Arrays support the same repeated index syntax that nested Python lists do, but they also support a (preferred) syntax: you can index them with a *tuple of integers* (whether you put the parentheses explicitly or not) inside the `[]`.  You can also do slicing this way."
   ]
  },
  {
   "cell_type": "code",
   "execution_count": 24,
   "metadata": {},
   "outputs": [
    {
     "name": "stdout",
     "output_type": "stream",
     "text": [
      "l2d[1][2] =  6\n",
      "arr2d[1][2] =  12\n",
      "arr2d[(1,2)] =  12\n",
      "arr2d[1,2] =  12\n",
      "arr2d[:,2] =  [ 9 12]\n",
      "arr2d[1,1:] =  [11 12]\n",
      "arr2d[1,1::-1] =  [11 10]\n"
     ]
    }
   ],
   "source": [
    "print(\"l2d[1][2] = \", l2d[1][2])\n",
    "print(\"arr2d[1][2] = \", arr2d[1][2])\n",
    "# The lines below would be give syntax errors for Python lists...\n",
    "# print(\"l2d[1,2] = \", l2d[1,2])\n",
    "#print(\"l2d[(1,2)] = \", l2d[(1,2)])\n",
    "\n",
    "# ...but are the preferred syntax for arrays (the form w/o parentheses is far more common)\n",
    "print(\"arr2d[(1,2)] = \", arr2d[(1,2)])\n",
    "print(\"arr2d[1,2] = \", arr2d[1,2])\n",
    "\n",
    "\n",
    "# Slicing\n",
    "print(\"arr2d[:,2] = \", arr2d[:,2])          # This picks out column 2 (along axis-1) for all indices along axis-0\n",
    "print(\"arr2d[1,1:] = \", arr2d[1,1:])       # This picks out row 1 (along axis-0) for all indices >1 along axis-1\n",
    "print(\"arr2d[1,1::-1] = \", arr2d[1,1::-1]) # Same, but entries along axis-1 are reversed"
   ]
  },
  {
   "cell_type": "markdown",
   "metadata": {},
   "source": [
    "#### From a single 1D array with `reshape()`\n",
    "\n",
    "The more interesting way to make a 2D array (which gets to the first bullet in the Tao of Numpy) is by \"reshaping\" a compatible 1D array (using the array's `reshape()` method, which is really a call to the `np.reshape()` function).  Shapes must be specified as an *integer tuple with parentheses*, although the `.reshape()` method (but *NOT* the `np.reshape()` function!) will let you omit the parentheses."
   ]
  },
  {
   "cell_type": "code",
   "execution_count": 39,
   "metadata": {},
   "outputs": [
    {
     "name": "stdout",
     "output_type": "stream",
     "text": [
      "[ 0  1  2  3  4  5  6  7  8  9 10 11 12 13 14 15 16 17 18 19 20 21 22 23]\n",
      "[[ 0  1  2  3  4  5]\n",
      " [ 6  7  8  9 10 11]\n",
      " [12 13 14 15 16 17]\n",
      " [18 19 20 21 22 23]]\n",
      "[[ 0  1  2  3  4  5  6  7]\n",
      " [ 8  9 10 11 12 13 14 15]\n",
      " [16 17 18 19 20 21 22 23]]\n",
      "[[ 0  3  6  9 12 15 18 21]\n",
      " [ 1  4  7 10 13 16 19 22]\n",
      " [ 2  5  8 11 14 17 20 23]]\n"
     ]
    }
   ],
   "source": [
    "A = np.arange(24)  #1D\n",
    "print(A)\n",
    "\n",
    "A4x6 = A.reshape(4,6)  #2D, in row-major order ('C' order) by default\n",
    "print(A4x6)\n",
    "\n",
    "A3x8 = A.reshape(3,8)  #2D, row-major\n",
    "print(A3x8)\n",
    "\n",
    "A3x8F = A.reshape(3,8, order='F') #2D, column-major like Fortran\n",
    "print(A3x8F)"
   ]
  },
  {
   "cell_type": "markdown",
   "metadata": {},
   "source": [
    "Crucially, *all four of these arrays share the same underlying data!*  Here are some ways to do the object introspection to prove it."
   ]
  },
  {
   "cell_type": "code",
   "execution_count": 41,
   "metadata": {},
   "outputs": [
    {
     "name": "stdout",
     "output_type": "stream",
     "text": [
      "  C_CONTIGUOUS : True\n",
      "  F_CONTIGUOUS : True\n",
      "  OWNDATA : True\n",
      "  WRITEABLE : True\n",
      "  ALIGNED : True\n",
      "  WRITEBACKIFCOPY : False\n",
      "  UPDATEIFCOPY : False\n",
      "\n",
      "  C_CONTIGUOUS : True\n",
      "  F_CONTIGUOUS : False\n",
      "  OWNDATA : False\n",
      "  WRITEABLE : True\n",
      "  ALIGNED : True\n",
      "  WRITEBACKIFCOPY : False\n",
      "  UPDATEIFCOPY : False\n",
      "\n",
      "False\n",
      "  C_CONTIGUOUS : False\n",
      "  F_CONTIGUOUS : True\n",
      "  OWNDATA : False\n",
      "  WRITEABLE : True\n",
      "  ALIGNED : True\n",
      "  WRITEBACKIFCOPY : False\n",
      "  UPDATEIFCOPY : False\n",
      "\n"
     ]
    }
   ],
   "source": [
    "print(A.flags)  # A \"owns\" the data...\n",
    "\n",
    "# But none of the others do\n",
    "print(A4x6.flags)\n",
    "print(A3x8.flags['OWNDATA'])  # for brevity\n",
    "print(A3x8F.flags) # in full so you see the F_CONTIGUOUS and C_CONTIGUOUS flags\n",
    "                   #(which are both true in 1D, b/c no distinction b/w rows and columns)"
   ]
  },
  {
   "cell_type": "code",
   "execution_count": 54,
   "metadata": {},
   "outputs": [
    {
     "name": "stdout",
     "output_type": "stream",
     "text": [
      "None\n",
      "[ 0  1  2  3  4  5  6  7  8  9 10 11 12 13 14 15 16 17 18 19 20 21 22 23]\n"
     ]
    },
    {
     "data": {
      "text/plain": [
       "True"
      ]
     },
     "execution_count": 54,
     "metadata": {},
     "output_type": "execute_result"
    }
   ],
   "source": [
    "# .base attribute is None if you own your data\n",
    "print(A.base)\n",
    "print(A3x8.base)\n",
    "A4x6.base is A3x8F.base  # These two share a common base"
   ]
  },
  {
   "cell_type": "code",
   "execution_count": 42,
   "metadata": {},
   "outputs": [
    {
     "data": {
      "text/plain": [
       "True"
      ]
     },
     "execution_count": 42,
     "metadata": {},
     "output_type": "execute_result"
    }
   ],
   "source": [
    "np.shares_memory(A,A4x6)"
   ]
  },
  {
   "cell_type": "code",
   "execution_count": 43,
   "metadata": {},
   "outputs": [
    {
     "data": {
      "text/plain": [
       "True"
      ]
     },
     "execution_count": 43,
     "metadata": {},
     "output_type": "execute_result"
    }
   ],
   "source": [
    "np.shares_memory(A4x6,A3x8F)"
   ]
  },
  {
   "cell_type": "code",
   "execution_count": 45,
   "metadata": {},
   "outputs": [
    {
     "name": "stdout",
     "output_type": "stream",
     "text": [
      "[[ 0  1  2  3  4  5  6  7  8  9 10 11 12 13 14 15 16 17 18 19 20 21 22 23]] 2\n",
      "[[ 0]\n",
      " [ 1]\n",
      " [ 2]\n",
      " [ 3]\n",
      " [ 4]\n",
      " [ 5]\n",
      " [ 6]\n",
      " [ 7]\n",
      " [ 8]\n",
      " [ 9]\n",
      " [10]\n",
      " [11]\n",
      " [12]\n",
      " [13]\n",
      " [14]\n",
      " [15]\n",
      " [16]\n",
      " [17]\n",
      " [18]\n",
      " [19]\n",
      " [20]\n",
      " [21]\n",
      " [22]\n",
      " [23]] 2\n"
     ]
    }
   ],
   "source": [
    "# A as a row (2D, 1x24)\n",
    "Arow = A.reshape(1,24)\n",
    "print(Arow, Arow.ndim)\n",
    "\n",
    "# A as a col (2D, 24x1)\n",
    "Acol = A.reshape(24,1)\n",
    "print(Acol, Acol.ndim)"
   ]
  },
  {
   "cell_type": "markdown",
   "metadata": {},
   "source": [
    "#### Arrays are all 1D \"under the hood\"\n",
    "\n",
    "![Array layout (from ipython-books.github.io)](arraylayout.png)\n",
    "\n",
    "Information on how to translate motion along indices into traversal along the 1D data is kept in an array's `strides` atrribute.\n",
    "\n"
   ]
  },
  {
   "cell_type": "code",
   "execution_count": 48,
   "metadata": {},
   "outputs": [
    {
     "name": "stdout",
     "output_type": "stream",
     "text": [
      "(8,)\n",
      "(192, 8)\n",
      "(8, 8)\n",
      "(48, 8)\n",
      "(64, 8)\n",
      "(8, 24)\n"
     ]
    }
   ],
   "source": [
    "# This is all in bytes\n",
    "print(A.strides)\n",
    "print(Arow.strides)\n",
    "print(Acol.strides)\n",
    "print(A4x6.strides)\n",
    "print(A3x8.strides)\n",
    "print(A3x8F.strides)"
   ]
  },
  {
   "cell_type": "markdown",
   "metadata": {},
   "source": [
    "So a reshape is essentially instantaneous, a non-operation or \"no-op\".  All it does is change your *view* of the data.\n",
    "Other operations work copy-free like this as well... (**EXERCISE** -- validate this in the cells below w/ some introspection)"
   ]
  },
  {
   "cell_type": "code",
   "execution_count": 46,
   "metadata": {},
   "outputs": [
    {
     "name": "stdout",
     "output_type": "stream",
     "text": [
      "[ 0  1  2  3  4  5  6  7  8  9 10 11 12 13 14 15 16 17 18 19 20 21 22 23]\n",
      "[ 0  1  2  3  4  5  6  7  8  9 10 11 12 13 14 15 16 17 18 19 20 21 22 23]\n",
      "[[ 0  8 16]\n",
      " [ 1  9 17]\n",
      " [ 2 10 18]\n",
      " [ 3 11 19]\n",
      " [ 4 12 20]\n",
      " [ 5 13 21]\n",
      " [ 6 14 22]\n",
      " [ 7 15 23]]\n",
      "[ 0  0  1  0  2  0  3  0  4  0  5  0  6  0  7  0  8  0  9  0 10  0 11  0\n",
      " 12  0 13  0 14  0 15  0 16  0 17  0 18  0 19  0 20  0 21  0 22  0 23  0]\n"
     ]
    }
   ],
   "source": [
    "print(Arow.ravel())  # Makes array 1D\n",
    "print(Acol.squeeze()) # Eliminates any axes of length-1\n",
    "print(A3x8.T)  # Transpose\n",
    "print(A.view(np.int32)) # Reinterpret the bytes as 32-bit integers rather than 64-bit\n",
    "\n"
   ]
  },
  {
   "cell_type": "code",
   "execution_count": 49,
   "metadata": {},
   "outputs": [
    {
     "data": {
      "text/plain": [
       "True"
      ]
     },
     "execution_count": 49,
     "metadata": {},
     "output_type": "execute_result"
    }
   ],
   "source": [
    "#Slicing doesn't copy...\n",
    "np.shares_memory(A3x8[1:,2:5],A)"
   ]
  },
  {
   "cell_type": "code",
   "execution_count": 57,
   "metadata": {},
   "outputs": [
    {
     "name": "stdout",
     "output_type": "stream",
     "text": [
      "[[10 10 10]\n",
      " [20 20 20]]\n",
      "[[99  1  2  3  4  5  6  7]\n",
      " [ 8  9 10 10 10 13 14 15]\n",
      " [16 17 20 20 20 21 22 23]]\n",
      "[[99  1  2  3  4  5]\n",
      " [ 6  7  8  9 10 10]\n",
      " [10 13 14 15 16 17]\n",
      " [20 20 20 21 22 23]]\n",
      "[99  1  2  3  4  5  6  7  8  9 10 10 10 13 14 15 16 17 20 20 20 21 22 23]\n"
     ]
    }
   ],
   "source": [
    "#... and slices (or regular indexing) can appear on the LHS of assignments, allowing us to change the underlying data across all arrays!\n",
    "#  THIS IS THE SOURCE OF MANY MANY BUGS! BE CAREFUL!\n",
    "print(A3x8[1:,2:5])\n",
    "A3x8[1:,2:5] = [[10, 10, 10], [20,20,20]]\n",
    "A3x8[0,0] = 99\n",
    "print(A3x8)\n",
    "print(A4x6)\n",
    "print(A)"
   ]
  },
  {
   "cell_type": "markdown",
   "metadata": {},
   "source": [
    "`np.newaxis` as part of a slicing tuple inserts a new axis of length 1 -- this also is a no-copy no-op.  We'll see later the utility."
   ]
  },
  {
   "cell_type": "code",
   "execution_count": 63,
   "metadata": {},
   "outputs": [
    {
     "name": "stdout",
     "output_type": "stream",
     "text": [
      "[[ 0  1  2  3  4  5  6  7  8  9 10 11 12 13 14 15 16 17 18 19 20 21 22 23]] True\n",
      "[[ 0]\n",
      " [ 1]\n",
      " [ 2]\n",
      " [ 3]\n",
      " [ 4]\n",
      " [ 5]\n",
      " [ 6]\n",
      " [ 7]\n",
      " [ 8]\n",
      " [ 9]\n",
      " [10]\n",
      " [11]\n",
      " [12]\n",
      " [13]\n",
      " [14]\n",
      " [15]\n",
      " [16]\n",
      " [17]\n",
      " [18]\n",
      " [19]\n",
      " [20]\n",
      " [21]\n",
      " [22]\n",
      " [23]] True\n"
     ]
    }
   ],
   "source": [
    "A = np.arange(24)  # Let's make a new array and recycle the 'A' name for that. Quiz -- does A4x6 change?\n",
    "Arow = A[np.newaxis,:]\n",
    "print(Arow, np.shares_memory(Arow,A))\n",
    "Acol = A[:,np.newaxis]\n",
    "print(Acol, np.shares_memory(Acol,A))\n"
   ]
  },
  {
   "cell_type": "markdown",
   "metadata": {},
   "source": [
    "Incidentally, you can always make a copy using an array's `.copy()` method.  Just be mindful of your memory budget."
   ]
  },
  {
   "cell_type": "code",
   "execution_count": 70,
   "metadata": {},
   "outputs": [
    {
     "data": {
      "text/plain": [
       "False"
      ]
     },
     "execution_count": 70,
     "metadata": {},
     "output_type": "execute_result"
    }
   ],
   "source": [
    "A2 = A.copy()\n",
    "np.shares_memory(A2,A)"
   ]
  },
  {
   "cell_type": "markdown",
   "metadata": {},
   "source": [
    "#### Assembling from other multi-D arrays\n",
    "\n",
    "\n"
   ]
  },
  {
   "cell_type": "markdown",
   "metadata": {},
   "source": [
    "Matrices can also be formed by joining NumPy arrays. There are several methods for doing this, including: row_stack/r_, column_stack/c_, hstack, vstack, and concatenate. These are demonstrated below and make new arrays with new underyling data (they copy).\n",
    "\n",
    "(There are also reverse operations for :  hsplit, vsplit, etc -- we leave to you to google.  These do NOT copy -- they generate views that can access and mutate the original data, so be CAREFUL!)\n",
    "\n",
    "**Joiners COPY**\n",
    "\n",
    "**Splitters DO NOT COPY**"
   ]
  },
  {
   "cell_type": "code",
   "execution_count": 65,
   "metadata": {},
   "outputs": [
    {
     "name": "stdout",
     "output_type": "stream",
     "text": [
      "[0 1 2 3 4]\n",
      "[[0 1 2 3 4]\n",
      " [0 1 2 3 4]]\n",
      "[[0 0]\n",
      " [1 1]\n",
      " [2 2]\n",
      " [3 3]\n",
      " [4 4]]\n"
     ]
    }
   ],
   "source": [
    "arr = np.arange(5)\n",
    "print(arr)\n",
    "\n",
    "## Join rows.\n",
    "rows = np.row_stack([arr,arr])\n",
    "print(rows)\n",
    "\n",
    "## Join columns.\n",
    "cols = np.column_stack([arr,arr])\n",
    "print(cols)"
   ]
  },
  {
   "cell_type": "code",
   "execution_count": 66,
   "metadata": {},
   "outputs": [
    {
     "name": "stdout",
     "output_type": "stream",
     "text": [
      "[0 1 2 3 4 0 1 2 3 4]\n",
      "[[0 0]\n",
      " [1 1]\n",
      " [2 2]\n",
      " [3 3]\n",
      " [4 4]]\n"
     ]
    }
   ],
   "source": [
    "## np.hstack = join arrays along their columns.\n",
    "print(np.hstack([arr,arr]))\n",
    "print(np.hstack([arr.reshape(5,1), arr.reshape(5,1)]))"
   ]
  },
  {
   "cell_type": "code",
   "execution_count": 67,
   "metadata": {},
   "outputs": [
    {
     "name": "stdout",
     "output_type": "stream",
     "text": [
      "[[0]\n",
      " [1]\n",
      " [2]\n",
      " [3]\n",
      " [4]\n",
      " [0]\n",
      " [1]\n",
      " [2]\n",
      " [3]\n",
      " [4]]\n"
     ]
    }
   ],
   "source": [
    "## np.vstack = join arrays along their rows.\n",
    "np.vstack([arr,arr])\n",
    "print(np.vstack([arr.reshape(5,1), arr.reshape(5,1)]))"
   ]
  },
  {
   "cell_type": "code",
   "execution_count": 68,
   "metadata": {},
   "outputs": [
    {
     "name": "stdout",
     "output_type": "stream",
     "text": [
      "[0 1 2 3 4 0 1 2 3 4]\n",
      "[[0 0]\n",
      " [1 1]\n",
      " [2 2]\n",
      " [3 3]\n",
      " [4 4]]\n"
     ]
    }
   ],
   "source": [
    "## np.concatenate = join arrays along specified axis.\n",
    "## Default is first axis.\n",
    "print(np.concatenate([arr, arr], axis=0))\n",
    "print(np.concatenate([arr.reshape(5,1), arr.reshape(5,1)], axis=1))"
   ]
  },
  {
   "cell_type": "markdown",
   "metadata": {},
   "source": [
    "### Higher dimensional arrays\n",
    "\n",
    "It's worth just making sure you have some mental model (there could be others) for the indexing logic of, say, a 3D array."
   ]
  },
  {
   "cell_type": "code",
   "execution_count": 69,
   "metadata": {},
   "outputs": [
    {
     "name": "stdout",
     "output_type": "stream",
     "text": [
      "[[[0 1]\n",
      "  [2 3]]\n",
      "\n",
      " [[4 5]\n",
      "  [6 7]]]\n"
     ]
    }
   ],
   "source": [
    "arr3d = np.arange(8).reshape(2,2,2)  # Quiz: who owns the data?\n",
    "print(arr3d)"
   ]
  },
  {
   "cell_type": "markdown",
   "metadata": {},
   "source": [
    "Useful to picture axis0 as tabs on a spreadsheet\n",
    "\n",
    "```\n",
    "   |      -- axis2 -->\n",
    "   |    |\n",
    "   |  axis1  [0, 1]\n",
    "   |    |    [2, 3]\n",
    "   |    V\n",
    "axis0\n",
    "   |      -- axis2 -->\n",
    "   |    |\n",
    "   |  axis1  [4, 5]\n",
    "   |    |    [6, 7]\n",
    "   V    V\n",
    "```"
   ]
  },
  {
   "cell_type": "code",
   "execution_count": 83,
   "metadata": {},
   "outputs": [
    {
     "name": "stdout",
     "output_type": "stream",
     "text": [
      "[[[[4 5 7]\n",
      "   [1 0 2]\n",
      "   [0 4 1]]\n",
      "\n",
      "  [[0 8 8]\n",
      "   [8 8 4]\n",
      "   [3 2 4]]\n",
      "\n",
      "  [[4 7 5]\n",
      "   [3 8 3]\n",
      "   [8 1 1]]]\n",
      "\n",
      "\n",
      " [[[3 4 2]\n",
      "   [1 8 2]\n",
      "   [3 5 4]]\n",
      "\n",
      "  [[1 7 4]\n",
      "   [3 6 4]\n",
      "   [4 0 6]]\n",
      "\n",
      "  [[3 6 2]\n",
      "   [3 5 6]\n",
      "   [6 4 6]]]\n",
      "\n",
      "\n",
      " [[[6 4 6]\n",
      "   [8 1 4]\n",
      "   [7 2 4]]\n",
      "\n",
      "  [[3 5 4]\n",
      "   [5 5 0]\n",
      "   [0 7 1]]\n",
      "\n",
      "  [[5 6 4]\n",
      "   [8 3 6]\n",
      "   [3 5 8]]]]\n"
     ]
    },
    {
     "data": {
      "text/plain": [
       "True"
      ]
     },
     "execution_count": 83,
     "metadata": {},
     "output_type": "execute_result"
    }
   ],
   "source": [
    "# Ellipsis also is usable for indexing\n",
    "arr4d = np.random.randint(0,9,(3,3,3,3))\n",
    "print(arr4d)\n",
    "arr4d[0,...,-1]  # Ellipsis specifies ':' for an unknown or unspecified number of axes;\n",
    "                 #take the initial element along axis0 and last along axis3\n",
    "# NOT a copy\n",
    "np.shares_memory(arr4d[0,...,-1], arr4d)"
   ]
  },
  {
   "cell_type": "markdown",
   "metadata": {},
   "source": [
    "### Fancy indexing\n",
    "\n",
    "#### Indexing by arrays of integers\n",
    "\n",
    "Arrays support another fun  form of indexing: if the index is an array of integers (or tuples of integers, for >1D), numpy returns an array with just the elements from those indices.  THIS WILL BE A COPY!  So the original data are safe from interference, but if it's a lot of data, you may be using a lot of extra memory."
   ]
  },
  {
   "cell_type": "code",
   "execution_count": 78,
   "metadata": {},
   "outputs": [
    {
     "name": "stdout",
     "output_type": "stream",
     "text": [
      "[ 7 20  2 16]\n"
     ]
    },
    {
     "data": {
      "text/plain": [
       "array([3, 6])"
      ]
     },
     "execution_count": 78,
     "metadata": {},
     "output_type": "execute_result"
    }
   ],
   "source": [
    "Apart = A[[7,-4,2,-8]]\n",
    "print(Apart)\n",
    "np.shares_memory(Apart,A)\n",
    "\n",
    "arr3d[[0,1],[1,1],[1,0]]  # Let's take a minute to understand this example..."
   ]
  },
  {
   "cell_type": "markdown",
   "metadata": {},
   "source": [
    "#### Indexing with arrays of booleans (masks)\n",
    "\n",
    "If you slice or index an array X with an array of booleans that matches the shape along that axis or slice, it will return only the elements where the boolean array is True.  THIS WILL BE A COPY!  **(All fancy indexing generates copies!**)"
   ]
  },
  {
   "cell_type": "code",
   "execution_count": 133,
   "metadata": {
    "scrolled": true
   },
   "outputs": [
    {
     "name": "stdout",
     "output_type": "stream",
     "text": [
      "[[8 1 2 8 1 0 1 4 2 3]\n",
      " [8 3 9 3 7 3 6 7 6 3]\n",
      " [7 5 1 4 7 1 1 8 5 3]\n",
      " [3 2 1 2 3 1 4 9 4 0]\n",
      " [9 2 8 6 9 3 2 1 0 0]\n",
      " [1 4 6 9 5 6 9 8 2 8]\n",
      " [4 3 7 4 5 9 4 3 2 0]\n",
      " [7 0 7 8 1 8 0 5 6 0]\n",
      " [3 1 5 9 4 7 0 4 8 4]\n",
      " [4 3 6 1 4 0 3 6 1 0]]\n",
      "[1 2 1 0 1 4 2 3 3 3 3 3 5 1 4 1 1 5 3 3 2 1 2 3 1 4 4 0 2 3 2 1 0 0 1 4 5\n",
      " 2 4 3 4 5 4 3 2 0 0 1 0 5 0 3 1 5 4 0 4 4 4 3 1 4 0 3 1 0]\n"
     ]
    }
   ],
   "source": [
    "## Construct an arbitrary 2d 10x10 array of integers on [0,10)\n",
    "M = np.random.randint(0,10,(10,10))\n",
    "print(M)\n",
    "print(M[M < 6])  #  This makes a copy.\n",
    "\n",
    "#np.where() also returns the indices where a condition is satisfied, and can accept additional\n",
    "# arguments for what to put there"
   ]
  },
  {
   "cell_type": "markdown",
   "metadata": {},
   "source": [
    "## Core NumPy Functions\n",
    "NumPy also introduces a [number of useful functions](https://docs.scipy.org/doc/numpy/reference/) designed to operate efficiently over NumPy arrays. The following is a non-exhaustive overview of some important NumPy functions.\n",
    "\n",
    "All these operations are **ufuncs**, meaning that they obey numpy broadcasting rules and operate on multiple data at once, elementwise (just as basic operations like +,-,* etc do).  These operations are *vectorized*."
   ]
  },
  {
   "cell_type": "markdown",
   "metadata": {},
   "source": [
    "## Broadcasting rules"
   ]
  },
  {
   "cell_type": "markdown",
   "metadata": {},
   "source": [
    "Broadcasting refers to how numpy tries to make arrays with different shapes have the same shape (in an intelligent way) so as to allow simple syntaxes for elementwise operations.\n",
    "\n",
    "That expands to multiple dimensions like this:\n",
    "\n",
    "```\n",
    "(a, b, ..., z) OP (a, b, ..., z) -> element wise\n",
    "(a, b, ..., z) OP (a, 1, ..., z) -> length 1 instead of b -> duplicated b times\n",
    "(a, b, ..., z) OP (b, ..., z) -> prepend a dimension of length 1 -> see above\n",
    "```\n",
    "\n",
    "The third rule explains scalars, but is a bit problematic. Try to use the second rule when possible instead."
   ]
  },
  {
   "cell_type": "code",
   "execution_count": 137,
   "metadata": {},
   "outputs": [
    {
     "name": "stdout",
     "output_type": "stream",
     "text": [
      "[[[ 0  1  2  3]\n",
      "  [ 4  5  6  7]\n",
      "  [ 8  9 10 11]]\n",
      "\n",
      " [[12 13 14 15]\n",
      "  [16 17 18 19]\n",
      "  [20 21 22 23]]]\n",
      "[0 1 2 3]\n",
      "[[[ 8  9 10 11]\n",
      "  [12 13 14 15]\n",
      "  [16 17 18 19]]\n",
      "\n",
      " [[20 21 22 23]\n",
      "  [24 25 26 27]\n",
      "  [28 29 30 31]]]\n",
      "[[[  0   8  16  24]\n",
      "  [ 32  40  48  56]\n",
      "  [ 64  72  80  88]]\n",
      "\n",
      " [[ 96 104 112 120]\n",
      "  [128 136 144 152]\n",
      "  [160 168 176 184]]]\n",
      "[[[ 0  2  4  6]\n",
      "  [ 4  6  8 10]\n",
      "  [ 8 10 12 14]]\n",
      "\n",
      " [[12 14 16 18]\n",
      "  [16 18 20 22]\n",
      "  [20 22 24 26]]]\n",
      "[[[ 0  1  2  3]\n",
      "  [ 5  6  7  8]\n",
      "  [10 11 12 13]]\n",
      "\n",
      " [[12 13 14 15]\n",
      "  [17 18 19 20]\n",
      "  [22 23 24 25]]]\n"
     ]
    }
   ],
   "source": [
    "A = np.arange(24).reshape(2,3,4)\n",
    "print(A)\n",
    "B = np.arange(4)\n",
    "print(B)\n",
    "\n",
    "\n",
    "print(A + 8)\n",
    "print(A * 8)\n",
    "print(A + B)\n",
    "\n",
    "C = np.arange(3) # Not compatible w/ A or B, but...\n",
    "print(A + C[:,np.newaxis]) #... this is"
   ]
  },
  {
   "cell_type": "markdown",
   "metadata": {},
   "source": [
    "### Mathematical functions"
   ]
  },
  {
   "cell_type": "markdown",
   "metadata": {},
   "source": [
    "NumPy includes a variety of mathematical functions. All of these can be applied across an entire matrix or across arrays."
   ]
  },
  {
   "cell_type": "code",
   "execution_count": 108,
   "metadata": {},
   "outputs": [],
   "source": [
    "np.mean;      # Mean of an array or matrix.\n",
    "np.median;    # Median of an array or matrix.\n",
    "np.max;       # Max of an array or matrix.\n",
    "np.min;       # Min of an array or matrix.\n",
    "np.sum;       # Sum of an array or matrix.\n",
    "np.cumsum;    # Cumulative sum over an array.\n",
    "np.prod;      # Element-wise multiplication of an array.\n",
    "np.divide;    # Element-wise division of two arrays.\n",
    "np.diff;      # Pairwise difference of elements of an array.\n",
    "np.exp;       # Exponential transform.\n",
    "np.log;       # Natural logarithm.\n",
    "np.log10;     # Base-10 logarithm.\n",
    "np.cos;       # Cosine.\n",
    "np.sin;       # Sine."
   ]
  },
  {
   "cell_type": "code",
   "execution_count": 123,
   "metadata": {},
   "outputs": [
    {
     "name": "stdout",
     "output_type": "stream",
     "text": [
      "[2.5 3.5 4.5 5.5 6.5]\n",
      "[2. 7.]\n"
     ]
    }
   ],
   "source": [
    "# Nan-safe versions of aggregators exist, e.g. np.nanmean().\n",
    "# Aggregators will operate on the flat array, unless given a specific axis to traverse.\n",
    "# They reduce the dimension by 1.\n",
    "print(np.arange(10).reshape(2,5).mean(axis=0))\n",
    "print(np.arange(10).reshape(2,5).mean(axis=1))"
   ]
  },
  {
   "cell_type": "code",
   "execution_count": 111,
   "metadata": {},
   "outputs": [
    {
     "name": "stdout",
     "output_type": "stream",
     "text": [
      "[-3.14159265 -2.51327412 -1.88495559 -1.25663706 -0.62831853  0.\n",
      "  0.62831853  1.25663706  1.88495559  2.51327412  3.14159265]\n",
      "[-1.         -0.80901699 -0.30901699  0.30901699  0.80901699  1.\n",
      "  0.80901699  0.30901699 -0.30901699 -0.80901699 -1.        ]\n",
      "[9.8696044  6.31654682 3.55305758 1.5791367  0.39478418 0.\n",
      " 0.39478418 1.5791367  3.55305758 6.31654682 9.8696044 ]\n"
     ]
    }
   ],
   "source": [
    "theta = np.linspace(-np.pi,np.pi,11)\n",
    "print(theta)\n",
    "print(np.cos(theta))\n",
    "\n",
    "print(theta**2)"
   ]
  },
  {
   "cell_type": "markdown",
   "metadata": {},
   "source": [
    "### Rounding Functions"
   ]
  },
  {
   "cell_type": "code",
   "execution_count": 84,
   "metadata": {},
   "outputs": [
    {
     "name": "stdout",
     "output_type": "stream",
     "text": [
      "Original: [0.   0.25 0.5  0.75 1.  ]\n",
      "np.round: [0.  0.2 0.5 0.8 1. ]\n",
      "np.floor: [0. 0. 0. 0. 1.]\n",
      "np.ceil:  [0. 1. 1. 1. 1.]\n"
     ]
    }
   ],
   "source": [
    "mat = np.linspace(0,1,5)\n",
    "print('Original: %s' %mat)\n",
    "print('np.round: %s' %np.round(mat, 1) )\n",
    "print('np.floor: %s' %np.floor(mat) ) \n",
    "print('np.ceil:  %s' %np.ceil(mat) )"
   ]
  },
  {
   "cell_type": "markdown",
   "metadata": {},
   "source": [
    "### Summary Functions\n",
    "\n",
    "NumPy includes many functions to summarize an array. With the exception of `np.corrcoef`, all of these can be\n",
    "applied across an entire matrix or across arrays."
   ]
  },
  {
   "cell_type": "code",
   "execution_count": 85,
   "metadata": {},
   "outputs": [],
   "source": [
    "np.min;           # Return the smallest element.\n",
    "np.max;           # Return the largest element.\n",
    "np.argmin;        # Return the index of the smallest element.\n",
    "np.argmax;        # Return the index of the largest element.\n",
    "np.mean;          # Compute the mean of an array.\n",
    "np.median;        # Compute the median of an array.\n",
    "np.std;           # Compute the standard deviation of an array.\n",
    "np.var;           # Compute the variance (sd^2) of an array.\n",
    "np.percentile;    # Compute the xth percentile of an array.\n",
    "np.corrcoef;      # Compute the row-/col-wise correlation of a matrix."
   ]
  },
  {
   "cell_type": "code",
   "execution_count": 86,
   "metadata": {},
   "outputs": [
    {
     "name": "stdout",
     "output_type": "stream",
     "text": [
      "Original:\n",
      "[[0 1 2 3 4]\n",
      " [4 3 2 1 0]]\n"
     ]
    }
   ],
   "source": [
    "## To give a few examples.\n",
    "mat = np.vstack([ np.arange(5), np.arange(5)[::-1] ])\n",
    "print('Original:\\n%s' %mat)"
   ]
  },
  {
   "cell_type": "code",
   "execution_count": 87,
   "metadata": {},
   "outputs": [
    {
     "name": "stdout",
     "output_type": "stream",
     "text": [
      "70% (all):  3.0\n",
      "70% (rows): [2.8 2.8]\n",
      "70% (cols): [2.8 2.4 2.  2.4 2.8]\n"
     ]
    }
   ],
   "source": [
    "## Compute percentile.\n",
    "print( '70%% (all):  %s' %np.percentile(mat, 70) )\n",
    "\n",
    "## Compute mean across rows.\n",
    "print('70%% (rows): %s' %np.percentile(mat, 70, axis=1) )\n",
    "\n",
    "## Compute mean across cols.\n",
    "print('70%% (cols): %s' %np.percentile(mat, 70, axis=0) )"
   ]
  },
  {
   "cell_type": "code",
   "execution_count": 88,
   "metadata": {},
   "outputs": [
    {
     "name": "stdout",
     "output_type": "stream",
     "text": [
      "Correlation:\n",
      " [[ 1. -1.]\n",
      " [-1.  1.]]\n"
     ]
    }
   ],
   "source": [
    "## Compute correlation.\n",
    "print('Correlation:\\n', np.corrcoef(mat))"
   ]
  },
  {
   "cell_type": "markdown",
   "metadata": {},
   "source": [
    "### Set Functions\n",
    "NumPy includes functions for identifying unique elements within or between arrays."
   ]
  },
  {
   "cell_type": "code",
   "execution_count": 89,
   "metadata": {},
   "outputs": [],
   "source": [
    "## Define two arrays for example.\n",
    "arr1 = np.array([41, 16, 34, 0, 2, 20, 19, 14, 22, 15, 18, 9, 35, 41])\n",
    "arr2 = np.array([42, 22, 40, 7, 33, 0, 12, 19, 44, 10, 31, 11, 11, 49])"
   ]
  },
  {
   "cell_type": "code",
   "execution_count": 90,
   "metadata": {},
   "outputs": [
    {
     "data": {
      "text/plain": [
       "array([ 0,  2,  9, 14, 15, 16, 18, 19, 20, 22, 34, 35, 41, 41])"
      ]
     },
     "execution_count": 90,
     "metadata": {},
     "output_type": "execute_result"
    }
   ],
   "source": [
    "## Sort elements (ascending order).\n",
    "np.sort(arr1)"
   ]
  },
  {
   "cell_type": "code",
   "execution_count": 91,
   "metadata": {},
   "outputs": [
    {
     "data": {
      "text/plain": [
       "array([ 0,  2,  9, 14, 15, 16, 18, 19, 20, 22, 34, 35, 41])"
      ]
     },
     "execution_count": 91,
     "metadata": {},
     "output_type": "execute_result"
    }
   ],
   "source": [
    "## Return unique elements.\n",
    "np.unique(arr1)"
   ]
  },
  {
   "cell_type": "code",
   "execution_count": 92,
   "metadata": {},
   "outputs": [
    {
     "data": {
      "text/plain": [
       "(array([ 0,  2,  9, 14, 15, 16, 18, 19, 20, 22, 34, 35, 41]),\n",
       " array([1, 1, 1, 1, 1, 1, 1, 1, 1, 1, 1, 1, 2]))"
      ]
     },
     "execution_count": 92,
     "metadata": {},
     "output_type": "execute_result"
    }
   ],
   "source": [
    "## Return unique elements, count number of appearances.\n",
    "np.unique(arr1, return_counts=True)"
   ]
  },
  {
   "cell_type": "code",
   "execution_count": 93,
   "metadata": {},
   "outputs": [
    {
     "data": {
      "text/plain": [
       "array([False, False, False,  True, False, False,  True, False,  True,\n",
       "       False, False, False, False, False])"
      ]
     },
     "execution_count": 93,
     "metadata": {},
     "output_type": "execute_result"
    }
   ],
   "source": [
    "## Find the elements of array-1 in array-2.\n",
    "np.in1d(arr1, arr2)"
   ]
  },
  {
   "cell_type": "code",
   "execution_count": 94,
   "metadata": {},
   "outputs": [
    {
     "data": {
      "text/plain": [
       "array([ 0,  2,  7,  9, 10, 11, 12, 14, 15, 16, 18, 19, 20, 22, 31, 33, 34,\n",
       "       35, 40, 41, 42, 44, 49])"
      ]
     },
     "execution_count": 94,
     "metadata": {},
     "output_type": "execute_result"
    }
   ],
   "source": [
    "## Return all unique elements of arrays 1 & 2.\n",
    "np.union1d(arr1, arr2)"
   ]
  },
  {
   "cell_type": "code",
   "execution_count": 95,
   "metadata": {},
   "outputs": [
    {
     "data": {
      "text/plain": [
       "array([ 0, 19, 22])"
      ]
     },
     "execution_count": 95,
     "metadata": {},
     "output_type": "execute_result"
    }
   ],
   "source": [
    "## Return all elements belonging to both arrays 1 & 2.\n",
    "np.intersect1d(arr1, arr2)"
   ]
  },
  {
   "cell_type": "markdown",
   "metadata": {},
   "source": [
    "### Replacing List Comprehensions"
   ]
  },
  {
   "cell_type": "markdown",
   "metadata": {},
   "source": [
    "NumPy includes a number of very helpful functions that allow you to apply a Python function conveniently along parts of an array without Python `for` loops (np.apply_along_axis, np.apply_over_axes). We will illustrate with a simple example of standard-scoring (z-scoring) a matrix.\n",
    "\n",
    "`np.where()` is another function that facilitates masking or selection based on satisfaction of a boolean condition."
   ]
  },
  {
   "cell_type": "code",
   "execution_count": 96,
   "metadata": {},
   "outputs": [
    {
     "name": "stdout",
     "output_type": "stream",
     "text": [
      "[[ 0  1  2  3  4  5]\n",
      " [ 6  7  8  9 10 11]]\n"
     ]
    }
   ],
   "source": [
    "## Define the standard score (z-score) function.\n",
    "def zscore(arr): \n",
    "    return (arr - arr.mean()) / arr.std()\n",
    "\n",
    "## Define a simple matrix.\n",
    "mat = np.arange(12).reshape(2,6)\n",
    "print(mat)"
   ]
  },
  {
   "cell_type": "code",
   "execution_count": 113,
   "metadata": {},
   "outputs": [
    {
     "name": "stdout",
     "output_type": "stream",
     "text": [
      "[[-1.46 -0.88 -0.29  0.29  0.88  1.46]\n",
      " [-1.46 -0.88 -0.29  0.29  0.88  1.46]]\n",
      "[[-1.59325501 -1.30357228 -1.01388955 -0.72420682 -0.43452409 -0.14484136]\n",
      " [ 0.14484136  0.43452409  0.72420682  1.01388955  1.30357228  1.59325501]]\n"
     ]
    }
   ],
   "source": [
    "zmat = np.apply_along_axis(zscore, axis=1, arr=mat).round(2)\n",
    "print(zmat)\n",
    "print(zscore(mat))"
   ]
  },
  {
   "cell_type": "code",
   "execution_count": 114,
   "metadata": {},
   "outputs": [
    {
     "name": "stdout",
     "output_type": "stream",
     "text": [
      "[[-1.46 -0.88 -0.29  0.29  0.88  1.46]\n",
      " [-1.46 -0.88 -0.29  0.29  0.88  1.46]]\n"
     ]
    }
   ],
   "source": [
    "#np.where\n",
    "amat = np.where(zmat < 0, 0, 1)\n",
    "print(zmat)"
   ]
  },
  {
   "cell_type": "markdown",
   "metadata": {},
   "source": [
    "### Matrix Math\n",
    "NumPy supports matrix operations. The simplest operator is transposition."
   ]
  },
  {
   "cell_type": "code",
   "execution_count": 115,
   "metadata": {},
   "outputs": [
    {
     "name": "stdout",
     "output_type": "stream",
     "text": [
      "[[ 0.07809322 -0.35906033 -0.42326707  0.53541049 -0.33481344]\n",
      " [ 1.03301139 -0.06532025 -1.66728115 -0.96333071 -1.717498  ]\n",
      " [ 1.18328736  1.97839354  0.09121523  0.50651603  1.21895868]\n",
      " [ 1.85255839  1.43943463  1.82091338 -0.66335402 -0.5010529 ]\n",
      " [ 1.35783644 -1.36236434 -1.28690896  0.48191277  2.85785447]]\n",
      "[[ 0.07809322  1.03301139  1.18328736  1.85255839  1.35783644]\n",
      " [-0.35906033 -0.06532025  1.97839354  1.43943463 -1.36236434]\n",
      " [-0.42326707 -1.66728115  0.09121523  1.82091338 -1.28690896]\n",
      " [ 0.53541049 -0.96333071  0.50651603 -0.66335402  0.48191277]\n",
      " [-0.33481344 -1.717498    1.21895868 -0.5010529   2.85785447]]\n"
     ]
    }
   ],
   "source": [
    "## Generate random matrix.\n",
    "X = np.random.normal(0,1,(5,5))\n",
    "\n",
    "print(X)      # Print original matrix.\n",
    "print(X.T)    # Print transposed matrix."
   ]
  },
  {
   "cell_type": "code",
   "execution_count": 116,
   "metadata": {},
   "outputs": [
    {
     "data": {
      "text/plain": [
       "array([[-0.32840413,  0.38485119,  1.93280236, -0.34320335, -1.15052338],\n",
       "       [-6.07638585, -2.7119785 , -0.02429212, -0.41714941, -6.69170522],\n",
       "       [ 4.83754064, -1.30521021, -4.43743165, -0.97466851, -0.45306468],\n",
       "       [ 1.87703847,  2.57104066, -3.58107489,  0.72612417, -1.97243019],\n",
       "       [ 1.9491873 , -6.14432466, -1.22094587,  2.44512504,  8.24241565]])"
      ]
     },
     "execution_count": 116,
     "metadata": {},
     "output_type": "execute_result"
    }
   ],
   "source": [
    "# Shorthand @ for matrix multiplication (or np.dot() more generally -- this is native Python now)\n",
    "X @ X"
   ]
  },
  {
   "cell_type": "code",
   "execution_count": 117,
   "metadata": {},
   "outputs": [
    {
     "name": "stdout",
     "output_type": "stream",
     "text": [
      "0.7109317316465865\n",
      "[[ 0.01138877  0.04592503  0.07250101  0.02407425 -0.00467572]\n",
      " [ 0.04592503  0.18519189  0.29235906  0.09707898 -0.01885475]\n",
      " [ 0.07250101  0.29235906  0.4615419   0.15325681 -0.02976564]\n",
      " [ 0.02407425  0.09707898  0.15325681  0.05088953 -0.0098838 ]\n",
      " [-0.00467572 -0.01885475 -0.02976564 -0.0098838   0.00191964]]\n"
     ]
    }
   ],
   "source": [
    "# Inner and outer products\n",
    "x = np.random.normal(0,1,size=5)\n",
    "\n",
    "## Inner product.\n",
    "inner = np.inner(x,x)\n",
    "print(inner)\n",
    "\n",
    "## Outer product.\n",
    "outer = np.outer(x,x)\n",
    "print(outer)"
   ]
  },
  {
   "cell_type": "markdown",
   "metadata": {},
   "source": [
    "### Linear Algebra Functions"
   ]
  },
  {
   "cell_type": "markdown",
   "metadata": {},
   "source": [
    "NumPy includes an entire submodule dedicated to efficient linear algebra functions (though it should be noted that SciPy has reimplemented them for maximal efficiency). See np.linalg for a full list of commands."
   ]
  },
  {
   "cell_type": "code",
   "execution_count": 118,
   "metadata": {},
   "outputs": [
    {
     "name": "stdout",
     "output_type": "stream",
     "text": [
      "[[ 0  1  2  3]\n",
      " [ 4  5  6  7]\n",
      " [ 8  9 10 11]\n",
      " [12 13 14 15]]\n"
     ]
    }
   ],
   "source": [
    "## Define a simple matrix.\n",
    "mat = np.arange(16).reshape(4,4)\n",
    "print(mat)"
   ]
  },
  {
   "cell_type": "code",
   "execution_count": 119,
   "metadata": {},
   "outputs": [
    {
     "name": "stdout",
     "output_type": "stream",
     "text": [
      "[ 0  5 10 15]\n"
     ]
    }
   ],
   "source": [
    "## Return diagonal of matrix\n",
    "print(np.diag(mat))"
   ]
  },
  {
   "cell_type": "code",
   "execution_count": 120,
   "metadata": {},
   "outputs": [
    {
     "name": "stdout",
     "output_type": "stream",
     "text": [
      "[[ 0  1  2  3]\n",
      " [ 0  5  6  7]\n",
      " [ 0  0 10 11]\n",
      " [ 0  0  0 15]]\n"
     ]
    }
   ],
   "source": [
    "## Return upper triangular matrix\n",
    "print(np.triu(mat))    "
   ]
  },
  {
   "cell_type": "code",
   "execution_count": 121,
   "metadata": {},
   "outputs": [],
   "source": [
    "## Other linear algebra operations include:\n",
    "np.linalg.norm;        # Vector or matrix norm\n",
    "np.linalg.inv;         # Inverse of a square matrix\n",
    "np.linalg.det;         # Determinant of a square matrix\n",
    "np.linalg.eig;         # Eigenvalues and vectors of a square matrix\n",
    "np.linalg.cholesky;    # Cholesky decomposition of a matrix\n",
    "np.linalg.svd;         # Singular value decomposition of a matrix\n",
    "np.linalg.lstsq;       # Solve linear least-squares problem"
   ]
  },
  {
   "cell_type": "markdown",
   "metadata": {},
   "source": [
    "# Introduction to Data Visualization\n",
    "## Matplotlib\n",
    "Matplotlib, or the Matlab plotting library, is the core plotting package of the scientific python distribution. The origial goal of Matplotlib was to recreate all of the plotting capabilities of Matlab in python. \n",
    "\n",
    "We will go through the syntax of plotting the five most common types of plots: bar plots, line plots, scatter plots, boxplots, and heatmaps. We will also cover adding details to plots (e.g. axes, titles, legends, errorbars), making multiple plots in one figure, and scaling/sizing plots."
   ]
  },
  {
   "cell_type": "code",
   "execution_count": 124,
   "metadata": {},
   "outputs": [],
   "source": [
    "import matplotlib.pyplot as plt\n",
    "%matplotlib inline \n",
    "\n",
    "## NOTE: The second line is a bit of notebook magic! \n",
    "## It's a jupyter-notebook shortcut that makes all\n",
    "## plots be displayed at the bottom of a cell."
   ]
  },
  {
   "cell_type": "markdown",
   "metadata": {},
   "source": [
    "### Figures & Axes\n",
    "A brief note: In Matplotlib jargon, an axis is a plot (e.g. barplot, scatterplot) and a figure is the canvas containing all plots. The most basic figure contains a single axis (i.e. one plot). More complex figures may have multiple plots of different sizes and numbers per row. \n",
    "\n",
    "This distinction is important because certain graphical tweaks can only be applied to figures or axes. For example, figures control the size of the canvas, the spacing of plots, and saving figures. Axes control plot-specific features, including labels, titles, and legends. To start, we will only generate figures with one plot. Later, we will introduce drawing multiple plots per figure."
   ]
  },
  {
   "cell_type": "markdown",
   "metadata": {},
   "source": [
    "### Initializing Figures\n",
    "\n",
    "There are many ways of initializing figures in Matplotlib. We will cover the three main functions. Note these involve slightly different syntaxes and allow for slightly different control.\n",
    "\n",
    "#### Subplot\n",
    "\n",
    "The first function, `plt.subplot`, requires the user to define an *a priori* canvas layout and then initialize each axis separately."
   ]
  },
  {
   "cell_type": "code",
   "execution_count": null,
   "metadata": {},
   "outputs": [],
   "source": [
    "## Subplot example: Figure needs to be called.\n",
    "fig = plt.figure(figsize=(8,4))\n",
    "\n",
    "## Make 2x2 figure.\n",
    "ax = plt.subplot(2,2,1)\n",
    "ax.text(0.5,0.5,'ax1', fontsize=18, ha='center', va='center')\n",
    "\n",
    "ax = plt.subplot(2,2,2)\n",
    "ax.text(0.5,0.5,'ax2', fontsize=18, ha='center', va='center')\n",
    "\n",
    "ax = plt.subplot(2,2,3)\n",
    "ax.text(0.5,0.5,'ax3', fontsize=18, ha='center', va='center')\n",
    "\n",
    "ax = plt.subplot(2,2,4)\n",
    "ax.text(0.5,0.5,'ax4', fontsize=18, ha='center', va='center')\n",
    "\n",
    "plt.tight_layout()"
   ]
  },
  {
   "cell_type": "markdown",
   "metadata": {},
   "source": [
    "#### Subplots\n",
    "\n",
    "The second function, `plt.subplots`, requires the user to define an *a priori* canvas layout but initializes all (equal sized) axes at once. "
   ]
  },
  {
   "cell_type": "code",
   "execution_count": 125,
   "metadata": {},
   "outputs": [
    {
     "data": {
      "image/png": "[encoded data removed]",
      "text/plain": [
       "<Figure size 576x288 with 4 Axes>"
      ]
     },
     "metadata": {
      "needs_background": "light"
     },
     "output_type": "display_data"
    }
   ],
   "source": [
    "## Subplot example: Figure needs to be called.\n",
    "fig, axes = plt.subplots(2,2,figsize=(8,4))\n",
    "\n",
    "for i, ax in enumerate(axes.flatten()):\n",
    "    ax.text(0.5,0.5,f'ax{i+1}',fontsize=18, ha='center', va='center')\n",
    "\n",
    "plt.tight_layout()"
   ]
  },
  {
   "cell_type": "markdown",
   "metadata": {},
   "source": [
    "#### Subplot2grid\n",
    "With the third function, `plt.subplot2grid()`, the user defines geometry of the canvas and the location of the subplot in the grid. Importantly, this function allows for non-equal axis sizes. Here we present an example geometry for a 3x3 grid."
   ]
  },
  {
   "cell_type": "code",
   "execution_count": 126,
   "metadata": {},
   "outputs": [
    {
     "data": {
      "image/png": "[encoded data removed]",
      "text/plain": [
       "<Figure size 360x360 with 5 Axes>"
      ]
     },
     "metadata": {
      "needs_background": "light"
     },
     "output_type": "display_data"
    }
   ],
   "source": [
    "## subplot2grid example: Figure must be called.\n",
    "fig = plt.figure(figsize=(5,5))\n",
    "\n",
    "ax = plt.subplot2grid((3, 3), (0, 0), colspan=3)\n",
    "ax.text(0.5,0.5,'ax1', fontsize=18, ha='center', va='center')\n",
    "\n",
    "ax = plt.subplot2grid((3, 3), (1, 0), colspan=2)\n",
    "ax.text(0.5,0.5,'ax2', fontsize=18, ha='center', va='center')\n",
    "\n",
    "ax = plt.subplot2grid((3, 3), (1, 2), rowspan=2)\n",
    "ax.text(0.5,0.5,'ax3', fontsize=18, ha='center', va='center')\n",
    "\n",
    "ax = plt.subplot2grid((3, 3), (2, 0))\n",
    "ax.text(0.5,0.5,'ax4', fontsize=18, ha='center', va='center')\n",
    "\n",
    "ax = plt.subplot2grid((3, 3), (2, 1))\n",
    "ax.text(0.5,0.5,'ax5', fontsize=18, ha='center', va='center')\n",
    "\n",
    "plt.tight_layout()"
   ]
  },
  {
   "cell_type": "markdown",
   "metadata": {},
   "source": [
    "### Barplots\n",
    "Barplots are probably the least intuitive plot in Matplotlib because the user must specify the starting point and width of the bars (this is in contrast to other languages that automatically assign x-coordinates to the bars). Though clunky, this does provide some additional control to the user. \n",
    "\n",
    "In this example, we will plot the average response within subjects."
   ]
  },
  {
   "cell_type": "code",
   "execution_count": 127,
   "metadata": {},
   "outputs": [
    {
     "data": {
      "image/png": "[encoded data removed]",
      "text/plain": [
       "<Figure size 864x288 with 1 Axes>"
      ]
     },
     "metadata": {
      "needs_background": "light"
     },
     "output_type": "display_data"
    }
   ],
   "source": [
    "## Initialize canvas.\n",
    "fig, ax = plt.subplots(1,1,figsize=(12,4))\n",
    "\n",
    "## Simulate data.\n",
    "y = np.arange(10) + np.random.normal(0,0.5,10)\n",
    "x = np.arange(10) + np.arange(10) // 2 * 0.5\n",
    "\n",
    "## Plot bars.\n",
    "ax.bar(x[::2], y[::2], width=1.0, color='#4878d0', label='Cond_01')\n",
    "ax.bar(x[1::2], y[1::2], width=1.0, color='#d65f5f', label='Cond_02')\n",
    "\n",
    "## Add details.\n",
    "ax.set(xticks=x, xlim=(-0.75, 11.75), xlabel='Example X', ylabel='Example Y', title='Example Barplot')\n",
    "ax.legend(loc=2, frameon=False)\n",
    "\n",
    "plt.tight_layout();"
   ]
  },
  {
   "cell_type": "markdown",
   "metadata": {},
   "source": [
    "### Lineplots\n",
    "Lineplots are more intuitive than are barplots, requiring at the minimum only the x- and y-datapoints. Many tweaks and embellishments can similarly be added. "
   ]
  },
  {
   "cell_type": "code",
   "execution_count": 128,
   "metadata": {
    "scrolled": true
   },
   "outputs": [
    {
     "data": {
      "image/png": "[encoded data removed]",
      "text/plain": [
       "<Figure size 864x288 with 1 Axes>"
      ]
     },
     "metadata": {
      "needs_background": "light"
     },
     "output_type": "display_data"
    }
   ],
   "source": [
    "## Initialize canvas.\n",
    "fig, ax = plt.subplots(1,1,figsize=(12,4))\n",
    "\n",
    "## Simulate data.\n",
    "x = np.linspace(0,100,100)\n",
    "\n",
    "## Plot lines.\n",
    "for alpha in [1, 1.1, 0.9]:\n",
    "    ax.plot(x, x**alpha, lw=2.5, label=r'$y = x^{%s}$' %alpha)\n",
    "\n",
    "## Add details.\n",
    "ax.set(xlim=(x.min(), x.max()), xlabel='X', ylim=(0), ylabel='Y', title='Example Lineplot')\n",
    "ax.legend(loc=2, frameon=False, fontsize=14)\n",
    "\n",
    "plt.tight_layout()"
   ]
  },
  {
   "cell_type": "markdown",
   "metadata": {},
   "source": [
    "### Scatterplots\n",
    "The synxtax of scatterplots is similar to that of lineplots. Whereas lineplots have different [linestyles](https://matplotlib.org/examples/lines_bars_and_markers/line_styles_reference.html), scatterplots have different [marker styles](https://matplotlib.org/api/markers_api.html). "
   ]
  },
  {
   "cell_type": "code",
   "execution_count": 129,
   "metadata": {},
   "outputs": [
    {
     "data": {
      "image/png": "[encoded data removed]",
      "text/plain": [
       "<Figure size 576x288 with 1 Axes>"
      ]
     },
     "metadata": {
      "needs_background": "light"
     },
     "output_type": "display_data"
    }
   ],
   "source": [
    "## Initialize canvas.\n",
    "fig, ax = plt.subplots(1,1,figsize=(8,4))\n",
    "\n",
    "## Simulate data.\n",
    "mu = [0,0]\n",
    "cov = [[1.0,0.4],[0.4,1.0]]\n",
    "x, y = np.random.multivariate_normal(mu, cov, 1000).T\n",
    "\n",
    "## Plot scatterplot.\n",
    "ax.scatter(x, y, s=10, alpha=0.7)\n",
    "\n",
    "## Add details.\n",
    "ax.set(xlabel='X', ylabel='Y', title='Example Scatterplot')\n",
    "\n",
    "plt.tight_layout()"
   ]
  },
  {
   "cell_type": "markdown",
   "metadata": {},
   "source": [
    "### Histrograms\n",
    "Histograms are very easy fortunately."
   ]
  },
  {
   "cell_type": "code",
   "execution_count": 130,
   "metadata": {},
   "outputs": [
    {
     "data": {
      "image/png": "[encoded data removed]",
      "text/plain": [
       "<Figure size 576x288 with 1 Axes>"
      ]
     },
     "metadata": {
      "needs_background": "light"
     },
     "output_type": "display_data"
    }
   ],
   "source": [
    "## Initialize canvas.\n",
    "fig, ax = plt.subplots(1,1,figsize=(8,4))\n",
    "\n",
    "## Plot scatterplot.\n",
    "ax.hist(x, bins=np.linspace(-5,5,21), lw=0.5, edgecolor='w')\n",
    "\n",
    "## Add details.\n",
    "ax.set(xlabel='X', ylabel='Frequency', title='Example Histogram')\n",
    "\n",
    "plt.tight_layout()"
   ]
  },
  {
   "cell_type": "markdown",
   "metadata": {},
   "source": [
    "### Heatmaps\n",
    "Heatmaps are very useful plots, but slightly counterintuitive in Matplotlib."
   ]
  },
  {
   "cell_type": "code",
   "execution_count": 131,
   "metadata": {},
   "outputs": [
    {
     "data": {
      "image/png": "[encoded data removed]",
      "text/plain": [
       "<Figure size 576x432 with 2 Axes>"
      ]
     },
     "metadata": {
      "needs_background": "light"
     },
     "output_type": "display_data"
    }
   ],
   "source": [
    "## Initialize canvas.\n",
    "fig, ax = plt.subplots(1,1,figsize=(8,6))\n",
    "\n",
    "## Compute 2d histogram.\n",
    "counts, xbins, ybins = np.histogram2d(x,y,bins=21)\n",
    "\n",
    "## Plot heatmap.\n",
    "cbar = ax.imshow(counts, aspect='auto', origin='lower', vmin=0)\n",
    "\n",
    "## Add details.\n",
    "xticklabels = (xbins[:-1] + np.diff(xbins)).round(2)\n",
    "yticklabels = (ybins[:-1] + np.diff(ybins)).round(2)\n",
    "ax.set(xticks=np.arange(xticklabels.size))\n",
    "ax.set_xticklabels(xticklabels, rotation=-45)\n",
    "ax.set_yticklabels(yticklabels, rotation=90)\n",
    "\n",
    "cbar = plt.colorbar(cbar, ax=ax);\n",
    "cbar.ax.tick_params(labelsize=10) \n",
    "cbar.set_label('Value', fontsize=20)"
   ]
  },
  {
   "cell_type": "markdown",
   "metadata": {},
   "source": [
    "### Gridspec plots"
   ]
  },
  {
   "cell_type": "markdown",
   "metadata": {},
   "source": [
    "Gridspec objects are similar to subplot2grid in that they allow different sized plots within a figure. Gridspec objects also allow spacing configuration of axes within the figure. To give an example, we embed two sets of six plots with a large gap between them."
   ]
  },
  {
   "cell_type": "code",
   "execution_count": 132,
   "metadata": {},
   "outputs": [
    {
     "data": {
      "image/png": "[encoded data removed]",
      "text/plain": [
       "<Figure size 720x360 with 10 Axes>"
      ]
     },
     "metadata": {
      "needs_background": "light"
     },
     "output_type": "display_data"
    }
   ],
   "source": [
    "import matplotlib.gridspec as gridspec\n",
    "\n",
    "## Initialize figure.\n",
    "fig = plt.figure(figsize=(10,5))\n",
    "\n",
    "## Define first 3x3 grid. \n",
    "gs = gridspec.GridSpec(3, 3)\n",
    "\n",
    "## Update spacing parameters such that the figures can only\n",
    "## extend to the 0.45 fraction of the figure.\n",
    "gs.update(left=0.05, right=0.45, wspace=0.05)\n",
    "\n",
    "## Create plots by indexing into grid.\n",
    "ax1 = plt.subplot(gs[0, :])\n",
    "ax2 = plt.subplot(gs[1, :-1])\n",
    "ax3 = plt.subplot(gs[1:, -1])\n",
    "ax4 = plt.subplot(gs[-1, 0])\n",
    "ax5 = plt.subplot(gs[-1, -2])\n",
    "\n",
    "## Define second 3x3 grid. \n",
    "gs = gridspec.GridSpec(3, 3)\n",
    "\n",
    "## Update spacing parameters such that the figures can only\n",
    "## start at 0.55 fraction of the figure.\n",
    "gs.update(left=0.55, right=0.95, wspace=0.05)\n",
    "\n",
    "## Create plots by indexing into grid.\n",
    "ax1 = plt.subplot(gs[0, :])\n",
    "ax2 = plt.subplot(gs[1, :-1])\n",
    "ax3 = plt.subplot(gs[1:, -1])\n",
    "ax4 = plt.subplot(gs[-1, 0])\n",
    "ax5 = plt.subplot(gs[-1, -2])"
   ]
  },
  {
   "cell_type": "markdown",
   "metadata": {},
   "source": []
  }
 ],
 "metadata": {
  "kernelspec": {
   "display_name": "Python 3",
   "language": "python",
   "name": "python3"
  },
  "language_info": {
   "codemirror_mode": {
    "name": "ipython",
    "version": 3
   },
   "file_extension": ".py",
   "mimetype": "text/x-python",
   "name": "python",
   "nbconvert_exporter": "python",
   "pygments_lexer": "ipython3",
   "version": "3.8.3"
  }
 },
 "nbformat": 4,
 "nbformat_minor": 4
}
