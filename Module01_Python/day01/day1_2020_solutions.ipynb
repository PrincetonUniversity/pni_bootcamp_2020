{
 "cells": [
  {
   "cell_type": "markdown",
   "metadata": {},
   "source": [
    "# Day 2 Exercises (NumPy + Matplotlib)"
   ]
  },
  {
   "cell_type": "markdown",
   "metadata": {},
   "source": [
    "## Part 1: Basic NumPy Operations\n",
    "a) Generate an array of numbers 0-24. Reshape to a 5x5 matrix."
   ]
  },
  {
   "cell_type": "code",
   "execution_count": 10,
   "metadata": {},
   "outputs": [
    {
     "name": "stdout",
     "output_type": "stream",
     "text": [
      "[[ 0  1  2  3  4]\n",
      " [ 5  6  7  8  9]\n",
      " [10 11 12 13 14]\n",
      " [15 16 17 18 19]\n",
      " [20 21 22 23 24]]\n"
     ]
    }
   ],
   "source": [
    "import numpy as np  # We'll do this once for the whole littany of exercises\n",
    "\n",
    "mat = np.arange(25).reshape(5,5)\n",
    "print(mat)"
   ]
  },
  {
   "cell_type": "markdown",
   "metadata": {},
   "source": [
    "b) Extract the diagonal of this matrix."
   ]
  },
  {
   "cell_type": "code",
   "execution_count": 11,
   "metadata": {},
   "outputs": [
    {
     "name": "stdout",
     "output_type": "stream",
     "text": [
      "[ 0  6 12 18 24]\n"
     ]
    }
   ],
   "source": [
    "diag = np.diag(mat)\n",
    "print(diag)"
   ]
  },
  {
   "cell_type": "markdown",
   "metadata": {},
   "source": [
    "c) Multiply the matrix by an identity matrix of the same shape. Confirm that it is identical to the original.\n",
    "\n",
    "Hint: Use `np.all` command to confirm all equal. "
   ]
  },
  {
   "cell_type": "code",
   "execution_count": 12,
   "metadata": {},
   "outputs": [
    {
     "name": "stdout",
     "output_type": "stream",
     "text": [
      "True\n"
     ]
    }
   ],
   "source": [
    "## Construct identity matrix.\n",
    "idmat = np.identity(5)\n",
    "## Note that we could also have passed mat.shape[0] instead of 5. Then our code would be agnostic about the shape of\n",
    "## mat (other than its being square) and would work as-is even if we had done a 6x6 or 8x8 example or whatever.\n",
    "\n",
    "## Matrix multiplication.\n",
    "mat2 = mat @ idmat\n",
    "\n",
    "## Confirm all equal.\n",
    "print( np.all(mat == mat2) )\n",
    "\n",
    "## As a one-liner, if we didn't need to hold onto any of the intermediate values, we could also have done:\n",
    "## np.all( mat == (mat @ np.identity(mat.shape[0])) )"
   ]
  },
  {
   "cell_type": "markdown",
   "metadata": {},
   "source": [
    "d) Join the matrix with itself and return a new matrix with shape (2,5,5)."
   ]
  },
  {
   "cell_type": "code",
   "execution_count": 23,
   "metadata": {},
   "outputs": [
    {
     "name": "stdout",
     "output_type": "stream",
     "text": [
      "(2, 5, 5)\n",
      "[[[ 0  1  2  3  4]\n",
      "  [ 5  6  7  8  9]\n",
      "  [10 11 12 13 14]\n",
      "  [15 16 17 18 19]\n",
      "  [20 21 22 23 24]]\n",
      "\n",
      " [[ 0  1  2  3  4]\n",
      "  [ 5  6  7  8  9]\n",
      "  [10 11 12 13 14]\n",
      "  [15 16 17 18 19]\n",
      "  [20 21 22 23 24]]]\n"
     ]
    }
   ],
   "source": [
    "## Here's one simple way to do this\n",
    "mat3 = np.array([mat, mat])\n",
    "print(mat3.shape)\n",
    "print(mat3)\n",
    "\n",
    "## Note that np.vstack will NOT work (that glues along axis zero, to make a 10x5 array)\n",
    "\n",
    "## However, np.concatenate along with prepending a length-1 axis to mat *will* work\n",
    "## (but it's more complex and less readable)\n",
    "## print(np.concatenate( (mat[np.newaxis,...],mat[np.newaxis,...]) ))"
   ]
  },
  {
   "cell_type": "markdown",
   "metadata": {},
   "source": [
    "e) Compute the mean of the concatenated matrix along the first axis. Confirm its equal to the original matrix."
   ]
  },
  {
   "cell_type": "code",
   "execution_count": 24,
   "metadata": {},
   "outputs": [
    {
     "name": "stdout",
     "output_type": "stream",
     "text": [
      "[[ 0.  1.  2.  3.  4.]\n",
      " [ 5.  6.  7.  8.  9.]\n",
      " [10. 11. 12. 13. 14.]\n",
      " [15. 16. 17. 18. 19.]\n",
      " [20. 21. 22. 23. 24.]]\n",
      "True\n"
     ]
    }
   ],
   "source": [
    "## Take mean.\n",
    "avg_of_both_mats_in_mat3 = mat3.mean(axis=0)\n",
    "\n",
    "## Taking the mean along axis0 means you traverse along that axis.  So you'd be taking 25 means, i.e. the mean of\n",
    "## 0 & 0, and the mean of 1 & 1, 2 & 2, etc to fill the 5x5 slots.  But that would just give us a copy of mat, right?\n",
    "print(avg_of_both_mats_in_mat3)\n",
    "\n",
    "## Confirm all equal.\n",
    "print( np.all(mat == avg_of_both_mats_in_mat3) )"
   ]
  },
  {
   "cell_type": "markdown",
   "metadata": {},
   "source": [
    "f) Return the indices of the matrix where the elements are greater than 15."
   ]
  },
  {
   "cell_type": "code",
   "execution_count": 29,
   "metadata": {},
   "outputs": [
    {
     "name": "stdout",
     "output_type": "stream",
     "text": [
      "(array([3, 3, 3, 3, 4, 4, 4, 4, 4]), array([1, 2, 3, 4, 0, 1, 2, 3, 4]))\n"
     ]
    },
    {
     "data": {
      "text/plain": [
       "[(3, 1), (3, 2), (3, 3), (3, 4), (4, 0), (4, 1), (4, 2), (4, 3), (4, 4)]"
      ]
     },
     "execution_count": 29,
     "metadata": {},
     "output_type": "execute_result"
    }
   ],
   "source": [
    "# This is precisely what np.where() does if you don't give the optional [x y] arguments listed in the docstring\n",
    "print(np.where(mat > 15))\n",
    "# That's all the axis0 indices and the corresponding axis1 indices of the pertinent elements.\n",
    "\n",
    "# If you want these indices formatted as (axis0,axis1) pairs, we can use Python's zip function\n",
    "# along with Python's * operator (to unpack the pair of arrays, since zip wants each array as a separate argument)\n",
    "list(zip(*np.where(mat > 15)))"
   ]
  },
  {
   "cell_type": "markdown",
   "metadata": {},
   "source": [
    "g) Using `np.where`, set all elements of the matrix greater than 15 to 1, else 0.\n"
   ]
  },
  {
   "cell_type": "code",
   "execution_count": 33,
   "metadata": {},
   "outputs": [
    {
     "name": "stdout",
     "output_type": "stream",
     "text": [
      "[[0 0 0 0 0]\n",
      " [0 0 0 0 0]\n",
      " [0 0 0 0 0]\n",
      " [0 1 1 1 1]\n",
      " [1 1 1 1 1]]\n",
      "[[0 0 0 0 0]\n",
      " [0 0 0 0 0]\n",
      " [0 0 0 0 0]\n",
      " [0 1 1 1 1]\n",
      " [1 1 1 1 1]]\n"
     ]
    }
   ],
   "source": [
    "# For this, use the other syntax of np.where(), which *will* return a (brand new) array meeting the specified conditions\n",
    "print(np.where(mat > 15, 1, 0))\n",
    "# Note that \"set\" here is a bit of a misnomer, since fancy indexing using np.where() will trigger a copy\n",
    "\n",
    "# Fun alternate solution w/o where():\n",
    "# Make the boolean matrix (mat > 15) -- remember, comparisons are vectorized! -- and reinterpret\n",
    "# False as 0 and True as 1 by viewing to int8 (bools occupy one byte, so to change the view rather than make a copy,\n",
    "# we should review as a byte-sized int)\n",
    "print((mat > 15).view(dtype=np.int8))"
   ]
  },
  {
   "cell_type": "markdown",
   "metadata": {},
   "source": [
    "h) Set all elements of the matrix greater than 15 to 2, less than 5 to 1, else 0.\n",
    "\n",
    "Hint: `np.where` can be passed as an input to `np.where`."
   ]
  },
  {
   "cell_type": "code",
   "execution_count": 34,
   "metadata": {},
   "outputs": [
    {
     "data": {
      "text/plain": [
       "array([[0, 0, 0, 0, 0],\n",
       "       [0, 1, 1, 1, 1],\n",
       "       [1, 1, 1, 1, 1],\n",
       "       [1, 2, 2, 2, 2],\n",
       "       [2, 2, 2, 2, 2]])"
      ]
     },
     "execution_count": 34,
     "metadata": {},
     "output_type": "execute_result"
    }
   ],
   "source": [
    "np.where(mat > 15, 2, np.where(mat > 5, 1, 0))"
   ]
  },
  {
   "cell_type": "markdown",
   "metadata": {},
   "source": [
    "i) Return the lower triangle of the original matrix."
   ]
  },
  {
   "cell_type": "code",
   "execution_count": 35,
   "metadata": {},
   "outputs": [
    {
     "name": "stdout",
     "output_type": "stream",
     "text": [
      "[[ 0  0  0  0  0]\n",
      " [ 5  6  0  0  0]\n",
      " [10 11 12  0  0]\n",
      " [15 16 17 18  0]\n",
      " [20 21 22 23 24]]\n"
     ]
    }
   ],
   "source": [
    "# This requires reading about the \"linear-algebra-friendly-functions\" part of the notebook\n",
    "print(np.tril(mat))"
   ]
  },
  {
   "cell_type": "markdown",
   "metadata": {},
   "source": [
    "j) Define a demean function."
   ]
  },
  {
   "cell_type": "code",
   "execution_count": 37,
   "metadata": {},
   "outputs": [],
   "source": [
    "def demean(arr):\n",
    "    \"\"\"De-mean array.\"\"\"\n",
    "    return arr - np.mean(arr)"
   ]
  },
  {
   "cell_type": "markdown",
   "metadata": {},
   "source": [
    "k) Apply the demean function across each row of the matrix."
   ]
  },
  {
   "cell_type": "code",
   "execution_count": 45,
   "metadata": {},
   "outputs": [
    {
     "name": "stdout",
     "output_type": "stream",
     "text": [
      "[[-2. -1.  0.  1.  2.]\n",
      " [-2. -1.  0.  1.  2.]\n",
      " [-2. -1.  0.  1.  2.]\n",
      " [-2. -1.  0.  1.  2.]\n",
      " [-2. -1.  0.  1.  2.]]\n",
      "[[ 0  1  2  3  4]\n",
      " [ 5  6  7  8  9]\n",
      " [10 11 12 13 14]\n",
      " [15 16 17 18 19]\n",
      " [20 21 22 23 24]]\n",
      "[[ 2.]\n",
      " [ 7.]\n",
      " [12.]\n",
      " [17.]\n",
      " [22.]]\n",
      "[[-2. -1.  0.  1.  2.]\n",
      " [-2. -1.  0.  1.  2.]\n",
      " [-2. -1.  0.  1.  2.]\n",
      " [-2. -1.  0.  1.  2.]\n",
      " [-2. -1.  0.  1.  2.]]\n"
     ]
    }
   ],
   "source": [
    "# You can use np.apply_along_axis to move along axis1\n",
    "print(np.apply_along_axis(demean, 1, mat))\n",
    "\n",
    "# But note that the \"return\" line of demean() would come close to accomplishing this if we put 'mat' in place of 'arr',\n",
    "# thanks to broadcasting rules.  So using the demean() function at all is unnecessary if take means along axis1 and\n",
    "# have it keep the axis0 dimension...\n",
    "print(mat)\n",
    "print(np.mean(mat, axis=1, keepdims=True))\n",
    "print(mat - np.mean(mat, axis=1, keepdims=True))"
   ]
  },
  {
   "cell_type": "markdown",
   "metadata": {},
   "source": [
    "## RGB images (from MIT Lincoln Labs)\n",
    "\n",
    "A digital image is simply an array of numbers, which instructs a grid of pixels on a monitor to shine light of specific colors, according to the numerical values in that array.\n",
    "\n",
    "An RGB-image can thus be stored as a 3D NumPy array of shape-(V,H,3). V is the number of pixels along the vertical direction, H is the number of pixels along the horizontal, and the size-3 dimension stores the red, blue, and green color values for a given pixel. Thus a (32,32,3)\n",
    "\n",
    "array would be a 32x32 RGB image.\n",
    "\n",
    "You often work with a collection of images. Suppose we want to store N images in a single array; thus we now consider a 4D shape-(N, V, H, 3) array. For the sake of convenience, let’s simply generate a 4D-array of random numbers as a placeholder for real image data.\n",
    "\n",
    "Specifically:\n",
    "\n",
    "* generate a 4D array that holds 500, 48x48 random RGB images (think about the shape this array should have, and use np.random.rand liberally)\n",
    "\n",
    "* then, normalize those images (by dividing through by max intensity) so that the largest intensity within each color channel within each image is set to 1, but relative intensities are preserved."
   ]
  },
  {
   "cell_type": "markdown",
   "metadata": {},
   "source": [
    "#### Comment on the array shape\n",
    "\n",
    "Focus for a moment on a single RGB image (which will be a 3D array). There's a question (with no cut-and-dry correct answer) about which of two shapes feels more natural for this structure.  Let's compare two candidates (48,48,3) vs (3,48,48)  (I think we can all agree that (48,3,48) is unnatural and weird for a host of reasons, but chime in if you think we're mistaken about that).\n",
    "\n",
    "**(48,48,3)** -- this shape lends itself to thinking about a single 48x48 object (the image as you'd probably view it, namely as a 48x48 square of pixels), with a trio of numbers (the R, G, and B intensities) stored on each pixel.  This is also the shape that the exercise suggested.  But you'd be perfectly within your rights to instead opt for...\n",
    "\n",
    "**(3,48,48)** -- this shape instead lends itself to conceiving of this as 3 \"channels\" at top level (i.e. axis0 level) -- a Red channel, a Green, and a Blue -- and that associated with each channel is a 48x48 image.  This view might feel more natural if you want to think in terms of \"color filters\", and thinking of each image as really being 3 separate images (one Red, one Green, one Blue) that you'd overlay to make the composite image.\n",
    "\n",
    "So which view is \"correct\"?  Or \"better\"?  Again, no right answer to this.  It really depends on how you want to conceptualize the composite image and on which shape will make slicing easier on your cognitively given the tasks you want to perform with these images.  The answers show things both ways.\n",
    "\n",
    "Either way, it's probably most natural to have the N=500 axis *pre*pended to that shape -- so (500,48,48,3) or (500,3,48,48).  That makes it natural to conceptualize this (again, if we tend to think in axis0-first order) as 500 versions of whichever of the two shapes above you opted for."
   ]
  },
  {
   "cell_type": "markdown",
   "metadata": {},
   "source": [
    "### (48,48,3)-based solution"
   ]
  },
  {
   "cell_type": "code",
   "execution_count": 2,
   "metadata": {},
   "outputs": [],
   "source": [
    "import numpy as np\n",
    "# Generate a collection of 500 48x48 RGB images\n",
    "images = np.random.rand(500, 48, 48, 3)"
   ]
  },
  {
   "cell_type": "code",
   "execution_count": 3,
   "metadata": {},
   "outputs": [
    {
     "data": {
      "text/plain": [
       "(500, 3)"
      ]
     },
     "execution_count": 3,
     "metadata": {},
     "output_type": "execute_result"
    }
   ],
   "source": [
    "# Find the max-intensity within each color-channel of each image...\n",
    "\n",
    "# The `axis` option tells max() to treat all the data along axes 1 & 2 (for fixed indices on axes 0 & 3)\n",
    "# as though those 48x48 values were all a single 1D chain, and to take the max among them. The net effect\n",
    "# is to replace axes 1 & 2 (again, for each fixed pair of indices on axes 0 & 3) with a scalar, namely the\n",
    "# max value.  The result will be a 500x3 array holding the maxR, maxG, and maxB values for each of the 500 images.\n",
    "max_RGB = images.max(axis=(1,2))  \n",
    "max_RGB.shape  # No need for print() -- notebook will display the last variable referenced by default"
   ]
  },
  {
   "cell_type": "code",
   "execution_count": 4,
   "metadata": {},
   "outputs": [],
   "source": [
    "# Now we want to broadcast-divide all the R,G,B values on each by their respective maxes in one vectorized swoop.\n",
    "# But (500,3) isn't compatible with (500,48,48,3) (make sure you understand *why* based on broadcasting rules).\n",
    "# But we can make them compatible by manually inserting size-1 dimensions so that the maxes take on shape\n",
    "# (500, 1, 1, 3).  And that allows us to divide in a vectorize numpythonic way.  Note: no need to have a new variable\n",
    "# point to the reshaped array, since once the division is over, we don't need to hold on to the reshaped version.\n",
    "normed_images = images / max_RGB.reshape(500, 1, 1, 3)\n",
    "\n",
    "# Note: slicing max_RGB with some np.newaxis-es thrown in would also have worked (remembering, slicing and/or\n",
    "# using newaxis and/or using reshape change only the *view*, not the *data*. Like this...\n",
    "# normed_images = images / max_RGB[:, np.newaxis, np.newaxis, :]"
   ]
  },
  {
   "cell_type": "code",
   "execution_count": 5,
   "metadata": {},
   "outputs": [
    {
     "name": "stdout",
     "output_type": "stream",
     "text": [
      "[[1. 1. 1.]\n",
      " [1. 1. 1.]\n",
      " [1. 1. 1.]\n",
      " ...\n",
      " [1. 1. 1.]\n",
      " [1. 1. 1.]\n",
      " [1. 1. 1.]]\n"
     ]
    },
    {
     "data": {
      "text/plain": [
       "True"
      ]
     },
     "execution_count": 5,
     "metadata": {},
     "output_type": "execute_result"
    }
   ],
   "source": [
    "# That's it.  Four-line solution(after importing numpy). Did it work?  Here's a sanity check...\n",
    "\n",
    "# Are all the max-values now 1?\n",
    "print(normed_images.max(axis=(1,2)))\n",
    "\n",
    "# And more rigorously\n",
    "np.all(normed_images.max(axis=(1,2)) == 1.0)"
   ]
  },
  {
   "cell_type": "markdown",
   "metadata": {},
   "source": [
    "### (3,48,48)-based solution"
   ]
  },
  {
   "cell_type": "code",
   "execution_count": 6,
   "metadata": {},
   "outputs": [],
   "source": [
    "import numpy as np\n",
    "# Generate a collection of 500 48x48 RGB images\n",
    "images = np.random.rand(500, 3, 48, 48)"
   ]
  },
  {
   "cell_type": "code",
   "execution_count": 7,
   "metadata": {},
   "outputs": [
    {
     "data": {
      "text/plain": [
       "(500, 3)"
      ]
     },
     "execution_count": 7,
     "metadata": {},
     "output_type": "execute_result"
    }
   ],
   "source": [
    "# Find the max-intensity within each color-channel of each image...\n",
    "\n",
    "# The `axis` option tells max() to treat all the data along axes 2 & 3 (for fixed indices on axes 0 & 1)\n",
    "# as though those 48x48 values were all a single 1D chain, and to take the max among them. The net effect\n",
    "# is to replace axes 2 & 3 (again, for each fixed pair of indices on axes 0 & 1) with a scalar, namely the\n",
    "# max value.  The result will be a 500x3 array holding the maxR, maxG, and maxB values for each of the 500 images.\n",
    "max_RGB = images.max(axis=(2,3))  \n",
    "max_RGB.shape  # No need for print() -- notebook will display the last variable referenced by default"
   ]
  },
  {
   "cell_type": "code",
   "execution_count": 8,
   "metadata": {},
   "outputs": [],
   "source": [
    "# Now we want to broadcast-divide all the R,G,B values on each by their respective maxes in one vectorized swoop.\n",
    "# But (500,3) isn't compatible with (500,3, 48,48) (make sure you understand *why* based on broadcasting rules).\n",
    "# But we can make them compatible by manually inserting size-1 dimensions so that the maxes take on shape\n",
    "# (500, 3, 1, 1).  And that allows us to divide in a vectorize numpythonic way.  Note: no need to have a new variable\n",
    "# point to the reshaped array, since once the division is over, we don't need to hold on to the reshaped version.\n",
    "normed_images = images / max_RGB.reshape(500, 3, 1, 1)\n",
    "\n",
    "# Note: slicing max_RGB with some np.newaxis-es thrown in would also have worked (remembering, slicing and/or\n",
    "# using newaxis and/or using reshape change only the *view*, not the *data*. Like this...\n",
    "# normed_images = images / max_RGB[:, :, np.newaxis, np.newaxis]\n",
    "# Or, since the 500 & 3 dims are grouped, we could have used an Ellipsis:\n",
    "# normed_images = images / max_RGB[..., np.newaxis, np.newaxis]"
   ]
  },
  {
   "cell_type": "code",
   "execution_count": 9,
   "metadata": {
    "scrolled": true
   },
   "outputs": [
    {
     "name": "stdout",
     "output_type": "stream",
     "text": [
      "[[1. 1. 1.]\n",
      " [1. 1. 1.]\n",
      " [1. 1. 1.]\n",
      " ...\n",
      " [1. 1. 1.]\n",
      " [1. 1. 1.]\n",
      " [1. 1. 1.]]\n"
     ]
    },
    {
     "data": {
      "text/plain": [
       "True"
      ]
     },
     "execution_count": 9,
     "metadata": {},
     "output_type": "execute_result"
    }
   ],
   "source": [
    "# That's it.  Four-line solution (after importing numpy). Did it work?  Here's a sanity check...\n",
    "\n",
    "# Are all the max-values now 1?\n",
    "print(normed_images.max(axis=(2,3)))\n",
    "\n",
    "# And more rigorously\n",
    "np.all(normed_images.max(axis=(2,3)) == 1.0)"
   ]
  },
  {
   "cell_type": "markdown",
   "metadata": {},
   "source": [
    "### (48,48,3,500)-based solution\n",
    "Just for kicks... what if we'd decided to stick with (48,48,3) and cataloged the 500 different images along the *last* axis?  Other than having to now have `axis=(0,1)` in the argument to `np.max()`, we would get the benefit here of automatic broadcasting of the division without needing to reshape the results of `max()`.\n",
    "\n",
    "How come? Well, the shape of `max.RGB` would now be `(3,500)`, and since we line up two arrays along their *terminal* axes to determine broadcast compatibility, this and our main `images` array would now be compatible. Thus, Numpy would *automatically* prepend two length-1 axes to `max.RGB` (that's broadcast rule 3 from the notes), clone values along the new axis0 and axis1 automatically to expand them to 48x48 (that's broadcast rule 2), and then perform elementwise division.\n",
    "\n",
    "If it feels weird to have the 500 count along the last axis, is it worth doing things this way?  Probably not -- reshapinng or using newaxis is essentially a no-cost operation (\"no-op\") because it only changes the *view* of our `max.RGB` array, and using one of the two shapes in the solutions above (with 500 along axis0) probably feels more natural.  We're including this scenario here mostly for completeness's sake (and to drive home how broadcasting works)."
   ]
  },
  {
   "cell_type": "code",
   "execution_count": 1,
   "metadata": {},
   "outputs": [],
   "source": [
    "import numpy as np\n",
    "# Generate a collection of 500 48x48 RGB images\n",
    "images = np.random.rand(48, 48, 3, 500)"
   ]
  },
  {
   "cell_type": "code",
   "execution_count": 2,
   "metadata": {},
   "outputs": [
    {
     "data": {
      "text/plain": [
       "(3, 500)"
      ]
     },
     "execution_count": 2,
     "metadata": {},
     "output_type": "execute_result"
    }
   ],
   "source": [
    "# Find the max-intensity within each color-channel of each image...\n",
    "\n",
    "# The `axis` option tells max() to treat all the data along axes 0 & 1 (for fixed indices on axes 2 & 3)\n",
    "# as though those 48x48 values were all a single 1D chain, and to take the max among them. The net effect\n",
    "# is to replace axes 0 & 1 (again, for each fixed pair of indices on axes 2 & 3) with a scalar, namely the\n",
    "# max value.  The result will be a 3x500 array: 500 maxR values, then 500 maxG values, then 500 maxB values.\n",
    "max_RGB = images.max(axis=(0,1))  \n",
    "max_RGB.shape  # No need for print() -- notebook will display the last variable referenced by default"
   ]
  },
  {
   "cell_type": "code",
   "execution_count": 5,
   "metadata": {},
   "outputs": [
    {
     "name": "stdout",
     "output_type": "stream",
     "text": [
      "(48, 48, 3, 500)\n"
     ]
    }
   ],
   "source": [
    "# Now we want to broadcast-divide all the R,G,B values on each by their respective maxes in one vectorized swoop.\n",
    "# since (3,500) is broadcast compatible with (48,48, 3, 500) (make sure you understand *why* based on broadcasting rules),\n",
    "# the vectorization happens automatically, w/o any *explicit* reshaping on our part (Numpy handles it behind the scenes).\n",
    "normed_images = images / max_RGB\n",
    "print(normed_images.shape)"
   ]
  },
  {
   "cell_type": "code",
   "execution_count": 6,
   "metadata": {
    "scrolled": true
   },
   "outputs": [
    {
     "name": "stdout",
     "output_type": "stream",
     "text": [
      "[[1. 1. 1. ... 1. 1. 1.]\n",
      " [1. 1. 1. ... 1. 1. 1.]\n",
      " [1. 1. 1. ... 1. 1. 1.]]\n"
     ]
    },
    {
     "data": {
      "text/plain": [
       "True"
      ]
     },
     "execution_count": 6,
     "metadata": {},
     "output_type": "execute_result"
    }
   ],
   "source": [
    "# That's it.  Four-line solution (after importing numpy). Did it work?  Here's a sanity check...\n",
    "\n",
    "# Are all the max-values now 1? NOTE: the 500x3 maxes are now laid out in 3x500 shape --\n",
    "# all 500 red maxes, then all 500 green maxes, then all 500 blue maxes\n",
    "print(normed_images.max(axis=(0,1)))\n",
    "\n",
    "# And more rigorously\n",
    "np.all(normed_images.max(axis=(0,1)) == 1.0)"
   ]
  }
 ],
 "metadata": {
  "kernelspec": {
   "display_name": "Python 3",
   "language": "python",
   "name": "python3"
  },
  "language_info": {
   "codemirror_mode": {
    "name": "ipython",
    "version": 3
   },
   "file_extension": ".py",
   "mimetype": "text/x-python",
   "name": "python",
   "nbconvert_exporter": "python",
   "pygments_lexer": "ipython3",
   "version": "3.8.3"
  }
 },
 "nbformat": 4,
 "nbformat_minor": 2
}
