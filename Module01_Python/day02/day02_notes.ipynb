{
 "cells": [
  {
   "cell_type": "markdown",
   "metadata": {},
   "source": [
    "# Python Day 2 \n",
    "\n",
    "## Goals for Today\n",
    "\n",
    "There are three main goals for today's lecture:\n",
    "\n",
    "1. Getting comfortable with making, manipulating, and visualizing NumPy arrays. \n",
    "2. Building the habit of searching for and reading [code documentation](https://numpy.org/doc/stable/reference/).\n",
    "3. Breaking down complex programming challenges step-by-step and using pseudo-code."
   ]
  },
  {
   "cell_type": "markdown",
   "metadata": {},
   "source": [
    "## Section 1: Importing Libraries\n",
    "If vanilla python seems rather lackluster, that's because it is. Fortunately, the python scientific stack adds a broad and powerful array of python packages to fill in the gaps. Once installed, python packages are easily loaded in for use."
   ]
  },
  {
   "cell_type": "code",
   "execution_count": 1,
   "metadata": {},
   "outputs": [
    {
     "name": "stdout",
     "output_type": "stream",
     "text": [
      "1.18.1\n"
     ]
    }
   ],
   "source": [
    "import numpy as np\n",
    "print(np.__version__)"
   ]
  },
  {
   "cell_type": "markdown",
   "metadata": {},
   "source": [
    "Commands from packages are like attributes of objects. Many libraries also have submodules, or clusters of related functions."
   ]
  },
  {
   "cell_type": "code",
   "execution_count": null,
   "metadata": {},
   "outputs": [],
   "source": [
    "np.linalg\n",
    "np.random"
   ]
  },
  {
   "cell_type": "markdown",
   "metadata": {},
   "source": [
    "## Section 2: NumPy Array Basics\n",
    "\n",
    "NumPy arrays have many built-in attributes that make them very convenient to use."
   ]
  },
  {
   "cell_type": "code",
   "execution_count": 2,
   "metadata": {},
   "outputs": [],
   "source": [
    "np.random.seed(47404)\n",
    "\n",
    "## Generate arbitrary array.\n",
    "x = np.random.randint(0,9,(3,3,2))"
   ]
  },
  {
   "cell_type": "markdown",
   "metadata": {},
   "source": [
    "With ipython environments, if you cannot remember the functions available you can make use of **tab-complete**."
   ]
  },
  {
   "cell_type": "code",
   "execution_count": 3,
   "metadata": {},
   "outputs": [
    {
     "data": {
      "text/plain": [
       "array([[[0, 2],\n",
       "        [0, 2],\n",
       "        [4, 3]],\n",
       "\n",
       "       [[4, 6],\n",
       "        [5, 2],\n",
       "        [8, 3]],\n",
       "\n",
       "       [[6, 8],\n",
       "        [7, 1],\n",
       "        [0, 3]]])"
      ]
     },
     "execution_count": 3,
     "metadata": {},
     "output_type": "execute_result"
    }
   ],
   "source": [
    "## Try out tab-complete.\n",
    "x"
   ]
  },
  {
   "cell_type": "markdown",
   "metadata": {},
   "source": [
    "The following attributes help you keep track of the most important pieces of metadata."
   ]
  },
  {
   "cell_type": "code",
   "execution_count": 4,
   "metadata": {},
   "outputs": [
    {
     "name": "stdout",
     "output_type": "stream",
     "text": [
      "(3, 3, 2)\n",
      "3\n",
      "18\n",
      "int64\n"
     ]
    }
   ],
   "source": [
    "print(x.shape)    # shape: dimensions of array\n",
    "print(x.ndim)     # ndim:  number of dimensions of array\n",
    "print(x.size)     # size:  number of elements in array\n",
    "print(x.dtype)    # dtype: data type of elements"
   ]
  },
  {
   "cell_type": "markdown",
   "metadata": {},
   "source": [
    "Changing the dtype of an array is easy!"
   ]
  },
  {
   "cell_type": "code",
   "execution_count": 5,
   "metadata": {},
   "outputs": [],
   "source": [
    "x.astype(int);         # change to int\n",
    "x.astype(str);         # change to string\n",
    "x.astype(float);       # change to float (default)\n",
    "x.astype(np.float16);  # change to float16"
   ]
  },
  {
   "cell_type": "markdown",
   "metadata": {},
   "source": [
    "Many useful functions are built-in to NumPy arrays."
   ]
  },
  {
   "cell_type": "code",
   "execution_count": 6,
   "metadata": {},
   "outputs": [
    {
     "name": "stdout",
     "output_type": "stream",
     "text": [
      "Min: 0\n",
      "Max: 8\n",
      "Sum: 64\n",
      "Mean: 3.5555555555555554\n"
     ]
    }
   ],
   "source": [
    "print('Min:', x.min())      # Get max of array.\n",
    "print('Max:', x.max())      # Get min of array.\n",
    "print('Sum:', x.sum())      # Get sum of array.\n",
    "print('Mean:',x.mean())     # Get mean of array."
   ]
  },
  {
   "cell_type": "markdown",
   "metadata": {},
   "source": [
    "One of the most crucial functions is `copy`."
   ]
  },
  {
   "cell_type": "code",
   "execution_count": 7,
   "metadata": {},
   "outputs": [
    {
     "data": {
      "text/plain": [
       "array([[[0, 2],\n",
       "        [0, 2],\n",
       "        [4, 3]],\n",
       "\n",
       "       [[4, 6],\n",
       "        [5, 2],\n",
       "        [8, 3]],\n",
       "\n",
       "       [[6, 8],\n",
       "        [7, 1],\n",
       "        [0, 3]]])"
      ]
     },
     "execution_count": 7,
     "metadata": {},
     "output_type": "execute_result"
    }
   ],
   "source": [
    "y = x.copy()\n",
    "x[:] = 0\n",
    "y"
   ]
  },
  {
   "cell_type": "markdown",
   "metadata": {},
   "source": [
    "### Mini-exercise\n",
    "\n",
    "a) Look up `np.linspace`. How does it differ from `np.arange`? "
   ]
  },
  {
   "cell_type": "code",
   "execution_count": null,
   "metadata": {},
   "outputs": [],
   "source": []
  },
  {
   "cell_type": "markdown",
   "metadata": {},
   "source": [
    "b) Using `np.linspace`, make an evenly-spaced array, 21 elements long, spanning from -1 to 1. Confirm it's length = 21."
   ]
  },
  {
   "cell_type": "code",
   "execution_count": null,
   "metadata": {},
   "outputs": [],
   "source": []
  },
  {
   "cell_type": "markdown",
   "metadata": {},
   "source": [
    "c) Compute the standard deviation of the array. (Hint: this is a built-in attribute.)"
   ]
  },
  {
   "cell_type": "code",
   "execution_count": null,
   "metadata": {},
   "outputs": [],
   "source": []
  },
  {
   "cell_type": "markdown",
   "metadata": {},
   "source": [
    "d) Compute the 40% percentile of the array. (Hint: this is *not* a built-in attribute.)"
   ]
  },
  {
   "cell_type": "code",
   "execution_count": null,
   "metadata": {},
   "outputs": [],
   "source": []
  },
  {
   "cell_type": "markdown",
   "metadata": {},
   "source": [
    "e) Convert the elements to type `int`. What happens?"
   ]
  },
  {
   "cell_type": "code",
   "execution_count": null,
   "metadata": {},
   "outputs": [],
   "source": []
  },
  {
   "cell_type": "markdown",
   "metadata": {},
   "source": [
    "## Section 3: Axis Operations\n",
    "\n",
    "### Built-in operations"
   ]
  },
  {
   "cell_type": "code",
   "execution_count": 8,
   "metadata": {},
   "outputs": [
    {
     "name": "stdout",
     "output_type": "stream",
     "text": [
      "[[0.   0.33 0.67 1.  ]\n",
      " [1.33 1.67 2.   2.33]\n",
      " [2.67 3.   3.33 3.67]\n",
      " [4.   4.33 4.67 5.  ]]\n"
     ]
    }
   ],
   "source": [
    "np.random.seed(47404)\n",
    "\n",
    "## Generate arbitrary matrix.\n",
    "X = np.linspace(0,5,16).reshape(4,4).round(2)\n",
    "print(X)"
   ]
  },
  {
   "cell_type": "markdown",
   "metadata": {},
   "source": [
    "Unless otherwise specified, built-in operations will be applied element-wise (e.g. round) or across the entire array."
   ]
  },
  {
   "cell_type": "code",
   "execution_count": 9,
   "metadata": {},
   "outputs": [
    {
     "name": "stdout",
     "output_type": "stream",
     "text": [
      "40.0\n"
     ]
    }
   ],
   "source": [
    "print( X.sum() )"
   ]
  },
  {
   "cell_type": "markdown",
   "metadata": {},
   "source": [
    "However, we can modify along which dimension an operation is applied using the `axis` flag. Below we sum across the first dimension."
   ]
  },
  {
   "cell_type": "code",
   "execution_count": 10,
   "metadata": {},
   "outputs": [
    {
     "name": "stdout",
     "output_type": "stream",
     "text": [
      "[ 8.    9.33 10.67 12.  ]\n"
     ]
    }
   ],
   "source": [
    "## Sum across the first axis.\n",
    "print( X.sum(axis=0) )"
   ]
  },
  {
   "cell_type": "markdown",
   "metadata": {},
   "source": [
    "Now we sum across the second dimension."
   ]
  },
  {
   "cell_type": "code",
   "execution_count": 11,
   "metadata": {},
   "outputs": [
    {
     "name": "stdout",
     "output_type": "stream",
     "text": [
      "[ 2.    7.33 12.67 18.  ]\n"
     ]
    }
   ],
   "source": [
    "## Sum across the second axis.\n",
    "print( X.sum(axis=1) )"
   ]
  },
  {
   "cell_type": "markdown",
   "metadata": {},
   "source": [
    "### Detour: defining functions\n",
    "\n",
    "In scientific programming, one of the most important skills is to be able to write your own functions. Let's pause for a moment to review **function definition** in python. Below we write a simple function that scales a 1d-array in the range [min, max]."
   ]
  },
  {
   "cell_type": "code",
   "execution_count": 12,
   "metadata": {},
   "outputs": [],
   "source": [
    "def minmax_scale(arr, feature_range=(0,1)):\n",
    "    \"\"\"Scale array to given range.\n",
    "    \n",
    "    Parameters\n",
    "    ----------\n",
    "    arr : 1d array\n",
    "        The data to scale.\n",
    "    feature_range : tuple (min, max), default=(0, 1)\n",
    "        Desired range of transformed data.\n",
    "        \n",
    "    Returns\n",
    "    -------\n",
    "    arr_scale : 1d array\n",
    "        Transformed array.\n",
    "    \"\"\"\n",
    "    \n",
    "    ## Error-catching.\n",
    "    arr = np.array(arr)\n",
    "    \n",
    "    ## Scale between [0,1].\n",
    "    arr_scale = (arr - arr.min()) / (arr.max() - arr.min())\n",
    "    \n",
    "    ## Scale between [min,max].\n",
    "    a, b = feature_range\n",
    "    arr_scale = arr_scale * (b - a) + a\n",
    "    \n",
    "    return arr_scale"
   ]
  },
  {
   "cell_type": "markdown",
   "metadata": {},
   "source": [
    "Let's confirm our function works. As above, when applied without specifying an axis, the function will be applied across the entire matrix."
   ]
  },
  {
   "cell_type": "code",
   "execution_count": 13,
   "metadata": {},
   "outputs": [
    {
     "name": "stdout",
     "output_type": "stream",
     "text": [
      "[[0.   0.33 0.67 1.  ]\n",
      " [1.33 1.67 2.   2.33]\n",
      " [2.67 3.   3.33 3.67]\n",
      " [4.   4.33 4.67 5.  ]]\n",
      "\n",
      "[[0.   0.07 0.13 0.2 ]\n",
      " [0.27 0.33 0.4  0.47]\n",
      " [0.53 0.6  0.67 0.73]\n",
      " [0.8  0.87 0.93 1.  ]]\n"
     ]
    }
   ],
   "source": [
    "X_scale = minmax_scale(X)\n",
    "print(X, end='\\n\\n')\n",
    "print(X_scale.round(2))"
   ]
  },
  {
   "cell_type": "markdown",
   "metadata": {},
   "source": [
    "### Apply along axis "
   ]
  },
  {
   "cell_type": "markdown",
   "metadata": {},
   "source": [
    "When a function is not a built-in operation, we can use `np.apply_along_axis` to apply arbitrary functions along each dimension of an array. We apply our new function across the first dimension (across each column) below."
   ]
  },
  {
   "cell_type": "code",
   "execution_count": 14,
   "metadata": {},
   "outputs": [
    {
     "name": "stdout",
     "output_type": "stream",
     "text": [
      "[[0.     0.     0.     0.    ]\n",
      " [0.3325 0.335  0.3325 0.3325]\n",
      " [0.6675 0.6675 0.665  0.6675]\n",
      " [1.     1.     1.     1.    ]]\n"
     ]
    }
   ],
   "source": [
    "## Apply across columns.\n",
    "X_scale = np.apply_along_axis(minmax_scale, 0, X)\n",
    "print(X_scale)"
   ]
  },
  {
   "cell_type": "markdown",
   "metadata": {},
   "source": [
    "We apply our new function across the second dimension (across each row) below."
   ]
  },
  {
   "cell_type": "code",
   "execution_count": 15,
   "metadata": {},
   "outputs": [
    {
     "name": "stdout",
     "output_type": "stream",
     "text": [
      "[[0.   0.33 0.67 1.  ]\n",
      " [0.   0.34 0.67 1.  ]\n",
      " [0.   0.33 0.66 1.  ]\n",
      " [0.   0.33 0.67 1.  ]]\n"
     ]
    }
   ],
   "source": [
    "## Apply across rows.\n",
    "X_scale = np.apply_along_axis(minmax_scale, 1, X)\n",
    "print(X_scale)"
   ]
  },
  {
   "cell_type": "markdown",
   "metadata": {},
   "source": [
    "### Mini-exercise"
   ]
  },
  {
   "cell_type": "markdown",
   "metadata": {},
   "source": [
    "a) Find the index (position) of the *largest* element for each row."
   ]
  },
  {
   "cell_type": "code",
   "execution_count": null,
   "metadata": {},
   "outputs": [],
   "source": []
  },
  {
   "cell_type": "markdown",
   "metadata": {},
   "source": [
    "b) Find the index (position) of the *smallest* element for each column."
   ]
  },
  {
   "cell_type": "code",
   "execution_count": null,
   "metadata": {},
   "outputs": [],
   "source": []
  },
  {
   "cell_type": "markdown",
   "metadata": {},
   "source": [
    "c) How would you make sure you applied `minmax_scale` to the right axis?"
   ]
  },
  {
   "cell_type": "code",
   "execution_count": null,
   "metadata": {},
   "outputs": [],
   "source": []
  },
  {
   "cell_type": "markdown",
   "metadata": {},
   "source": [
    "## Section 4: Manipulating Arrays \n",
    "\n",
    "### Shaping Arrays"
   ]
  },
  {
   "cell_type": "markdown",
   "metadata": {},
   "source": [
    "Importantly, all NumPy arrays and matrices have a `reshape` attribute allowing for transforming matrices into different dimensions."
   ]
  },
  {
   "cell_type": "code",
   "execution_count": 16,
   "metadata": {},
   "outputs": [],
   "source": [
    "## Make new array.\n",
    "x = np.arange(24)\n",
    "\n",
    "## Reshape array.\n",
    "X = x.reshape(24,1);      # col vector\n",
    "X = x.reshape(1,24);      # row vector\n",
    "X = x.reshape(6,4);       # 2d array\n",
    "X = x.reshape(4,3,2);     # 3d array"
   ]
  },
  {
   "cell_type": "markdown",
   "metadata": {},
   "source": [
    "One nice feature of NumPy is that it allows for intelligent reshaping. If you specify `-1`, it will determine the size of a remaining dimension based on all others."
   ]
  },
  {
   "cell_type": "code",
   "execution_count": 17,
   "metadata": {},
   "outputs": [
    {
     "name": "stdout",
     "output_type": "stream",
     "text": [
      "(3, 4, 2)\n"
     ]
    }
   ],
   "source": [
    "X = x.reshape(3,-1,2)\n",
    "print(X.shape)"
   ]
  },
  {
   "cell_type": "markdown",
   "metadata": {},
   "source": [
    "In addition to `reshape`, there are a handful of other functions available for manipulating the dimensions of an array.\n",
    "\n",
    "Transpose, `T`, will flip a matrix along its diagonal "
   ]
  },
  {
   "cell_type": "code",
   "execution_count": 18,
   "metadata": {},
   "outputs": [
    {
     "name": "stdout",
     "output_type": "stream",
     "text": [
      "(3, 4, 2)\n",
      "(2, 4, 3)\n"
     ]
    }
   ],
   "source": [
    "print(X.shape)\n",
    "print(X.T.shape)"
   ]
  },
  {
   "cell_type": "markdown",
   "metadata": {},
   "source": [
    "`swapaxes` allows you to reorder two axes of an array."
   ]
  },
  {
   "cell_type": "code",
   "execution_count": 19,
   "metadata": {},
   "outputs": [
    {
     "name": "stdout",
     "output_type": "stream",
     "text": [
      "(3, 4, 2)\n",
      "(4, 3, 2)\n"
     ]
    }
   ],
   "source": [
    "print(X.shape)\n",
    "print(X.swapaxes(0,1).shape)"
   ]
  },
  {
   "cell_type": "markdown",
   "metadata": {},
   "source": [
    "`rollaxis` allows you to shift all axes of an array. "
   ]
  },
  {
   "cell_type": "code",
   "execution_count": 20,
   "metadata": {},
   "outputs": [
    {
     "data": {
      "text/plain": [
       "(4, 3, 2)"
      ]
     },
     "execution_count": 20,
     "metadata": {},
     "output_type": "execute_result"
    }
   ],
   "source": [
    "np.rollaxis(X,1).shape"
   ]
  },
  {
   "cell_type": "markdown",
   "metadata": {},
   "source": [
    "`flatten` allows you to compress an N-d array to a 1-d array."
   ]
  },
  {
   "cell_type": "code",
   "execution_count": 21,
   "metadata": {},
   "outputs": [
    {
     "data": {
      "text/plain": [
       "(24,)"
      ]
     },
     "execution_count": 21,
     "metadata": {},
     "output_type": "execute_result"
    }
   ],
   "source": [
    "X.flatten().shape"
   ]
  },
  {
   "cell_type": "markdown",
   "metadata": {},
   "source": [
    "### Joining Arrays"
   ]
  },
  {
   "cell_type": "markdown",
   "metadata": {},
   "source": [
    "Assuming they have similar shapes & dtypes, NumPy arrays are easily joined. In general, the syntax is to pass a list of arrays to a joining function. "
   ]
  },
  {
   "cell_type": "code",
   "execution_count": 22,
   "metadata": {},
   "outputs": [
    {
     "name": "stdout",
     "output_type": "stream",
     "text": [
      "[[0 1]\n",
      " [2 3]\n",
      " [4 5]\n",
      " [6 7]\n",
      " [8 9]]\n"
     ]
    }
   ],
   "source": [
    "## Initialize array.\n",
    "x = np.arange(10).reshape(5,2)\n",
    "print(x)"
   ]
  },
  {
   "cell_type": "markdown",
   "metadata": {},
   "source": [
    "The simplest (silliest) merging approach is to use `np.array` to concatenate two arrays along the first axis. "
   ]
  },
  {
   "cell_type": "code",
   "execution_count": 23,
   "metadata": {},
   "outputs": [
    {
     "name": "stdout",
     "output_type": "stream",
     "text": [
      "[[[0 1]\n",
      "  [2 3]\n",
      "  [4 5]\n",
      "  [6 7]\n",
      "  [8 9]]\n",
      "\n",
      " [[0 1]\n",
      "  [2 3]\n",
      "  [4 5]\n",
      "  [6 7]\n",
      "  [8 9]]]\n",
      "shape: (2, 5, 2)\n"
     ]
    }
   ],
   "source": [
    "## Join arrays.\n",
    "X = np.array([x,x])\n",
    "print(X)\n",
    "print('shape:', X.shape)"
   ]
  },
  {
   "cell_type": "markdown",
   "metadata": {},
   "source": [
    "There are other joining functions, differing in how (along which axis) they merge two arrays. Some examples are below:"
   ]
  },
  {
   "cell_type": "code",
   "execution_count": 24,
   "metadata": {},
   "outputs": [
    {
     "name": "stdout",
     "output_type": "stream",
     "text": [
      "[[0 1]\n",
      " [2 3]\n",
      " [4 5]\n",
      " [6 7]\n",
      " [8 9]\n",
      " [0 1]\n",
      " [2 3]\n",
      " [4 5]\n",
      " [6 7]\n",
      " [8 9]]\n",
      "shape: (10, 2)\n"
     ]
    }
   ],
   "source": [
    "## Join along first axis.\n",
    "X = np.concatenate([x,x])\n",
    "print(X)\n",
    "print('shape:', X.shape)"
   ]
  },
  {
   "cell_type": "code",
   "execution_count": 25,
   "metadata": {},
   "outputs": [
    {
     "name": "stdout",
     "output_type": "stream",
     "text": [
      "[[0 1]\n",
      " [2 3]\n",
      " [4 5]\n",
      " [6 7]\n",
      " [8 9]\n",
      " [0 1]\n",
      " [2 3]\n",
      " [4 5]\n",
      " [6 7]\n",
      " [8 9]]\n",
      "shape: (10, 2)\n"
     ]
    }
   ],
   "source": [
    "## Join along rows (same as vstack).\n",
    "X = np.row_stack([x,x])\n",
    "print(X)\n",
    "print('shape:', X.shape)"
   ]
  },
  {
   "cell_type": "code",
   "execution_count": 26,
   "metadata": {},
   "outputs": [
    {
     "name": "stdout",
     "output_type": "stream",
     "text": [
      "[[0 1 0 1]\n",
      " [2 3 2 3]\n",
      " [4 5 4 5]\n",
      " [6 7 6 7]\n",
      " [8 9 8 9]]\n",
      "shape: (5, 4)\n"
     ]
    }
   ],
   "source": [
    "## Join along columns (same as hstack).\n",
    "X = np.column_stack([x,x])\n",
    "print(X)\n",
    "print('shape:', X.shape)"
   ]
  },
  {
   "cell_type": "code",
   "execution_count": 27,
   "metadata": {},
   "outputs": [
    {
     "name": "stdout",
     "output_type": "stream",
     "text": [
      "[[0 1]\n",
      " [2 3]\n",
      " [4 5]\n",
      " [6 7]\n",
      " [8 9]\n",
      " [0 1]\n",
      " [2 3]\n",
      " [4 5]\n",
      " [6 7]\n",
      " [8 9]]\n",
      "shape: (10, 2)\n"
     ]
    }
   ],
   "source": [
    "## Join along specified axis.\n",
    "X = np.concatenate([x,x], axis=0)\n",
    "print(X)\n",
    "print('shape:', X.shape)"
   ]
  },
  {
   "cell_type": "code",
   "execution_count": 28,
   "metadata": {},
   "outputs": [
    {
     "name": "stdout",
     "output_type": "stream",
     "text": [
      "[[[0 1]\n",
      "  [2 3]\n",
      "  [4 5]\n",
      "  [6 7]\n",
      "  [8 9]]\n",
      "\n",
      " [[0 1]\n",
      "  [2 3]\n",
      "  [4 5]\n",
      "  [6 7]\n",
      "  [8 9]]]\n",
      "shape: (2, 5, 2)\n"
     ]
    }
   ],
   "source": [
    "## Join along new axis.\n",
    "X = np.stack([x,x], axis=0)\n",
    "print(X)\n",
    "print('shape:', X.shape)"
   ]
  },
  {
   "cell_type": "markdown",
   "metadata": {},
   "source": [
    "### Mini-exercise"
   ]
  },
  {
   "cell_type": "markdown",
   "metadata": {},
   "source": [
    "a) Using a `np.random` function of your choice, make a new array *A* of shape [2,7,4]. Then complete the following steps:\n",
    "- Make a copy of *A*. Store the copy in a new variable *B*.\n",
    "- Swap the first and third axes of *B*.\n",
    "- Flatten *B* into a 1-d array.\n",
    "- Reshape *B* back into the original dimensions of *A*.\n",
    "\n",
    "Now compare A and B. Are they in the same order? "
   ]
  },
  {
   "cell_type": "code",
   "execution_count": null,
   "metadata": {},
   "outputs": [],
   "source": []
  },
  {
   "cell_type": "markdown",
   "metadata": {},
   "source": [
    "b) Beginning below with *x*, a random [4,1] array, use various joining functions above until you have *X*, a new matrix of shape [12,3]. The order of the elements of *X* don't matter."
   ]
  },
  {
   "cell_type": "code",
   "execution_count": null,
   "metadata": {},
   "outputs": [],
   "source": [
    "x = np.random.uniform(size=(4,1))"
   ]
  },
  {
   "cell_type": "markdown",
   "metadata": {},
   "source": [
    "c) *Y* is a new random variable of shape [1,12,7,3]. Reshape *Y* until you can subtract *X* from it. In other words, reshape this new variable until you can execute: ```Y - X```."
   ]
  },
  {
   "cell_type": "code",
   "execution_count": null,
   "metadata": {},
   "outputs": [],
   "source": [
    "Y = np.random.normal(size=(1,12,7,3))"
   ]
  },
  {
   "cell_type": "markdown",
   "metadata": {},
   "source": [
    "## Section 5: Indexing, Masking, and Assignments"
   ]
  },
  {
   "cell_type": "markdown",
   "metadata": {},
   "source": [
    "NumPy supports a great many ways of indexing."
   ]
  },
  {
   "cell_type": "code",
   "execution_count": 29,
   "metadata": {},
   "outputs": [
    {
     "name": "stdout",
     "output_type": "stream",
     "text": [
      "[[9 0 2 0 2 4]\n",
      " [3 4 6 5 2 9]\n",
      " [8 3 9 6 8 7]\n",
      " [1 0 3 3 6 7]\n",
      " [1 3 3 3 8 3]\n",
      " [5 1 7 0 7 0]]\n"
     ]
    }
   ],
   "source": [
    "np.random.seed(47404)\n",
    "\n",
    "## Construct an arbitrary matrix.\n",
    "X = np.random.randint(0, 10, (6,6))\n",
    "print(X)"
   ]
  },
  {
   "cell_type": "code",
   "execution_count": 30,
   "metadata": {},
   "outputs": [
    {
     "data": {
      "text/plain": [
       "array([[9, 0, 2, 0, 2, 4]])"
      ]
     },
     "execution_count": 30,
     "metadata": {},
     "output_type": "execute_result"
    }
   ],
   "source": [
    "## Access particular rows.\n",
    "X[:1]"
   ]
  },
  {
   "cell_type": "code",
   "execution_count": 31,
   "metadata": {},
   "outputs": [
    {
     "data": {
      "text/plain": [
       "array([[9, 0, 2, 0, 2],\n",
       "       [3, 4, 6, 5, 2],\n",
       "       [8, 3, 9, 6, 8],\n",
       "       [1, 0, 3, 3, 6],\n",
       "       [1, 3, 3, 3, 8],\n",
       "       [5, 1, 7, 0, 7]])"
      ]
     },
     "execution_count": 31,
     "metadata": {},
     "output_type": "execute_result"
    }
   ],
   "source": [
    "## Access particular columns.\n",
    "X[:,:5]"
   ]
  },
  {
   "cell_type": "code",
   "execution_count": 32,
   "metadata": {},
   "outputs": [
    {
     "data": {
      "text/plain": [
       "array([[4],\n",
       "       [9],\n",
       "       [7],\n",
       "       [7],\n",
       "       [3]])"
      ]
     },
     "execution_count": 32,
     "metadata": {},
     "output_type": "execute_result"
    }
   ],
   "source": [
    "## Access particular rows/columns.\n",
    "X[:5,5:]"
   ]
  },
  {
   "cell_type": "code",
   "execution_count": 33,
   "metadata": {},
   "outputs": [
    {
     "data": {
      "text/plain": [
       "array([9, 0, 7])"
      ]
     },
     "execution_count": 33,
     "metadata": {},
     "output_type": "execute_result"
    }
   ],
   "source": [
    "## Access using lists of indexes.\n",
    "X[[1,3,5],[5,1,2]]"
   ]
  },
  {
   "cell_type": "markdown",
   "metadata": {},
   "source": [
    "Far more useful is indexing with boolean arrays."
   ]
  },
  {
   "cell_type": "code",
   "execution_count": 34,
   "metadata": {},
   "outputs": [
    {
     "data": {
      "text/plain": [
       "array([9, 6, 9, 8, 9, 6, 8, 7, 6, 7, 8, 7, 7])"
      ]
     },
     "execution_count": 34,
     "metadata": {},
     "output_type": "execute_result"
    }
   ],
   "source": [
    "## Return all elements of matrix that meet criterion.\n",
    "X[X > 5]"
   ]
  },
  {
   "cell_type": "code",
   "execution_count": 35,
   "metadata": {},
   "outputs": [
    {
     "data": {
      "text/plain": [
       "array([[1, 0, 3, 3, 6, 7],\n",
       "       [1, 3, 3, 3, 8, 3]])"
      ]
     },
     "execution_count": 35,
     "metadata": {},
     "output_type": "execute_result"
    }
   ],
   "source": [
    "## Return all rows that begin with particular integer.\n",
    "X[X[:,0] == 1]"
   ]
  },
  {
   "cell_type": "code",
   "execution_count": 36,
   "metadata": {},
   "outputs": [
    {
     "data": {
      "text/plain": [
       "array([[9, 2, 2, 4],\n",
       "       [3, 6, 2, 9],\n",
       "       [8, 9, 8, 7],\n",
       "       [1, 3, 6, 7],\n",
       "       [1, 3, 8, 3],\n",
       "       [5, 7, 7, 0]])"
      ]
     },
     "execution_count": 36,
     "metadata": {},
     "output_type": "execute_result"
    }
   ],
   "source": [
    "## Return all columns whose sum is greater than 40.\n",
    "X[:,X.sum(axis=0) > 20]"
   ]
  },
  {
   "cell_type": "markdown",
   "metadata": {},
   "source": [
    "For larger matrices, we can use the ellipsis as a shorthand."
   ]
  },
  {
   "cell_type": "code",
   "execution_count": 37,
   "metadata": {},
   "outputs": [
    {
     "data": {
      "text/plain": [
       "array([[8, 1, 1, 7, 5],\n",
       "       [0, 0, 6, 2, 6],\n",
       "       [1, 0, 2, 2, 0],\n",
       "       [3, 8, 8, 1, 5],\n",
       "       [0, 0, 1, 6, 8]])"
      ]
     },
     "execution_count": 37,
     "metadata": {},
     "output_type": "execute_result"
    }
   ],
   "source": [
    "Y = np.random.randint(0,9,(5,5,5,5))\n",
    "Y[0,...,-1]"
   ]
  },
  {
   "cell_type": "markdown",
   "metadata": {},
   "source": [
    "We can update NumPy arrays in place."
   ]
  },
  {
   "cell_type": "code",
   "execution_count": 38,
   "metadata": {},
   "outputs": [
    {
     "name": "stdout",
     "output_type": "stream",
     "text": [
      "[[55  0  2  0  2  4]\n",
      " [ 3  4  6  5  2  9]\n",
      " [ 8  3  9  6  8  7]\n",
      " [ 1  0  3  3  6  7]\n",
      " [ 1  3  3  3  8  3]\n",
      " [ 5  1  7  0  7  0]]\n"
     ]
    }
   ],
   "source": [
    "## Update first element.\n",
    "X[0,0] = 55\n",
    "print(X)"
   ]
  },
  {
   "cell_type": "code",
   "execution_count": 39,
   "metadata": {},
   "outputs": [
    {
     "name": "stdout",
     "output_type": "stream",
     "text": [
      "[[55  0  2  0  2  4]\n",
      " [ 3  4  6  5  2  9]\n",
      " [ 8  3  9  6  8  7]\n",
      " [66 66 66 66 66 66]\n",
      " [ 1  3  3  3  8  3]\n",
      " [ 5  1  7  0  7  0]]\n"
     ]
    }
   ],
   "source": [
    "## Update full row.\n",
    "X[3,:] = 66\n",
    "print(X)"
   ]
  },
  {
   "cell_type": "code",
   "execution_count": 40,
   "metadata": {},
   "outputs": [
    {
     "name": "stdout",
     "output_type": "stream",
     "text": [
      "[[55  0  2  0 77 77]\n",
      " [ 3  4  6  5 77 77]\n",
      " [ 8  3  9  6 77 77]\n",
      " [66 66 66 66 77 77]\n",
      " [ 1  3  3  3 77 77]\n",
      " [ 5  1  7  0 77 77]]\n"
     ]
    }
   ],
   "source": [
    "## Update multiple columns.\n",
    "X[:,-2:] = 77\n",
    "print(X)"
   ]
  },
  {
   "cell_type": "markdown",
   "metadata": {},
   "source": [
    "This also allows for convenient masking."
   ]
  },
  {
   "cell_type": "code",
   "execution_count": 41,
   "metadata": {},
   "outputs": [
    {
     "name": "stdout",
     "output_type": "stream",
     "text": [
      "[[55  0  2  0 77 77]\n",
      " [ 3  4  6 88 77 77]\n",
      " [ 8  3  9  6 77 77]\n",
      " [66 66 66 66 77 77]\n",
      " [ 1  3  3  3 77 77]\n",
      " [88  1  7  0 77 77]]\n"
     ]
    }
   ],
   "source": [
    "X[X==5] = 88\n",
    "print(X)"
   ]
  },
  {
   "cell_type": "markdown",
   "metadata": {},
   "source": [
    "For a complete list of convenient routines, see the [NumPy indexing documentation](https://docs.scipy.org/doc/numpy/user/basics.indexing.html#).\n",
    "\n",
    "`np.where` will also return indices"
   ]
  },
  {
   "cell_type": "code",
   "execution_count": 42,
   "metadata": {},
   "outputs": [
    {
     "name": "stdout",
     "output_type": "stream",
     "text": [
      "[[9 0 2]\n",
      " [0 2 4]\n",
      " [3 4 6]\n",
      " [5 2 9]\n",
      " [8 3 9]]\n",
      "(array([0, 2, 3, 4, 4]), array([0, 2, 2, 0, 2]))\n"
     ]
    }
   ],
   "source": [
    "np.random.seed(47404)\n",
    "\n",
    "## Construct an arbitrary array.\n",
    "X = np.random.randint(0, 10, (5,3))\n",
    "\n",
    "print(X)\n",
    "print(np.where(X > 5))"
   ]
  },
  {
   "cell_type": "markdown",
   "metadata": {},
   "source": [
    "What if we want to find elements that match multiple criteria?\n",
    "\n",
    "The `logical_and` function allows us to find elements where two conditions are met."
   ]
  },
  {
   "cell_type": "code",
   "execution_count": 43,
   "metadata": {},
   "outputs": [
    {
     "data": {
      "text/plain": [
       "array([[ True, False, False],\n",
       "       [False, False, False],\n",
       "       [False, False, False],\n",
       "       [False, False,  True],\n",
       "       [False, False,  True]])"
      ]
     },
     "execution_count": 43,
     "metadata": {},
     "output_type": "execute_result"
    }
   ],
   "source": [
    "np.logical_and(X > 5, X % 2)"
   ]
  },
  {
   "cell_type": "markdown",
   "metadata": {},
   "source": [
    "The syntax for two or more conjuctive arguments is:"
   ]
  },
  {
   "cell_type": "code",
   "execution_count": 44,
   "metadata": {},
   "outputs": [
    {
     "data": {
      "text/plain": [
       "array([[0, 0, 0],\n",
       "       [0, 0, 0],\n",
       "       [0, 0, 1],\n",
       "       [0, 0, 0],\n",
       "       [1, 0, 0]])"
      ]
     },
     "execution_count": 44,
     "metadata": {},
     "output_type": "execute_result"
    }
   ],
   "source": [
    "(X > 5) & (X % 5)"
   ]
  },
  {
   "cell_type": "markdown",
   "metadata": {},
   "source": [
    "Similarly, `logical_or` allows us to find elements where one of two conditions are met."
   ]
  },
  {
   "cell_type": "code",
   "execution_count": 45,
   "metadata": {},
   "outputs": [
    {
     "data": {
      "text/plain": [
       "array([9, 0, 0, 9, 9])"
      ]
     },
     "execution_count": 45,
     "metadata": {},
     "output_type": "execute_result"
    }
   ],
   "source": [
    "X[np.logical_or(X < 2, X > 8)]"
   ]
  },
  {
   "cell_type": "markdown",
   "metadata": {},
   "source": [
    "The syntax for two or more disjunctive arguments is:"
   ]
  },
  {
   "cell_type": "code",
   "execution_count": 46,
   "metadata": {},
   "outputs": [
    {
     "data": {
      "text/plain": [
       "array([[ True,  True, False],\n",
       "       [ True, False, False],\n",
       "       [False, False, False],\n",
       "       [False, False,  True],\n",
       "       [False, False,  True]])"
      ]
     },
     "execution_count": 46,
     "metadata": {},
     "output_type": "execute_result"
    }
   ],
   "source": [
    "(X < 2) | (X > 8)"
   ]
  },
  {
   "cell_type": "markdown",
   "metadata": {},
   "source": [
    "### Mini-exercise\n",
    "\n",
    "In this mini-exercise, we will perform some masking routines to simulated reaction time data. When analyzing reaction time, we often times want to mask trials where responses were made unrealistically fast (<200ms) or suspiciously slow (>2000ms). \n",
    "\n",
    "The code below simulates some arbitrary reaction times for 100 trials of 3 different conditions.  "
   ]
  },
  {
   "cell_type": "code",
   "execution_count": null,
   "metadata": {},
   "outputs": [],
   "source": [
    "np.random.seed(47404)\n",
    "\n",
    "## Generate uncorrupted RT data.\n",
    "Y = np.random.normal([0.6,0.8,1.0], 0.2, size=(100,3))\n",
    "Y = Y.flatten()\n",
    "\n",
    "## Corrupt data with fast RTs.\n",
    "fast_ix = np.random.choice(np.arange(Y.size), 15, replace=False)\n",
    "Y[fast_ix] = np.random.uniform(0.0,0.1,15)  # Simulate fast RTs.\n",
    "\n",
    "## Corrupt data with slow RTs.\n",
    "slow_ix = np.random.choice(np.arange(Y.size), 15, replace=False)\n",
    "Y[slow_ix] = np.random.uniform(2.0,2.4,15)  # Simulate slow RTs.\n",
    "\n",
    "## Reshape to proper dimensions.\n",
    "Y = Y.reshape(100,3)"
   ]
  },
  {
   "cell_type": "markdown",
   "metadata": {},
   "source": [
    "a) How many fast RTs (< 0.2s) are there per column?"
   ]
  },
  {
   "cell_type": "code",
   "execution_count": null,
   "metadata": {},
   "outputs": [],
   "source": []
  },
  {
   "cell_type": "markdown",
   "metadata": {},
   "source": [
    "b) How many slow RTs (> 2.0s) are there per column?"
   ]
  },
  {
   "cell_type": "code",
   "execution_count": null,
   "metadata": {},
   "outputs": [],
   "source": []
  },
  {
   "cell_type": "markdown",
   "metadata": {},
   "source": [
    "c) Set the outlier (fast and slow) RTs to -1."
   ]
  },
  {
   "cell_type": "code",
   "execution_count": null,
   "metadata": {},
   "outputs": [],
   "source": []
  },
  {
   "cell_type": "markdown",
   "metadata": {},
   "source": [
    "d) Compute the mean of each column, excluding the outlier RTs."
   ]
  },
  {
   "cell_type": "code",
   "execution_count": null,
   "metadata": {},
   "outputs": [],
   "source": []
  },
  {
   "cell_type": "markdown",
   "metadata": {},
   "source": [
    "## Section 6: Noteworthy Functions"
   ]
  },
  {
   "cell_type": "markdown",
   "metadata": {},
   "source": [
    "### Mathematical functions"
   ]
  },
  {
   "cell_type": "markdown",
   "metadata": {},
   "source": [
    "NumPy includes a variety of mathematical functions. All of these can be applied across an entire matrix or across arrays."
   ]
  },
  {
   "cell_type": "code",
   "execution_count": 47,
   "metadata": {},
   "outputs": [],
   "source": [
    "np.sum;       # Sum of an array or matrix.\n",
    "np.cumsum;    # Cumulative sum over an array.\n",
    "np.prod;      # Element-wise multiplication of an array.\n",
    "np.divide;    # Element-wise division of two arrays.\n",
    "np.diff;      # Pairwise difference of elements of an array.\n",
    "np.exp;       # Exponential transform.\n",
    "np.log;       # Natural logarithm.\n",
    "np.log10;     # Base-10 logarithm."
   ]
  },
  {
   "cell_type": "markdown",
   "metadata": {},
   "source": [
    "Many arithmatic operations have a built-in `outer` function."
   ]
  },
  {
   "cell_type": "code",
   "execution_count": 48,
   "metadata": {},
   "outputs": [
    {
     "data": {
      "text/plain": [
       "array([[0, 1, 2, 3, 4],\n",
       "       [1, 2, 3, 4, 5],\n",
       "       [2, 3, 4, 5, 6]])"
      ]
     },
     "execution_count": 48,
     "metadata": {},
     "output_type": "execute_result"
    }
   ],
   "source": [
    "np.add.outer(np.arange(3), np.arange(5))"
   ]
  },
  {
   "cell_type": "markdown",
   "metadata": {},
   "source": [
    "### Rounding Functions"
   ]
  },
  {
   "cell_type": "code",
   "execution_count": 49,
   "metadata": {},
   "outputs": [
    {
     "name": "stdout",
     "output_type": "stream",
     "text": [
      "Original: [0.   0.25 0.5  0.75 1.  ]\n",
      "np.round: [0.  0.2 0.5 0.8 1. ]\n",
      "np.floor: [0. 0. 0. 0. 1.]\n",
      "np.ceil:  [0. 1. 1. 1. 1.]\n"
     ]
    }
   ],
   "source": [
    "mat = np.linspace(0,1,5)\n",
    "print('Original: %s' %mat)\n",
    "print('np.round: %s' %np.round(mat, 1) )\n",
    "print('np.floor: %s' %np.floor(mat) ) \n",
    "print('np.ceil:  %s' %np.ceil(mat) )"
   ]
  },
  {
   "cell_type": "markdown",
   "metadata": {},
   "source": [
    "### Summary Functions\n",
    "\n",
    "NumPy includes many functions to summarize an array. With the exception of `np.corrcoef`, all of these can be\n",
    "applied across an entire matrix or across arrays."
   ]
  },
  {
   "cell_type": "code",
   "execution_count": 50,
   "metadata": {},
   "outputs": [],
   "source": [
    "np.min;           # Return the smallest element.\n",
    "np.max;           # Return the largest element.\n",
    "np.argmin;        # Return the index of the smallest element.\n",
    "np.argmax;        # Return the index of the largest element.\n",
    "np.mean;          # Compute the mean of an array.\n",
    "np.median;        # Compute the median of an array.\n",
    "np.std;           # Compute the standard deviation of an array.\n",
    "np.var;           # Compute the variance (sd^2) of an array.\n",
    "np.percentile;    # Compute the xth percentile of an array.\n",
    "np.corrcoef;      # Compute the row-/col-wise correlation of a matrix."
   ]
  },
  {
   "cell_type": "markdown",
   "metadata": {},
   "source": [
    "### Set Functions\n",
    "NumPy includes functions for identifying unique elements within or between arrays."
   ]
  },
  {
   "cell_type": "code",
   "execution_count": 51,
   "metadata": {},
   "outputs": [],
   "source": [
    "## Define two arrays for example.\n",
    "arr1 = np.array([41, 16, 34, 0, 2, 20, 19, 14, 22, 15, 18, 9, 35, 41])\n",
    "arr2 = np.array([42, 22, 40, 7, 33, 0, 12, 19, 44, 10, 31, 11, 11, 49])"
   ]
  },
  {
   "cell_type": "code",
   "execution_count": 52,
   "metadata": {},
   "outputs": [
    {
     "data": {
      "text/plain": [
       "array([ 0,  2,  9, 14, 15, 16, 18, 19, 20, 22, 34, 35, 41, 41])"
      ]
     },
     "execution_count": 52,
     "metadata": {},
     "output_type": "execute_result"
    }
   ],
   "source": [
    "## Sort elements (ascending order).\n",
    "np.sort(arr1)"
   ]
  },
  {
   "cell_type": "code",
   "execution_count": 53,
   "metadata": {},
   "outputs": [
    {
     "data": {
      "text/plain": [
       "array([ 0,  2,  9, 14, 15, 16, 18, 19, 20, 22, 34, 35, 41])"
      ]
     },
     "execution_count": 53,
     "metadata": {},
     "output_type": "execute_result"
    }
   ],
   "source": [
    "## Return unique elements.\n",
    "np.unique(arr1)"
   ]
  },
  {
   "cell_type": "code",
   "execution_count": 54,
   "metadata": {},
   "outputs": [
    {
     "data": {
      "text/plain": [
       "(array([ 0,  2,  9, 14, 15, 16, 18, 19, 20, 22, 34, 35, 41]),\n",
       " array([1, 1, 1, 1, 1, 1, 1, 1, 1, 1, 1, 1, 2]))"
      ]
     },
     "execution_count": 54,
     "metadata": {},
     "output_type": "execute_result"
    }
   ],
   "source": [
    "## Return unique elements, count number of appearances.\n",
    "np.unique(arr1, return_counts=True)"
   ]
  },
  {
   "cell_type": "code",
   "execution_count": 55,
   "metadata": {},
   "outputs": [
    {
     "data": {
      "text/plain": [
       "array([False, False, False,  True, False, False,  True, False,  True,\n",
       "       False, False, False, False, False])"
      ]
     },
     "execution_count": 55,
     "metadata": {},
     "output_type": "execute_result"
    }
   ],
   "source": [
    "## Find the elements of array-1 in array-2.\n",
    "np.in1d(arr1, arr2)"
   ]
  },
  {
   "cell_type": "code",
   "execution_count": 56,
   "metadata": {},
   "outputs": [
    {
     "data": {
      "text/plain": [
       "array([ 0,  2,  7,  9, 10, 11, 12, 14, 15, 16, 18, 19, 20, 22, 31, 33, 34,\n",
       "       35, 40, 41, 42, 44, 49])"
      ]
     },
     "execution_count": 56,
     "metadata": {},
     "output_type": "execute_result"
    }
   ],
   "source": [
    "## Return all unique elements of arrays 1 & 2.\n",
    "np.union1d(arr1, arr2)"
   ]
  },
  {
   "cell_type": "code",
   "execution_count": 57,
   "metadata": {},
   "outputs": [
    {
     "data": {
      "text/plain": [
       "array([ 0, 19, 22])"
      ]
     },
     "execution_count": 57,
     "metadata": {},
     "output_type": "execute_result"
    }
   ],
   "source": [
    "## Return all elements belonging to both arrays 1 & 2.\n",
    "np.intersect1d(arr1, arr2)"
   ]
  },
  {
   "cell_type": "markdown",
   "metadata": {},
   "source": [
    "### Brief Note on NaNs"
   ]
  },
  {
   "cell_type": "markdown",
   "metadata": {},
   "source": [
    "NumPy has a unique NaN class. `np.nan` dominates all other numeric types."
   ]
  },
  {
   "cell_type": "code",
   "execution_count": 58,
   "metadata": {},
   "outputs": [
    {
     "name": "stdout",
     "output_type": "stream",
     "text": [
      "nan\n",
      "[nan nan nan nan nan]\n"
     ]
    }
   ],
   "source": [
    "print(7. * np.nan)              # NaN dominates numeric types.\n",
    "print(np.arange(5) * np.nan)    # NaN dominates numeric arrays."
   ]
  },
  {
   "cell_type": "markdown",
   "metadata": {},
   "source": [
    "NaNs may appear wherever there is missing data, or when an operation returns an invalid number."
   ]
  },
  {
   "cell_type": "code",
   "execution_count": 59,
   "metadata": {},
   "outputs": [
    {
     "name": "stdout",
     "output_type": "stream",
     "text": [
      "[[ 0.  1.  2.  3.  4.]\n",
      " [ 5.  6.  7.  8. nan]\n",
      " [10. 11. 12. 13. 14.]]\n"
     ]
    }
   ],
   "source": [
    "## Example array.\n",
    "arr = np.arange(15,dtype=float).reshape(3,5)\n",
    "arr[1,-1] = np.nan\n",
    "print(arr)"
   ]
  },
  {
   "cell_type": "markdown",
   "metadata": {},
   "source": [
    "NaNs can be challenging because they corrupt most standard routines."
   ]
  },
  {
   "cell_type": "code",
   "execution_count": 60,
   "metadata": {},
   "outputs": [
    {
     "name": "stdout",
     "output_type": "stream",
     "text": [
      "[ 4. nan 14.]\n",
      "[ 2. nan 12.]\n"
     ]
    }
   ],
   "source": [
    "print(arr.max(axis=1))     # NaNs corrupt max.\n",
    "print(arr.mean(axis=1))    # NaNs corrupt mean."
   ]
  },
  {
   "cell_type": "markdown",
   "metadata": {},
   "source": [
    "NumPy offers a suite of NaN robust functions. These are slower, but can be useful in analysis."
   ]
  },
  {
   "cell_type": "code",
   "execution_count": 61,
   "metadata": {},
   "outputs": [
    {
     "name": "stdout",
     "output_type": "stream",
     "text": [
      "[ 4.  8. 14.]\n",
      "[ 2.   6.5 12. ]\n"
     ]
    }
   ],
   "source": [
    "print(np.nanmax(arr, axis=1))     # NaN robust max.\n",
    "print(np.nanmean(arr, axis=1))    # NaN robust mean."
   ]
  },
  {
   "cell_type": "markdown",
   "metadata": {},
   "source": [
    "## Section 7: Visualization w/ Matplotlib"
   ]
  },
  {
   "cell_type": "code",
   "execution_count": 62,
   "metadata": {},
   "outputs": [],
   "source": [
    "import matplotlib.pyplot as plt\n",
    "%matplotlib inline \n",
    "\n",
    "## NOTE: The second line is a bit of notebook magic! \n",
    "## It's a jupyter-notebook shortcut that makes all\n",
    "## plots be displayed at the bottom of a cell."
   ]
  },
  {
   "cell_type": "markdown",
   "metadata": {},
   "source": [
    "### Basic Example\n",
    "Lineplots are the most intuitive Matplotlib plot, requiring at the minimum only the x- and y-datapoints. Many embellishments can be added. "
   ]
  },
  {
   "cell_type": "code",
   "execution_count": 63,
   "metadata": {},
   "outputs": [
    {
     "data": {
      "image/png": "[encoded data removed]",
      "text/plain": [
       "<Figure size 864x288 with 1 Axes>"
      ]
     },
     "metadata": {
      "needs_background": "light"
     },
     "output_type": "display_data"
    }
   ],
   "source": [
    "## Initialize canvas.\n",
    "fig, ax = plt.subplots(1,1,figsize=(12,4))\n",
    "\n",
    "## Define sigmoid function.\n",
    "def inv_logit(arr):\n",
    "    return 1. / (1 + np.exp(-arr))\n",
    "\n",
    "## Simulate data.\n",
    "x = np.linspace(-5,5,101)\n",
    "\n",
    "## Plot lines.\n",
    "for b in [0.5,1.0,2.0]:\n",
    "    ax.plot(x, inv_logit(x * b), lw=2.5, label=r'$y = logit^{-1}( \\ %0.1f \\cdot x \\ )$' %b)\n",
    "\n",
    "## Add details.\n",
    "ax.set(xlim=(x.min(), x.max()), xlabel='X', ylim=(0), ylabel='Y', title='Example Lineplot')\n",
    "ax.legend(loc=2, frameon=False, fontsize=14)\n",
    "\n",
    "plt.tight_layout()"
   ]
  },
  {
   "cell_type": "markdown",
   "metadata": {},
   "source": [
    "### Mini-exercise\n",
    "\n",
    "Divide into three groups. Each group will have 10 minutes to learn about and make an example plot for one of the following graph types:\n",
    "- barplot\n",
    "- scatterplot\n",
    "- histogram\n",
    "- heatmap\n",
    "- something Sam hasn't thought of\n",
    "\n",
    "After 10 minutes, each group will give a mini-demonstration for the other students."
   ]
  }
 ],
 "metadata": {
  "kernelspec": {
   "display_name": "Python 3",
   "language": "python",
   "name": "python3"
  },
  "language_info": {
   "codemirror_mode": {
    "name": "ipython",
    "version": 3
   },
   "file_extension": ".py",
   "mimetype": "text/x-python",
   "name": "python",
   "nbconvert_exporter": "python",
   "pygments_lexer": "ipython3",
   "version": "3.7.4"
  }
 },
 "nbformat": 4,
 "nbformat_minor": 4
}
