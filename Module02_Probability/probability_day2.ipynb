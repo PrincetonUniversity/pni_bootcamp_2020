{
 "cells": [
  {
   "cell_type": "markdown",
   "metadata": {
    "colab_type": "text",
    "id": "lZBqaqzYjwOk"
   },
   "source": [
    "# Probability day 2"
   ]
  },
  {
   "cell_type": "markdown",
   "metadata": {
    "colab_type": "text",
    "id": "rzq7Jv6zeUq-"
   },
   "source": [
    "What we'll try to go over today:\n",
    "\n",
    "* Algebra of probability\n",
    "* Common distributions\n",
    "* How to apply Bayes theorem for conjugate distribtuions\n",
    "\n",
    "During you're time as a PhD student it's likely you'll have to model behavior and or neural data. To do this we usually first fall back on tried and true tools. Among these are common probability distributions that we'll go over today, as well as a general framework for inference that we'll start today (but you'll get alot more of this in the modeling lectures).\n",
    "\n",
    "\n",
    "In this notebook we'll go over many of the same concepts you became aware of in yesterday's lecture, but in a bit of a different fashion. Probability theory, like say, calculus or linear algebra has certain rules for performing manipulations and computations. We want to try and at least make you aware of some of these rules, and hopefully comfortable with them. \n",
    "\n",
    "### Note: the comments in the cells of these notebook contain questions and additional information, please use them!\n",
    "\n",
    "First we need to recall how to interpret something such as $P(X|Y)$\n",
    "\n",
    "### Q.1 \n",
    "* What variable is $P(X|Y)$ a function of? \n",
    "* What exactly are we considering the probability of here? \n",
    "* Which one of these is correct:\n",
    "    * 1. This is the probability of the random variable X given Y\n",
    "    * 2. This is the probability of the random variable X, taking into account information from Y"
   ]
  },
  {
   "cell_type": "markdown",
   "metadata": {
    "colab_type": "text",
    "id": "qmFXSnA7eUq-"
   },
   "source": [
    "## The product (also called chain) rule of probability\n",
    "\n",
    "If we are considering the probability of two random variables in tandem we write this down as: $P(A, B)$\n",
    "\n",
    "In probability theory there is a rule we can apply referred to the product rule, or the chain rule that allows us to rewrite $P(A, B)$ as: \n",
    "\n",
    "$$P(A, B) = P(A|B)P(B)$$\n",
    "\n",
    "in addition we should note that the application of this rule is symmetric in the sense that we could have also written:\n",
    "\n",
    "$$P(A, B) = P(B|A)P(A)$$\n",
    "\n",
    "later you'll learn, or as you'll remember, this symmetry allows you to write down conditional probabilities in terms of **likelihoods, priors, and marginals** \n",
    "\n",
    "## Q.2\n",
    "\n",
    "* Write down what the application of the product rule to $P(X, Y)$ gives. (Write this down both ways as above)\n",
    "* Equate both ways of writing down $P(X, Y)$ after applying the product rule to each other and manipulate the equation such that only one statement of $P(\\cdot)$ is on either the left or right side. Do this 3 different ways"
   ]
  },
  {
   "cell_type": "markdown",
   "metadata": {
    "colab_type": "text",
    "id": "DOQQ2XYkeUq_"
   },
   "source": []
  },
  {
   "cell_type": "markdown",
   "metadata": {
    "colab_type": "text",
    "id": "3y7xg8tOkbgL"
   },
   "source": [
    "## Independence\n",
    "\n",
    "If two random variables are independent, then when we apply the chain rule, we no longer need to condition: \n",
    "\n",
    "$$P(A, B) = P(A)P(B)$$\n",
    "\n",
    "This is telling us that no matter our choice of $A$, $P(B)$ is unchanged (and vice versa).\n",
    "\n",
    "Imagine that $A$ is the random variable for the sidewalk being wet. Further imagine that $B$ is the random variable for it raining. Now imagine this is in a strange planet where sidewalks deflect rain back to the sky (but they can still get wet if say, you dropped a tea drink on the sidewalk). This means that the sidewalk being wet is completely independent of it raining, because no matter if it rains, by the magical property of the sidewalk, this will never cause it to get wet. As for the other direction, when the sidewalk deflects the rain back up, the rain then goes to another dimension, and this has the consequence of having no consequence on whether it rains again or not. And so again, the probability of it raining is independent of the sidewalk being wet. \n",
    "\n",
    "Why did we need that last clause? Well because if the sidewalk being dry DID have an impact on the probability of it raining, then we could not say that $P(B|A) = P(B)$, because $A$ contains the values {wet, not-wet}, and so $B$ must be indpendent of all values for which $A$ can become."
   ]
  },
  {
   "cell_type": "markdown",
   "metadata": {
    "colab_type": "text",
    "id": "xwS1gdNBeUq_"
   },
   "source": [
    "## All probabilities are conditional probabilities\n",
    "\n",
    "This is less a point of technicality, rather more on the side of interpretation. It is very much in line with how we should think of $P(A|B)$ as only a function of $A$. Said another way, $P(A|B)$ should hold the same meaning as $P(X)$ in the sense that we are only considering the distribution over one variable, the one to the left of the verticle bar (and when there is only one variable you can imagine there is a verticle bar, with some prior information being conditioned on). \n",
    "\n",
    "Keeping this view in mind, then it is easy to apply the chain rule while holding a conditioning set constant: \n",
    "\n",
    "$$P(A, B | C) = P(A|B, C)P(B|C)$$\n",
    "\n",
    "\n",
    "## Q.3\n",
    "\n",
    "* Write down what $P(X, Y| A, C)$ is aftering using the product rule to expand it as a product of 2 terms (e.g. the answer should be of the form: $P(X, Y| A, C) = P(\\cdot)P(\\cdot)$\n",
    "\n",
    "_hint: treat (A, C) = D and rewrite the relation above_"
   ]
  },
  {
   "cell_type": "markdown",
   "metadata": {
    "colab_type": "text",
    "id": "0Xao6bQjeUrC"
   },
   "source": [
    "## Manipulation with Bayes rule\n",
    "\n",
    "Bayes rule tells you how to compute a particular conditional probability, from a different conditional probability, in particular if we want $P(A|B)$ but only have $P(B|A)$ (and a some additional information) we can use Bayes rule to get at the desired quantity. Using: \n",
    "\n",
    "$$P(A|B) = \\frac{P(B|A)P(A)}{P(B)}$$\n",
    "\n",
    "some things to note, in modeling: \n",
    "\n",
    "$P(A)$ is often called the prior\n",
    "\n",
    "$P(B|A)$ is often called the likelihood \n",
    "\n",
    "$P(B)$ is often called the marginal evidence\n",
    "\n",
    "$P(A|B)$ is called the posterior\n",
    "\n",
    "## Q.4\n",
    "\n",
    "* Use Bayes rule to write down $P(Z|Y)$ as a product of the likelihood and prior, divided by the marginal evidence"
   ]
  },
  {
   "cell_type": "markdown",
   "metadata": {
    "colab_type": "text",
    "id": "9SJKJR8teUrD"
   },
   "source": []
  },
  {
   "cell_type": "markdown",
   "metadata": {
    "colab_type": "text",
    "id": "2iFO1KsSeUrD"
   },
   "source": [
    "At the risk of beating a dead horse, let's try to give the different variables in Bayes rule a bit of meaning to help us remember how to apply it in general. \n",
    "\n",
    "$P(A|B)$ considers the probability of $A$, after incorporating the information about $B$.\n",
    "\n",
    "$P(B|A)$ is the current evidence for $B$, taking into acount what we know about some particular aspect of $A$\n",
    "\n",
    "$P(A)$ is our prior knowledge of some particular aspect of $A$\n",
    "\n",
    "$P(B)$ is a marginal probability, where we have \"marginalized out\" $A$, that is, it is $P(B|A)P(A)$ for all possible values of $A$"
   ]
  },
  {
   "cell_type": "markdown",
   "metadata": {
    "colab_type": "text",
    "id": "HLhYW-7ZTBmt"
   },
   "source": [
    "## More on certain distributions\n",
    "\n",
    "There are certain distributions that are more common in tasks of estimation or modeling or things related. Almost all of them belong to the exponential family of distributions. You'll recall some of these from yesterday's lecture. \n",
    "\n",
    "## A Gaussian (also called Normal) distribution\n",
    "\n",
    "This is a continuous distribution for real-valued random variables. In additional these can be vector valued (i.e. multivariate) or scalar valued (univariate). The probability density function (PDF) of a Gaussian is:\n",
    "\n",
    "$$\\frac{1}{\\sigma \\sqrt{2\\pi}} exp\\Big(-\\frac{1}{2} \\big( \\frac{x - \\mu}{\\sigma}\\big)^2\\Big)$$\n",
    "\n",
    "sometimes, depending on the notation you'll see this abbreviated as: \n",
    "\n",
    "$$P(x; \\mu, \\sigma^2) = Normal(x; \\mu, \\sigma^2)$$\n",
    "\n",
    "or equivalently: \n",
    "\n",
    "$$P(x| \\mu, \\sigma^2) = Normal(x| \\mu, \\sigma^2)$$\n",
    "\n",
    "where $Normal(\\cdot)$ is equal to the function writen out above with the exponential in it. When we \"evalute\" the above we compute the density of some value $x$, under some fixed values for $\\mu$ and $\\sigma^2$"
   ]
  },
  {
   "cell_type": "code",
   "execution_count": 1,
   "metadata": {
    "colab": {},
    "colab_type": "code",
    "id": "a3WuOzDiRike"
   },
   "outputs": [],
   "source": [
    "# we'll now learn how to do this using the scipy.stats module in python\n",
    "from scipy.stats import norm\n",
    "import numpy as np\n",
    "import matplotlib.pyplot as plt"
   ]
  },
  {
   "cell_type": "code",
   "execution_count": 2,
   "metadata": {
    "colab": {},
    "colab_type": "code",
    "id": "n_fJnLuxRikk"
   },
   "outputs": [],
   "source": [
    "# this is the mean\n",
    "mu = 3.4\n",
    "\n",
    "# this is the variance\n",
    "sigsquared = 4\n",
    "\n",
    "# we will evaluate the density by plugging in each value of x below\n",
    "x = [0.1, 1, 2, 10.4]\n",
    "\n",
    "# note that the norm object we just imported contains the same function\n",
    "# that Normal() contains, as written in the markup cell above\n",
    "# this function is used with the .pdf() call\n",
    "# two ways you can do this that are equivalent:\n",
    "wayOne = norm.pdf(x, loc=mu, scale=np.sqrt(sigsquared))\n",
    "\n",
    "# uncomment these blelow\n",
    "#print(\"first way: \", wayOne)\n",
    "\n",
    "# or you can create the object first:\n",
    "wayTwo = norm(loc=mu, scale=np.sqrt(sigsquared))\n",
    "#print(\"second way: \", wayTwo.pdf(x))\n",
    "\n",
    "# can you tell us the difference between these two, what does it mean in terms of \n",
    "# what variables are available in the scope of your program?"
   ]
  },
  {
   "cell_type": "code",
   "execution_count": 5,
   "metadata": {},
   "outputs": [
    {
     "data": {
      "image/png": "[encoded data removed]",
      "text/plain": [
       "<Figure size 432x288 with 1 Axes>"
      ]
     },
     "metadata": {
      "needs_background": "light"
     },
     "output_type": "display_data"
    }
   ],
   "source": [
    "# sampling values from a normal distribution\n",
    "normDistributed = norm(loc=mu, scale=np.sqrt(sigsquared)).rvs(10000)\n",
    "\n",
    "# we can visualize these samples with a histogram. With enough samples we start to get an\n",
    "# idea of what the true form of the distribution is (e.g. we get a sense for the mean and standard deviation)\n",
    "plt.hist(normDistributed, edgecolor=\"white\", bins=25);\n",
    "plt.axvline(mu, color=\"red\", linestyle=\"--\", lw=3)\n",
    "plt.annotate(xy=(7, 700), s=f\"mean = {mu}\");"
   ]
  },
  {
   "cell_type": "code",
   "execution_count": null,
   "metadata": {},
   "outputs": [],
   "source": []
  },
  {
   "cell_type": "markdown",
   "metadata": {},
   "source": [
    "The mean, $\\mu$, of a Gaussian distribution is sometimes referred to as the \"location\" parameter. Intuitively you can think of it, in the univariate case, as the point on the real number line that the shape of the distribution is centered on. The standard deviation, $\\sigma$ ,(recall that standard deviation is the square root of the variance) is sometimes referred to as the \"scale\" parameter. It will determine how much values spread out away from the peak."
   ]
  },
  {
   "cell_type": "code",
   "execution_count": 3,
   "metadata": {},
   "outputs": [
    {
     "data": {
      "image/png": "[encoded data removed]",
      "text/plain": [
       "<Figure size 1008x432 with 4 Axes>"
      ]
     },
     "metadata": {
      "needs_background": "light"
     },
     "output_type": "display_data"
    }
   ],
   "source": [
    "mus = [-20, 10]\n",
    "sig2s = [0.01, 100]\n",
    "nvals = 10000\n",
    "\n",
    "# what happens if we randomly sample values, as above from Gaussian distribution defined by the following: \n",
    "\n",
    "params = [(x, y) for x in mus for y in sig2s]\n",
    "empDists = [norm(*p).rvs(nvals) for p in params]\n",
    "\n",
    "fig, ax = plt.subplots(ncols=2, nrows=2, figsize=(14, 6))\n",
    "\n",
    "# plotting each of them to see where their means fall, and how far\n",
    "# from the mean other values sampled from the same distribution are\n",
    "for idx, val in enumerate(ax.flatten()):\n",
    "    val.hist(empDists[idx], edgecolor=\"white\", bins=25)\n",
    "    val.axvline(params[idx][0], color=\"red\", linestyle=\"--\", lw=4)\n",
    "    val.annotate(xy=(params[idx][0] + 2*params[idx][1], 800), s=params[idx])"
   ]
  },
  {
   "cell_type": "code",
   "execution_count": 10,
   "metadata": {
    "colab_type": "text",
    "id": "YEHCISX6TwZv"
   },
   "outputs": [],
   "source": [
    "# this is the mean\n",
    "mu = 3.4\n",
    "\n",
    "# this is the variance\n",
    "sigsquared = 4\n",
    "\n",
    "# we will evaluate the density by plugging in each value of x below\n",
    "x = [0.1, 1, 2, 10.4]"
   ]
  },
  {
   "cell_type": "markdown",
   "metadata": {},
   "source": [
    "## Q.5\n",
    "\n",
    "For the values of the mean and variance written in the code block above, what value in the list $x$ to you expect to have the largest PDF value? For which do you expect the samllest ?"
   ]
  },
  {
   "cell_type": "markdown",
   "metadata": {
    "colab_type": "text",
    "id": "z3A6AybFRik3"
   },
   "source": [
    "## Q.6\n",
    "\n",
    "Imagine that you're some animal that needs to find food sources at very particular locations. Perhaps you have, in your mind, approximated the probable locations of food items in terms of Gaussian distributions. Relate the two parameters of the Gaussian discussed above to your approxmations of the food items. If you want to very easily find food, given that you know its location what would that say about one of the parameters?"
   ]
  },
  {
   "cell_type": "markdown",
   "metadata": {
    "colab_type": "text",
    "id": "Jkp0vZmZRik5"
   },
   "source": [
    "## A Bernoulli distribution\n",
    "\n",
    "Unlike the Gaussian, Bernoullis are discrete distributions. Oftentimes you'll see it conceptualized as a coin flip. This is because the Bernoulli can only take on two values: 1 and 0. It takes on the value 1 with some probability: $ 0 \\leq p \\leq 1$ and the value 0 with probabiilty $1 - p$. If we have a fair coin, this means $p = heads = 0.5$ and $1 - p = tails = 0.5$\n",
    "\n",
    "Because a Bernoulli is discrete, instead of a probability density function it has a probability mass function. It's form is:\n",
    "\n",
    "$$p^x(1-p)^{1-x}$$\n",
    "\n",
    "where above $x$ is a placeholder for the outcome (1 or 0, heads or tails).\n",
    "\n",
    "## Q.7\n",
    "\n",
    "What happens to the above function when $x = 0$ ? What about when $x = 1$ ?"
   ]
  },
  {
   "cell_type": "markdown",
   "metadata": {
    "colab_type": "text",
    "id": "a4pWCUDaRik6"
   },
   "source": []
  },
  {
   "cell_type": "markdown",
   "metadata": {
    "colab_type": "text",
    "id": "DCtkimknRik7"
   },
   "source": [
    "A Bernoulli distribution (and infact many distributions if not all) can actually be written down in a different way, note that: \n",
    "\n",
    "$$p^x(1 - p)^{1- x} = px + (1-p)(1-x)$$\n",
    "\n",
    "The different ways of writing down a distribution can be useful for different things. For example, if you're computing some integral with a Bernoulli function involved, then the second way of writing down the Bernoulli might be more helpful. However if you're computing log-probabilities, then the first way might more conveinent."
   ]
  },
  {
   "cell_type": "code",
   "execution_count": null,
   "metadata": {
    "colab": {},
    "colab_type": "code",
    "id": "Zim6cKQnRik7"
   },
   "outputs": [],
   "source": [
    "from scipy.stats import bernoulli\n",
    "\n",
    "# create a variable of the bernoulli distribtion with p = 0.3\n",
    "\n",
    "\n",
    "# use what you've learned above to sample random values from a Bernoulli distribution\n",
    "\n",
    "\n",
    "# as above, plot the samples of the bernoulli in a histogram (what do you expect to see here?)"
   ]
  },
  {
   "cell_type": "markdown",
   "metadata": {
    "colab_type": "text",
    "id": "CsoJ7tv8Rik_"
   },
   "source": [
    "## A Binomial distribution\n",
    "\n",
    "A Binomial distribution is similar to a Bernoulli. We can think of it as a \"generalized\" Bernoulli because for a certain choice of parameter values of the Binomial, we get a distribution that is equivalent to a Bernoulli with those parameter values. Just like a Bernoulli, a Binomial is a discrete distribution and so its probability mass function has the form:\n",
    "\n",
    "$$\\frac{n!}{x!(n-x)!} p^x(1-p)^{(n-x)}$$\n",
    "\n",
    "notice that if $n = 1$, the above formula becomes the same as that for a Bernoulli distribution. As we can see a Binomial has two parameters, $n$, this can take on any value in the set of natural numbers (e.g. 0, 1, 2, 3...). and $p$, this is the same as the Bernoulli case, a number between 0 and 1 (or equal to one of those extremes).\n",
    "\n",
    "A Binomial distribution with parameters $n$ and $p$ is defined as a distribution for a random variable of the number of sucesses in a sequences of $n$ in dependent experiments, each having probability $p$ of sucess. For example, you have a fair coin with $p = 0.5$, telling us that heads and tails are equally likely. If we want to compute the probability mass function of 3 heads in 10 tosses of the coin, then we'd evaluate this function: \n",
    "\n",
    "$$P(x|n, p) = Binomial(x|n, p) = \\frac{10!}{3!(10 - 3)!} 0.5^3(1 - 0.5)^{10 - 3}$$"
   ]
  },
  {
   "cell_type": "code",
   "execution_count": 8,
   "metadata": {
    "colab": {},
    "colab_type": "code",
    "id": "r_nFVOneRilB"
   },
   "outputs": [],
   "source": [
    "# import the binomial distribution from scipy\n",
    "\n",
    "n = 10 # 10 total tosses\n",
    "p = 0.3 # probability of success\n",
    "\n",
    "# randomly sample form a Binomial with these parameters\n",
    "\n",
    "# What do you expect this plot to look like?\n",
    "\n",
    "# plot the resulting samples with plt.hist()"
   ]
  },
  {
   "cell_type": "markdown",
   "metadata": {
    "colab_type": "text",
    "id": "x6MDZ0bBRilF"
   },
   "source": [
    "## A Beta distribution\n",
    "\n",
    "A Beta distribution is often called \"a distribution over probabilities\", this is because if we sample values from a Beta distribution they will always be between 0 and 1, just like probabilities. A Beta distribution is a continuous distribution \n",
    "\n",
    "## Q.8\n",
    "Why is a Beta distribution a continuous distribution?\n",
    "\n",
    "This family of distributions is defined by the two parameters: $\\alpha$, $\\beta$ and the function of the form: \n",
    "\n",
    "$$P(p; \\alpha, \\beta) = Beta(p; \\alpha, \\beta) = \\frac{\\Gamma(\\alpha)\\Gamma(\\beta)}{\\Gamma(\\alpha + \\beta)} p^{\\alpha - 1}(1-p)^{\\beta -1 }$$\n",
    "\n",
    "Here $0 \\leq p \\leq 1$. The parameters $\\alpha$ and $\\beta$ are called shape parameters because they control the shape of the density as you vary them. Lets see this below:"
   ]
  },
  {
   "cell_type": "code",
   "execution_count": 9,
   "metadata": {
    "colab": {
     "base_uri": "https://localhost:8080/",
     "height": 429
    },
    "colab_type": "code",
    "id": "YQz6XatQcDHd",
    "outputId": "95a943e3-aac7-4819-f37c-f08db5337d8e"
   },
   "outputs": [
    {
     "data": {
      "image/png": "[encoded data removed]",
      "text/plain": [
       "<Figure size 864x504 with 4 Axes>"
      ]
     },
     "metadata": {
      "needs_background": "light"
     },
     "output_type": "display_data"
    }
   ],
   "source": [
    "from scipy.stats import beta\n",
    "alpha_beta = [(0.1, 0.1), (3, 0.3), (0.3, 3), (5, 10)]\n",
    "betaDists = [beta(*ab) for ab in alpha_beta]\n",
    "yannots = [8, 25, 25, 2.5]\n",
    "\n",
    "fig, ax = plt.subplots(nrows=2, ncols=2, figsize = (12, 7))\n",
    "x_axis = np.linspace(start=0, stop=1, num=500)\n",
    "\n",
    "for idx, obj in enumerate(ax.flatten()):\n",
    "    alpha, beta = alpha_beta[idx]\n",
    "    obj.plot(x_axis, betaDists[idx].pdf(x_axis))\n",
    "    obj.annotate(xy=(0.65, yannots[idx]), s=f\"alpha = {alpha}\\nbeta = {beta}\")"
   ]
  },
  {
   "cell_type": "code",
   "execution_count": null,
   "metadata": {
    "colab": {},
    "colab_type": "code",
    "id": "K1Ewo0BlRilG"
   },
   "outputs": [],
   "source": [
    "# use what you've done above to do a few things:\n",
    "\n",
    "# 1. import the Beta distribution from scipy\n",
    "\n",
    "# 2. evaluate the density function for any value of p\n",
    "\n",
    "# 3. sample values from the function, after assinging any values of alpha and beta you'd like\n",
    "# there are some restrictions on alpha and beta, what are they?"
   ]
  },
  {
   "cell_type": "markdown",
   "metadata": {
    "colab_type": "text",
    "id": "Tex_4nxaRilJ"
   },
   "source": [
    "## Using Bayes theorem to infer the probability of a biased coin\n",
    "\n",
    "Here's the scenario, we have a biased coin that comes up heads roughly 46 % of the time and tails the rest. We're going to use the knowledge of some of the distributions we just learned about to try and figure out this bias, using random samples of data. To do this we'll use Bayes rule, as it will tell us exactly how to do it. \n",
    "\n",
    "If we want to write down this task in the usual notation we have to define some terms:\n",
    "\n",
    "$h = heads$ = head bias\n",
    "\n",
    "$t = tails$ = tail bias\n",
    "\n",
    "$b = belief$ = prior belief of heads\n",
    "\n",
    "$d = data$ = set of data points\n",
    "\n",
    "$$P(belief|data) = \\frac{P(data|belief)P(belief)}{\\int P(data|belief)P(belief) \\mathop{d belief}}$$\n",
    "\n",
    "and more compactly as:\n",
    "\n",
    "$$P(b|d) = \\frac{P(d|b)P(b)}{\\int P(d|b)P(b) \\mathop{d b}}$$\n",
    "\n",
    "\n",
    "let's step through this one data sample at a time:\n",
    "\n",
    "We have some prior belief for the bias of the coin, this prior belief is encoded in a Beta distribution (because we say we believe the coin will come up heads some % of the time and that % must be between 0 and 1). this distribution has the form: \n",
    "\n",
    "$$P(b) = P(b| \\alpha, \\beta) = \\frac{\\Gamma(\\alpha)\\Gamma(\\beta)}{\\Gamma(\\alpha + \\beta)} b^{\\alpha - 1}(1-b)^{\\beta -1 }$$\n",
    "\n",
    "Then we get a data point, we toss the coin. As we learned above the distribution of a coin is a Bernoulli so we can also write: \n",
    "\n",
    "$$P(d|b) = b^d(1-b)^{(1-d)}$$\n",
    "\n",
    "\n",
    "Now just as we see in Bayes theorem, these two terms are being multiplied. So we can do the same:\n",
    "\n",
    "$$\\Big( b^d(1-b)^{(1-d)} \\Big) \\Big(\\frac{\\Gamma(\\alpha)\\Gamma(\\beta)}{\\Gamma(\\alpha + \\beta)} b^{\\alpha - 1}(1-b)^{\\beta -1 }\\Big)$$\n",
    "\n",
    "OK, so now we have to mention that using Beta and Bernoulli distributions in this fashion is actually a special case where Bayes rule works out nicely enough to be done with pure algebra. Usually, we can't do what we are about to do because the functions of the different terms don't have the same form as they do above. Notice:\n",
    "\n",
    "$P(d|b)$ has $b^d$, and $P(b)$ has $b^{\\alpha-1}$ that means (by the rules of exponents): \n",
    "\n",
    "$$b^d \\times b^{\\alpha-1} = b^{d + \\alpha - 1}$$\n",
    "\n",
    "and again: $P(d|b)$ has $(1-b)^{1-d}$ and $P(b)$ has $(1 - b)^{\\beta - 1}$ , so:\n",
    "\n",
    "$$(1-b)^{1-d} \\times (1 - b)^{\\beta - 1} = (1 - b)^{1-d + \\beta - 1}$$\n",
    "\n",
    "if we combine these steps we get \n",
    "\n",
    "$$b^{d + \\alpha- 1}(1-b)^{1 - d + \\beta - 1}$$\n",
    "\n",
    "again, please notice that in $d + \\alpha - 1$, this is exactly  $\\alpha - 1$ in the original case, if we define: $\\alpha' = d + \\alpha$, then we have $b^{\\alpha' - 1}$\n",
    "\n",
    "and in $1 - d + \\beta -1$, we can define: $\\beta' = 1 - d + \\beta$, so  we have again the original form of $(1-b)^{\\beta' - 1}$\n",
    "\n",
    "at this point we can see that this result is exactly a Beta distribtuion of the form: \n",
    "\n",
    "$$P(b|d) =  \\frac{\\Gamma(\\alpha')\\Gamma(\\beta')}{\\Gamma(\\alpha' + \\beta')} b^{\\alpha' - 1}(1-b)^{\\beta' -1 }$$\n",
    "\n",
    "the above suggests something, and that's basically that we only need to keep track of $\\alpha'$ and $\\beta'$, as new data come in. So long as we keep track of this, we can plug these new paramters into the form of a Beta distribution. So how do we keep track of this? Well as we just saw:\n",
    "\n",
    "* We add the new sample to the previous $\\alpha$\n",
    "* We add 1 minus the new sample to the preveious $\\beta$\n",
    "\n",
    "OK, thats great and all, but what was the task? It was to infer the bias of the coin. However what we've arrived at is how to get to the function of the posterior distribution for that bias. What if I said, just give me one number, of what that you think that bias might be after observing all the data. What would be the correct thing to give me? One obvious answer is, it's the number between 0 and 1 for which our $P(b|d)$ function gives the highest output. And it turns out that this number will be: \n",
    "\n",
    "$$b = \\frac{\\alpha'}{\\alpha' + \\beta'}$$"
   ]
  },
  {
   "cell_type": "code",
   "execution_count": null,
   "metadata": {
    "colab": {
     "base_uri": "https://localhost:8080/",
     "height": 391
    },
    "colab_type": "code",
    "id": "2OhIztnSRilJ",
    "outputId": "2ba7dcf8-0cf5-4692-e502-d51ec2cddaf2"
   },
   "outputs": [
    {
     "data": {
      "text/plain": [
       "Text(0.65, 6, 'true head bias= 0.46\\nestimated head bias = 0.411')"
      ]
     },
     "execution_count": 40,
     "metadata": {
      "tags": []
     },
     "output_type": "execute_result"
    },
    {
     "data": {
      "image/png": "[encoded data removed]",
      "text/plain": [
       "<Figure size 720x432 with 1 Axes>"
      ]
     },
     "metadata": {
      "needs_background": "light",
      "tags": []
     },
     "output_type": "display_data"
    }
   ],
   "source": [
    "np.random.seed(3434)\n",
    "\n",
    "head_bias = 0.46\n",
    "\n",
    "sampleDistribution = bernoulli(head_bias)\n",
    "\n",
    "# apriori, we have no reason to expect that the coin is biased in any way\n",
    "# so we assume it's fair and say we believe that head and tail both come up in equal proportions\n",
    "num_heads, num_tails = 1, 1\n",
    "\n",
    "# change this number and re-run this code to see how the plot varies\n",
    "n_samples = 200\n",
    "\n",
    "data = sampleDistribution.rvs(n_samples)\n",
    "\n",
    "for sample_idx in range(n_samples):\n",
    "    num_heads += data[sample_idx]\n",
    "    num_tails += 1 - data[sample_idx]\n",
    "\n",
    "# this is alpha' / (alpha' + beta') in the explanation above   \n",
    "best_posterior_point_estimate = num_heads / (num_heads + num_tails)\n",
    " \n",
    "from scipy.stats import beta\n",
    "posteriorBeta = beta(num_heads, num_tails)\n",
    "x = np.concatenate([np.linspace(start=0, stop=best_posterior_point_estimate, num=100),\n",
    "                   np.linspace(start=best_posterior_point_estimate, stop=1, num=100)])\n",
    "\n",
    "plt.figure(figsize=(10, 6))\n",
    "plt.plot(x, posteriorBeta.pdf(x), lw=3)\n",
    "plt.plot(x, beta(num_heads+18.5, num_tails).pdf(x), lw=3)\n",
    "plt.axvline(best_posterior_point_estimate, linestyle=\"--\", color=\"black\")\n",
    "plt.axvline(head_bias, linestyle=\"--\", color=\"red\")\n",
    "plt.legend([\"estimated posterior\", \"true posterior\", \"estimated MAP\", \"true MAP\"])\n",
    "plt.annotate(xy=(0.65, 6), s=f\"true head bias= {head_bias}\\nestimated head bias = {round(best_posterior_point_estimate, 3)}\")"
   ]
  },
  {
   "cell_type": "markdown",
   "metadata": {
    "colab_type": "text",
    "id": "u_hI9dnWGkOg"
   },
   "source": [
    "## Q.9\n",
    "\n",
    "* How would you change the initial guess of the bias? (note that the variable `head_bias` is the true bias, and not the initial guess)\n",
    "\n",
    "* Run the cell above, but change initial guess for the head bias to one of the extremes (e.g. 0.9 or 0.1), how does this effect the procedure?\n",
    "\n",
    "* Do this agian, also varying the amount of data points, what can you say now about the result?"
   ]
  },
  {
   "cell_type": "markdown",
   "metadata": {
    "colab_type": "text",
    "id": "108NYAU_TPGF"
   },
   "source": [
    "\n",
    "## Challenge exercise: More on the Bayes for Neuroscience\n",
    "Recall that usually when we think about experiments we reason in terms of **random variables**. These random variables have distributions, sometimes continuous, othertimes discrete. \n",
    "\n",
    "For example we might say that the number of spikes from a particlar neuron is a random variable, and that this random variable has a Poisson distribution. \n",
    "\n",
    "So we can write: \n",
    "\n",
    "$X$ is the random variable for the number of spikes and it can take on (become) an element from the set of positive integers, we'll call that element $k$. We write this statement compactly as:\n",
    "\n",
    "$$P(X = k) = Poisson(k; \\lambda) = \\frac{\\lambda^k e ^{-\\lambda}}{k!}$$\n",
    "\n",
    "\n",
    "### Notation\n",
    "\n",
    "Sometimes you'll see: $X \\sim Poisson(\\lambda)$, this is saying that $X$ is distributed according to a Poisson distribution with rate parameter $\\lambda$. Further it specifies to us that that because $X$ is distributed according to a Poisson distribution, we can compute the probabilities of certain counts by evaluating its probability mass function (shown above), with particular $\\lambda$ and $k$ values.\n",
    "\n",
    "## Q.10\n",
    "* Is this a continous or discrete distribution, why or why not?"
   ]
  },
  {
   "cell_type": "markdown",
   "metadata": {
    "colab_type": "text",
    "id": "wU-l89ssRilV"
   },
   "source": []
  },
  {
   "cell_type": "markdown",
   "metadata": {
    "colab_type": "text",
    "id": "fmUHvh_gRilW"
   },
   "source": [
    "## Relation to terms in Bayes stuff\n",
    "\n",
    "Continuing with the example above, we'll also code up, and relate terms from the individual elements of Bayes theorem to performing particular (somewhat routine?) tasks.\n",
    "\n",
    "As you'll remember, Bayes theorem tells us:\n",
    "\n",
    "$$P(A|B) = \\frac{P(B|A)P(A)}{P(B)}$$\n",
    "\n",
    "For our example of a spiking neuron we'll use the following notation:\n",
    "\n",
    "* number of spikes at index $t$: $k$\n",
    "\n",
    "* rate parameter for the spikes: $\\lambda$\n",
    "\n",
    "and so we have: \n",
    "\n",
    "$$P(spikerate | spikes_t) = \\frac{P(spikes_t|spikerate)P(spikerate)}{P(spikes_t)}$$\n",
    "\n",
    "or compactly as:\n",
    "\n",
    "$$P(\\lambda | k) = \\frac{P(k | \\lambda)P(\\lambda)}{P(k)}$$\n",
    "\n",
    "$P(\\lambda)$ is the term called the prior. We can assign distributions to parameters such as $\\lambda$, for example: \n",
    "\n",
    "$$P(\\lambda) = Gamma(\\lambda; \\alpha, \\beta) = \\frac{\\beta^{\\alpha}\\lambda^{\\alpha - 1}e^{-\\beta \\lambda}}{\\Gamma(\\alpha)}$$"
   ]
  },
  {
   "cell_type": "markdown",
   "metadata": {
    "colab_type": "text",
    "id": "1Eaz9CaKRilX"
   },
   "source": [
    "## Challenge (for breakout session): \n",
    "\n",
    "Code up as is done for the coin flip example, how you'd arrive at a posterior distribution for the rate parameter of a spiking neuron. For more context, say you've collected data from a particular neuron in the form of spikes. This neuron spikes at a particular rate, and you want to try and estiamte what rate it spikes at, by using the data you have available. To do this you'll use Bayes rule, the Poisson distribution as defined above for the likelihood term in Bayes rule, and the Gamma distribution as defined above for the prior term in Bayes rule. "
   ]
  },
  {
   "cell_type": "markdown",
   "metadata": {},
   "source": [
    "* First let's get a feel for what these distributions produce when you sample from them"
   ]
  },
  {
   "cell_type": "code",
   "execution_count": null,
   "metadata": {},
   "outputs": [],
   "source": [
    "# import the correct distribution from scipy\n",
    "from scipy.stats import gamma, poisson\n",
    "\n",
    "# use the poisson object imported above to simulate random samples and plot them\n",
    "# to get a feel for what the outputs are\n",
    "# samples from a poisson will be integers, does this make sense?\n",
    "\n",
    "# do the above for a gamma distribution\n",
    "# samples from a gamma will be floating point numbers, can you reason why this is so?"
   ]
  },
  {
   "cell_type": "markdown",
   "metadata": {},
   "source": [
    "* tackling the problem - use the code written in the coin flip example as a guide"
   ]
  },
  {
   "cell_type": "code",
   "execution_count": null,
   "metadata": {
    "colab": {},
    "colab_type": "code",
    "id": "xKFTPoYfRilY"
   },
   "outputs": [],
   "source": [
    "true_rate = 4.5 # this is what we hope to estimate\n",
    "spikes = poisson(true_rate).rvs(5000) # this is your data\n",
    "\n",
    "# start by defining variables that will be needed to keep track of the updates\n",
    "\n",
    "# iterate through your data points\n",
    "\n",
    "# work out the algebra to figure out how to update your variables \n",
    "\n",
    "# create the posterior object distribution\n",
    "\n",
    "# plot the density evaluted at many different points to see which values of a rate are more likely"
   ]
  },
  {
   "cell_type": "markdown",
   "metadata": {},
   "source": [
    "## How to get from individual samples to an entire dataset\n",
    "\n",
    "There are no more problems to do here, I just want to explain how we relate entire datasets, to the procedure we've applied above. \n",
    "\n",
    "\n",
    "In both the coin flip example and the spiking neuron example we looked at each sample of data individually, one at a time. How this relates to an entire dataset can be a little opaque. Usually instead of a single point, you'll have a dataset of points which you'll denote with a capital letter (for now let's say by convention we'll use lowercase for points and uppder case for datasets): $D$\n",
    "\n",
    "If we use this in our notation for Bayes rule we have:\n",
    "\n",
    "$$P(\\lambda | D) = \\frac{P(D|\\lambda)P(\\lambda)}{P(D)}$$\n",
    "\n",
    "so can we just use the entire dataset in the same way? Well, first let's break this down a little more.\n",
    "\n",
    "We know that $D$ contains all data points, so if we index a data point with the parameter $t$, we can rewrite $D$ as:\n",
    "\n",
    "$$D = (d_1, d_2, ... d_t, d_{t+1}, ..., d_N)$$\n",
    "\n",
    "Lets plug this into Bayes rule:\n",
    "\n",
    "\n",
    "$$P(\\lambda|d_1, d_2, ... d_t, d_{t+1}, ..., d_N) = \\frac{P(d_1, d_2, ... d_t, d_{t+1}, ..., d_N|\\lambda)P(\\lambda)}{P(d_1, d_2, ... d_t, d_{t+1}, ..., d_N)}$$\n",
    "\n",
    "we can also abbreviate the above to make it easier to read by saying (and you might see some people write it this way):\n",
    "\n",
    "$$d_{1:N} = (d_1, d_2, ... d_t, d_{t+1}, ..., d_N)$$\n",
    "\n",
    "but for now, to avoid too much remapping of terms let's stick with $D = (d_1, d_2, ... d_t, d_{t+1}, ..., d_N)$.\n",
    "\n",
    "To get from a single datapoint as we did above, where $k$ is one data point in the spiking neuron example we use an assumption of independence. And in particular, conditional independence. We say, by conditioning on the rate parameter $\\lambda$, we can break up each data point, and treat them as indpendent of one another. This transforms the above definition for the entire dataset, using Bayes rule into (**note that all we're doing below is using the same principle we learned about at the start of this notebook**):\n",
    "\n",
    "$$P(\\lambda|d_1, d_2, ... d_t, d_{t+1}, ..., d_N) = \\frac{P(d_1, d_2, ... d_t, d_{t+1}, ..., d_N|\\lambda)P(\\lambda)}{P(d_1, d_2, ... d_t, d_{t+1}, ..., d_N)} = \\prod_{t=1}^N \\frac{P(d_t|\\lambda)P(\\lambda)}{P(d_t)}$$\n",
    "\n",
    "\n",
    "technically our estimate of $\\lambda$ is changing aswell but for now we won't index it. To stop myself from writing a book, I'll leave it here and encourage you all to plug in the individual terms (as in the coin flip example or the spiking neuron example) for $P(d_t|\\lambda)$ and $P(\\lambda)$, and do the algebra to see that we infact still arrive at the same answer."
   ]
  },
  {
   "cell_type": "code",
   "execution_count": null,
   "metadata": {},
   "outputs": [],
   "source": []
  }
 ],
 "metadata": {
  "colab": {
   "collapsed_sections": [],
   "name": "probability_day2.ipynb",
   "provenance": []
  },
  "kernelspec": {
   "display_name": "Python 3",
   "language": "python",
   "name": "python3"
  },
  "language_info": {
   "codemirror_mode": {
    "name": "ipython",
    "version": 3
   },
   "file_extension": ".py",
   "mimetype": "text/x-python",
   "name": "python",
   "nbconvert_exporter": "python",
   "pygments_lexer": "ipython3",
   "version": "3.6.10"
  }
 },
 "nbformat": 4,
 "nbformat_minor": 4
}
