{
 "cells": [
  {
   "cell_type": "markdown",
   "metadata": {
    "colab_type": "text",
    "id": "Gqp7CBGVCX1x"
   },
   "source": [
    "topics: \n",
    "\n",
    "---\n",
    "\n",
    "* frequency probability \n",
    "* subjective probability \n",
    "* random variables \n",
    "* continuous vs discrete R.V.s \n",
    "* conditional probability    \n",
    "* marginal probability  \n",
    "* joint probability   \n",
    "\n",
    "---\n",
    "\n",
    "Before you start, make sure you have the following python packages: `scipy` and `seaborn`. "
   ]
  },
  {
   "cell_type": "code",
   "execution_count": 1,
   "metadata": {
    "colab": {
     "base_uri": "https://localhost:8080/",
     "height": 71
    },
    "colab_type": "code",
    "id": "hIbA9ARdCUQR",
    "outputId": "53720f41-76e1-46ae-f160-f70ac38426e4"
   },
   "outputs": [],
   "source": [
    "import numpy as np \n",
    "import matplotlib.pyplot as plt\n",
    "import scipy.stats as stats\n",
    "import seaborn as sns"
   ]
  },
  {
   "cell_type": "markdown",
   "metadata": {
    "colab_type": "text",
    "id": "qena_yEsEQyF"
   },
   "source": [
    "## An intuition for probability\n",
    "\n",
    "The definition of what probability is can become pretty technical and abstract, really fast. So we'll first try to define it in a round about way, attempting to build on intution. \n",
    "\n",
    "The mathematical framework for probability is built on the framework of sets. Imagine that an experiment is peformed, resulting in one out of a set of possible outcomes. Before the experiment is performed, it is unknown which outcome will be the result. After it's preformed, the result \"crystallizes\" into an actual outcome, and this process of crystallizing into an actual outcome happens with particular probabilities.\n",
    "\n",
    "Imagine we have a deck of cards laid out on a table, face down. You're asked to take one card at random. You do so and then show the card. You just peformed an experiment, and the result of the experiment crystallized once you took the card off the table and displayed it. When you took the card from the table you could have taken any card. The chance of you taking any particular card depended on a few things: \n",
    "\n",
    "1. The total number of cards available\n",
    "2. How often that card was present among the total number of cards. \n",
    "\n",
    "That \"chance\" of taking any particular card, for now, we'll call the probability of taking that card, from the entire **sample space** of all the cards on the table. If we divide the number of times that card is available by the total number of cards, we get one notion of the probability for that particular card being taken off the table. "
   ]
  },
  {
   "cell_type": "markdown",
   "metadata": {
    "colab_type": "text",
    "id": "dnAAgw11E1Zi"
   },
   "source": [
    "The above is called usually called the frequency view of probability, but it isn't the only way we can decide to assign probability. For example, there are certain events that only happen once, and so in this case, running a simulation to try and get at the underlying probability of events is impossible. \n",
    "\n",
    "## Degree of belief\n",
    "\n",
    "We could alternatively imagine a case where an event only happens once, as in a presidential election. In this case we might say that we are reasonaly sure our favorite candidate will win, and assign a number to that degree of belief. This is called a subjective probability. \n",
    "\n",
    "In any case both definitions of probability rely on the concept of **random variables**.\n",
    "\n",
    "\n",
    "## Formal definition: \n",
    "\n",
    "A _probability space_ contains two elements, a sample space $G$ and a probability function $P(\\cdot)$ which takes an event $A$ (that is a subset of $G$) as input and returns a real number between 0 and 1: $P(A)$\n",
    "\n",
    "There are particular properties that together a sample space and probability function must meet, these properties further rely on 2 basic claims: \n",
    "\n",
    "1. $P(nothing) = 0$ and $P(G) = 1$\n",
    "2. $P(\\bigcup_{A_i \\in G} A_i) = \\sum _{A_i \\in G} P(A_i)$\n",
    "\n",
    "in words, the above states that disjoint events are mutually exclusive: e.g. $P(A_i , A_j) = 0$ if $i \\neq j$\n",
    "\n",
    "\n",
    "A **probability distribution** is a function that maps the event space to event probabilities. In other words, given our example earlier, we want to map the elements in **subet A** to a specific probabilities (i.e. 1 -> 0.2, 2 -> 0.067 and so forth). \n",
    "\n",
    "These functions can map from **discrete** or **continuous** event spaces, which describe properties of the sample space. We also measure properties of these distribution functions such as their mean and variance to determine the shape and spread of the function. We will detail these specific properties later on. "
   ]
  },
  {
   "cell_type": "code",
   "execution_count": null,
   "metadata": {
    "colab": {},
    "colab_type": "code",
    "id": "dqcJ_iFrE0HQ"
   },
   "outputs": [],
   "source": []
  },
  {
   "cell_type": "markdown",
   "metadata": {
    "colab_type": "text",
    "id": "MPv0Gy9QG68f"
   },
   "source": [
    "# Random Variables\n",
    "\n",
    "A random variable is just like a normal variable we use in algebra, except it's value depends on the outcome of a random phenomenon. Random variables are an important part of Probability Theory. \n",
    "\n",
    "For example, we can consider random variable $X$ that denotes the outcome of a coin flip. If the coin flips to heads, $X = 0$, to tails, $X = 1$. We can consider different properties of random variable X such as how likely $X = 0$ or $X = 1$. We use the random variable because we don't quite know the possible outcome, and we want to be able to measure the probabilities for each outcome (altogether forming a probaiblity distribution). \n",
    "\n",
    "\n",
    "\n",
    "## Discrete Random Variables\n",
    "\n",
    "The coin flip described earlier is an example of a *discrete* random variable because the possible values for X is finite or countably infinite. \n",
    "\n",
    "We can consider the **probability mass function** of a random variable which is a function that describes how likely a random variable $X$ can take on some value $x$. We can formally define this for disecrete random variables as $p(x) = P(X = x)$ such that $x$ denotes each possible value that $X$ can take. \n",
    "\n",
    "In the coin flip case, we can say that the set of possible values for $X$ is $X = {0, 1}$, a finite set. If the coin is fair, then we can say that $p(0) = p(X = 0) = 0.5$ and $p(1) = p(X = 1) = 0.5$. \n",
    "\n",
    "You can see that it will always be true that $\\sum_{x \\in \\mathcal{X}} p(x) = 1$ or that the sum of the probability of X being all its possible values will be 1. \n",
    "\n",
    "\n",
    "We can also consider the **cumulative distribution function (cdf)** of a random variable which describes how likely a random variable $X$ can be less than or equal to some value $x$. This is formally defined as $F(x) = P(X <= x)$ and specifically for discrete variables as $F(x) = \\sum_{t\\in \\mathcal{X}: t \\le x} p(t)$. \n",
    "\n",
    "\n",
    "Examples of discrete random variables include Bernoulli (eg. the coin flip, probability $p$ for one outcome, $1-p$ for the other outcome), Binomial (a series of Bernoulli's), Poisson, discrete uniform variables. \n"
   ]
  },
  {
   "cell_type": "code",
   "execution_count": 11,
   "metadata": {
    "colab": {
     "base_uri": "https://localhost:8080/",
     "height": 329
    },
    "colab_type": "code",
    "id": "8VPdfKqhGLhZ",
    "outputId": "70cdc764-8657-4280-8d52-0e2743c1ac14"
   },
   "outputs": [
    {
     "name": "stdout",
     "output_type": "stream",
     "text": [
      "In this example, we can see that P(x = 2) = 0.35\n",
      "You can also see how the sum of P(x = x_i) for all x_i is 1\n"
     ]
    },
    {
     "data": {
      "image/png": "[encoded data removed]",
      "text/plain": [
       "<Figure size 432x288 with 1 Axes>"
      ]
     },
     "metadata": {
      "needs_background": "light"
     },
     "output_type": "display_data"
    }
   ],
   "source": [
    "# example of pmf for discrete random variables\n",
    "pmf = np.array([2.7, 5.5, 7, 3.5, 1.3, 0, 0, 0, 0, 0])/20\n",
    "plt.bar(np.arange(10), pmf)\n",
    "plt.xlabel('x')\n",
    "plt.ylabel('f(x)')\n",
    "plt.title('Example of a Discrete pmf')\n",
    "print(\"In this example, we can see that P(x = 2) = 0.35\")\n",
    "print(\"You can also see how the sum of P(x = x_i) for all x_i is 1\")\n"
   ]
  },
  {
   "cell_type": "markdown",
   "metadata": {
    "colab_type": "text",
    "id": "11VSxM6UMc2h"
   },
   "source": [
    "\n",
    "**EXAMPLE 1** A fair coin is flipped three times. Let $X$ be the total number of heads. \n",
    "1. What are the possible values for $X$? Is $X$ a discrete variable?  \n",
    "2. What is the pmf for those possible values? \n",
    "\n",
    "\n"
   ]
  },
  {
   "cell_type": "markdown",
   "metadata": {
    "colab_type": "text",
    "id": "j1KhXeWv2Mi6"
   },
   "source": [
    "*solution:*\n",
    "The set of possible values of X is X = {0,1,2,3}, a finite set, so X is discrete. Its pmf is p(0) = p(3) = 1/8, p(1) = p(2) = 3/8. We can also recognize X as a binomial random variable.\n",
    "\n"
   ]
  },
  {
   "cell_type": "code",
   "execution_count": 12,
   "metadata": {
    "colab": {
     "base_uri": "https://localhost:8080/",
     "height": 281
    },
    "colab_type": "code",
    "id": "LrtXRxf-bLzA",
    "outputId": "7ba4e133-5b71-48a3-ee3d-63356ef0f31d"
   },
   "outputs": [
    {
     "data": {
      "image/png": "[encoded data removed]",
      "text/plain": [
       "<Figure size 432x288 with 1 Axes>"
      ]
     },
     "metadata": {
      "needs_background": "light"
     },
     "output_type": "display_data"
    }
   ],
   "source": [
    "x = np.arange(10)\n",
    "n = 3\n",
    "p = 0.5\n",
    "rv = stats.binom(n, p)\n",
    "plt.bar(x, rv.pmf(x))\n",
    "plt.title(\"Binomial PMF for Total number of Heads for 3 flips\")\n",
    "plt.show()"
   ]
  },
  {
   "cell_type": "markdown",
   "metadata": {
    "colab_type": "text",
    "id": "tC_22vyg2Mvo"
   },
   "source": [
    "**EXAMPLE 2**: A fair coin is flipped repeatedly until it comes up heads. Let $X$ be the total number of flips needed to obtain heads. Again, \n",
    "1. What are the possible values for $X$? Is $X$ a discrete variable?  \n",
    "2. What is the pmf for those possible values? \n",
    "\n"
   ]
  },
  {
   "cell_type": "markdown",
   "metadata": {
    "colab_type": "text",
    "id": "XGdWj5VG2WXa"
   },
   "source": [
    "\n",
    "*solution:* \n",
    "The set of possible values of $X$ is $X = {1, 2, 3, . . .}$, a countably infinite set, so X is discrete. \n",
    "Its pmf is $p(x) = 2^{-x}$ for every $x \\in {1, 2, 3, . . .}$. We can also recognize X as a geometric random variable.\n",
    "\n"
   ]
  },
  {
   "cell_type": "code",
   "execution_count": 38,
   "metadata": {
    "colab": {
     "base_uri": "https://localhost:8080/",
     "height": 281
    },
    "colab_type": "code",
    "id": "APSoE89hdQWr",
    "outputId": "02aecab8-2272-403f-940f-6a921bb8b14b"
   },
   "outputs": [
    {
     "data": {
      "image/png": "[encoded data removed]",
      "text/plain": [
       "<Figure size 432x288 with 1 Axes>"
      ]
     },
     "metadata": {
      "needs_background": "light"
     },
     "output_type": "display_data"
    }
   ],
   "source": [
    "x = np.arange(15)\n",
    "p = 0.5 \n",
    "rv = stats.geom(p)\n",
    "plt.bar(x, rv.pmf(x))\n",
    "plt.title(\"Geometric PMF for Total number of flips until heads\")\n",
    "plt.show()"
   ]
  },
  {
   "cell_type": "markdown",
   "metadata": {
    "colab_type": "text",
    "id": "UhC_eVrEozK1"
   },
   "source": [
    "# Brief aside into calculus\n",
    "\n",
    "Recall that the sum of the probabilitiy function for all possible outcomes of a sample space must add to one. When we are dealing with continuous sample spaces, the number of possible outcomes is **uncountable**. The technical definition for uncountable is that if we lined up the outcomes of a continous sample space in a 1 - to - 1 fashion with the natural numbers, starting from 0, 1, 2, ... and so on, we could not find a mapping between each outcome of the sample space and the natural numbers, because even though they are both infinately large, there are still _more_ things in the continuous sample space. Said another way, this means that we are incapable of breaking up a continuous sample space into discrete chuncks (if we could, we'd be able to line them up with the natural numbers in a 1 - to - 1 manner). \n",
    "\n",
    "So we are left with the question, how in the world do we add a set of things that we can't even pinpoint and align with the natural numbers? Enter calculus; we use the integral, if $X$ is our random variable and it is continous then: \n",
    "\n",
    "\n",
    "$$\\int_{-\\infty}^{\\infty} \\mathop{dx_i}P(X = x_i) = 1$$\n",
    "\n",
    "All of this is to say, that just as in the discrete case we use sums to work with probabilities, in the continuous case we also use sums. For our purposes we want you to think of integration as a sum over all possible things (which is what it actually is), think in terms of discrete steps, and then make those steps smaller and smaller:\n",
    "\n",
    "\n",
    "\n",
    "in the image above, imagine those rectangles becoming infinately smaller and smaller, and you have the integral!"
   ]
  },
  {
   "cell_type": "markdown",
   "metadata": {
    "colab_type": "text",
    "id": "QEbqEFl02ra5"
   },
   "source": [
    "# Continuous Random Variables\n",
    "\n",
    "A continuous random variable is a random variable with a continuous distribution\n",
    "\n",
    "A random variable $X$ is continuous if its possible values form an uncountable set (eg. some interval on $\\Re$ ); in other words, it takes values in a continuous space. \n",
    "\n",
    "Note that the probability for X equal to any specific value is *exactly* 0. So instead of a pmf, we look at the probability density function (pdf), which will be defined formally as $\\int_a^b f(x) dx = P(a \\le X \\le b)$ for any $a, b \\in \\Re$. Just like with the pmf, we know that $\\int_{- \\infty}^\\infty f(x) dx = 1$ is always true.\n",
    "\n",
    "We can also define the cdf of a random variable $X$ as $F(x) = P(X\\le x)$, so for continuous rv $X$, we can define it as $F(x) = P(X \\le x) = \\int_{- \\infty}^x f(x) dx$. \n",
    "\n",
    "The pdf is obtained by differentiating the cdf. \n",
    "\n",
    "\n",
    "\n",
    "Examples of continuous random variables include normal, exponential, beta, gamma, chi-squared, Student's t, and continuous uniform random variable."
   ]
  },
  {
   "cell_type": "code",
   "execution_count": null,
   "metadata": {
    "colab": {
     "base_uri": "https://localhost:8080/",
     "height": 298
    },
    "colab_type": "code",
    "id": "ZPnJUi6qnlV-",
    "outputId": "af842b8a-4afd-4680-d4a5-a3ac2c10bd4f"
   },
   "outputs": [
    {
     "data": {
      "text/plain": [
       "Text(0.5, 1.0, 'Example continuous random variable PDF (normal distribution)')"
      ]
     },
     "execution_count": 58,
     "metadata": {
      "tags": []
     },
     "output_type": "execute_result"
    },
    {
     "data": {
      "image/png": "[encoded data removed]",
      "text/plain": [
       "<Figure size 432x288 with 1 Axes>"
      ]
     },
     "metadata": {
      "needs_background": "light",
      "tags": []
     },
     "output_type": "display_data"
    }
   ],
   "source": [
    "x = np.linspace(-10, 10)\n",
    "rv = stats.norm()\n",
    "plt.plot(x, rv.pdf(x), 'k-', lw=2, label='frozen pdf')\n",
    "plt.title('Example continuous random variable PDF (normal distribution)')"
   ]
  },
  {
   "cell_type": "markdown",
   "metadata": {
    "colab_type": "text",
    "id": "_nDz3r8ssY6C"
   },
   "source": [
    "**EXAMPLE 1:**  \n",
    "Let $X$ be the amount of time in hours that an electrical component functions before breaking down. This random variable might have the pdf: \n",
    "\n",
    "$f(x) =  \\bigg\\{ \\begin {array}{l} \\lambda \\exp(- \\lambda x) \\text{ if } x \\ge 0, \\\\\n",
    "    0 \\text { if } x < 0.\n",
    "  \\end{array}$\n",
    "\n",
    "This is the expontential distribution. We can plot this pdf as below. "
   ]
  },
  {
   "cell_type": "code",
   "execution_count": null,
   "metadata": {
    "colab": {
     "base_uri": "https://localhost:8080/",
     "height": 282
    },
    "colab_type": "code",
    "id": "3UKnP9gypkfb",
    "outputId": "0d66505f-7fb9-4f77-d162-92986791b787"
   },
   "outputs": [
    {
     "data": {
      "text/plain": [
       "[<matplotlib.lines.Line2D at 0x7ff10bc0f1d0>]"
      ]
     },
     "execution_count": 62,
     "metadata": {
      "tags": []
     },
     "output_type": "execute_result"
    },
    {
     "data": {
      "image/png": "[encoded data removed]",
      "text/plain": [
       "<Figure size 432x288 with 1 Axes>"
      ]
     },
     "metadata": {
      "needs_background": "light",
      "tags": []
     },
     "output_type": "display_data"
    }
   ],
   "source": [
    "x = np.linspace(-2, 40)\n",
    "rv = stats.expon()\n",
    "plt.plot(x, rv.pdf(x), 'k-', lw=2, label='frozen pdf')"
   ]
  },
  {
   "cell_type": "markdown",
   "metadata": {
    "colab_type": "text",
    "id": "GNgi6bI5xSad"
   },
   "source": [
    "Can you calculate the probability that the part function will last at least $c$ hours? "
   ]
  },
  {
   "cell_type": "markdown",
   "metadata": {
    "colab_type": "text",
    "id": "vFG6C3b_xgM3"
   },
   "source": [
    "*solution:* $P(X \\le c) = \\int_c^\\inf f(x) dx = \\exp(-c \\lambda) $"
   ]
  },
  {
   "cell_type": "markdown",
   "metadata": {
    "colab_type": "text",
    "id": "zC09FZPMx2tR"
   },
   "source": [
    "# Joint, Conditional, Marginal Probability \n",
    "\n",
    "## Discrete Random Variables\n",
    "\n",
    "Let $X$ and $Y$ be discrete random variables that take on values $x$ and $y$ respectively. \n",
    "\n",
    "We can then consider the **joint pmf** of $X$ and $Y$ as $p(x, y) = P(X = x, Y = y)$. In other words, this is the probability of X *and* Y taking on those values. \n",
    "\n",
    "For a discrete random variables, we can look at joint probabilities like a table. \n",
    "\n",
    "Here we have $P(x, y)$ with the rows taking the x values, and columns y values \n",
    "\n",
    "|| | | | | \n",
    "|-|-|-|-|-| \n",
    "||**x=-2**|**x=-1**|**x=0**|**x=1**|\n",
    "|**y=4**|.01 |.03 |.07 |.08 | \n",
    "|**y=5**|.03 |.07 |.14 |.07 | \n",
    "|**y=6**|.07 |.14 |.07 |.03 | \n",
    "|**y=7**|.08 |.07 |.03 |.01 |\n",
    "\n",
    "So we can consider, say, $P(-2, 5) = 0.03$ by this lookup table. \n",
    "\n",
    "We can consider the **marginal pmfs** of a joint pmf, which is the probability of only one variable, regardless of the other variables' values. Concretely, this means, given joint pmf $p(x, y)$, the marginal pmf of X is $P(X = x)$ regardless of what value $Y$ takes and the marginal pmf of Y is $P(Y = y)$ regardless of what value $X$ takes. \n",
    "\n",
    "Mathematically, we can define this as\n",
    "\n",
    "$P(X = x) = \\sum_{y \\in \\mathcal{Y}} P(X = x, Y = y)$ \n",
    "\n",
    "$P(Y = y) = \\sum_{x \\in \\mathcal{X}} P(X = x, Y = y)$ \n",
    "\n",
    "Intuitively, we can look at our table and essentially *sum* down a row or column. \n",
    "\n",
    "For example, given our discrete probabilities above, if we're looking for $P(X = x)$, we will sum all the rows. "
   ]
  },
  {
   "cell_type": "code",
   "execution_count": null,
   "metadata": {
    "colab": {
     "base_uri": "https://localhost:8080/",
     "height": 299
    },
    "colab_type": "code",
    "id": "TZl30FpM4kVp",
    "outputId": "37ef13ac-3b16-4552-82b2-a7bd7af425e7"
   },
   "outputs": [
    {
     "name": "stdout",
     "output_type": "stream",
     "text": [
      "P(X = x) =  [0.19 0.31 0.31 0.19]\n"
     ]
    },
    {
     "data": {
      "text/plain": [
       "<BarContainer object of 4 artists>"
      ]
     },
     "execution_count": 67,
     "metadata": {
      "tags": []
     },
     "output_type": "execute_result"
    },
    {
     "data": {
      "image/png": "[encoded data removed]",
      "text/plain": [
       "<Figure size 432x288 with 1 Axes>"
      ]
     },
     "metadata": {
      "needs_background": "light",
      "tags": []
     },
     "output_type": "display_data"
    }
   ],
   "source": [
    "P_xy = np.array([[.01, .03, .07, .08], [.03, .07, .14, .07], [.07, .14, .07, .03], [.08, .07, .03, .01]])\n",
    "P_x = np.sum(P_xy, axis = 0)\n",
    "print(\"P(X = x) = \", P_x)\n",
    "\n",
    "plt.bar([-2, -1, 0, 1], P_x)"
   ]
  },
  {
   "cell_type": "markdown",
   "metadata": {
    "colab_type": "text",
    "id": "n_J4YK7z5glk"
   },
   "source": [
    "Note that like all pmfs, we can see that $\\sum_{x \\in X} p(x) = 1$\n",
    "\n",
    "\n",
    "Another important pmf we can derive from joint pmfs are **Conditional PMFs.** Unlike marginal pmfs, which is the pmf for $X = x$ irrespective of the value of $Y$, conditional pmfs is the pmf for $X = x$ *given* that $Y$ is a specific value $y$. \n",
    "\n",
    "Mathematically, that is defined as: \n",
    "\n",
    "$P(X = x | Y = y) = \\frac {P(X = x, Y = y)}{P(Y = y)}$\n",
    "\n",
    "$P(Y = y | X = x) = \\frac {P(X = x, Y = y)}{P(X = x)}$\n",
    "\n",
    "\n",
    "Intuitively, we can calculate the conditional pmf by looking at the specific row/column for the variable we want to condition on. \n",
    "\n",
    "For example, if we want $P(y|x = -1)$, we will look at the second column for $x = -1$. \n",
    "\n",
    "\n",
    "|| | | | | \n",
    "|-|-|-|-|-| \n",
    "||**x=-2**|**x=-1**|**x=0**|**x=1**|\n",
    "|**y=4**|.01 |**.03** |.07 |.08 | \n",
    "|**y=5**|.03 |**.07**  |.14 |.07 | \n",
    "|**y=6**|.07 |**.14** |.07 |.03 | \n",
    "|**y=7**|.08 |**.07** |.03 |.01 |\n",
    "\n",
    "But note that the column doesn't sum to 1-- we need to scale the column's values by the marginal pmf $P(x = -1)$. This is the intuition behind the mathematical definition of the conditional pmf, i.e. \n",
    "\n",
    "$P(Y = y|x = -1) = \\frac{P(y, x = -1)}{P(x = -1)}$\n",
    "\n",
    "From our earlier example, we know $P(x = -1) = 0.31$, so we just need to take our column and scale it by the marginal probability.  "
   ]
  },
  {
   "cell_type": "code",
   "execution_count": null,
   "metadata": {
    "colab": {
     "base_uri": "https://localhost:8080/",
     "height": 34
    },
    "colab_type": "code",
    "id": "73yk78UVEKHl",
    "outputId": "9743cad2-ab06-4bdb-e4cd-3bb1876c8c37"
   },
   "outputs": [
    {
     "name": "stdout",
     "output_type": "stream",
     "text": [
      "P(Y = y | x = -1) =  [0.09677419 0.22580645 0.4516129  0.22580645]\n"
     ]
    }
   ],
   "source": [
    "P_y_given_x = P_xy[:,1] / 0.31\n",
    "print(\"P(Y = y | x = -1) = \", P_y_given_x)"
   ]
  },
  {
   "cell_type": "markdown",
   "metadata": {
    "colab_type": "text",
    "id": "swt9nL__O1Tc"
   },
   "source": [
    "## Continuous Random Variables\n",
    "\n",
    "We can also look at joint, marginal, and conditional distributions for continuous random variables. \n",
    "\n",
    "Given continuous random variables $X$, $Y$, the joint pdf of $X$ and $Y$ is the nonnegative function $f(x, y)$ s.t. \n",
    "\n",
    "$ \\iint_A f^{(X, Y)} (x, y) \\,dx \\,dy = P[(X, Y) \\in A] \\text{ for any set }A \\subset \\Re^2$\n",
    "\n",
    "\n",
    "Like our table example earlier, let us consider an example joint pdf as we go through the marginal and conditional distributions. We will use the Gaussian distribution."
   ]
  },
  {
   "cell_type": "code",
   "execution_count": null,
   "metadata": {
    "colab": {
     "base_uri": "https://localhost:8080/",
     "height": 312
    },
    "colab_type": "code",
    "id": "3rC8EYdQRr9X",
    "outputId": "557e80be-d123-4eda-cfe9-7bab0b96ec96"
   },
   "outputs": [
    {
     "data": {
      "text/plain": [
       "Text(0.5, 1.0, 'P(x,y)')"
      ]
     },
     "execution_count": 16,
     "metadata": {
      "tags": []
     },
     "output_type": "execute_result"
    },
    {
     "data": {
      "image/png": "[encoded data removed]",
      "text/plain": [
       "<Figure size 432x288 with 1 Axes>"
      ]
     },
     "metadata": {
      "needs_background": "light",
      "tags": []
     },
     "output_type": "display_data"
    }
   ],
   "source": [
    "x, y = np.mgrid[-3:3:.01, -3:3:.01]\n",
    "pos = np.dstack((x, y))\n",
    "rv = stats.multivariate_normal(mean=[0,0], cov=[[2, 1.8], [1.8, 2]])\n",
    "rv_pdf = rv.pdf(pos)\n",
    "plt.contourf(x, y, rv_pdf)\n",
    "plt.xlabel('x')\n",
    "plt.ylabel('y')\n",
    "plt.title('P(x,y)')"
   ]
  },
  {
   "cell_type": "markdown",
   "metadata": {
    "colab_type": "text",
    "id": "tYAV2wb0Xs3o"
   },
   "source": [
    "As with before, the marginal distribution $P(X)$ of $P(x,y)$ would be the probability for $X$ given any values for $Y$. \n",
    "\n",
    "Mathematically, we can define this as: \n",
    "\n",
    "$f(x) = \\int_{- \\infty}^\\infty f(x, y) dy$ \n",
    "\n",
    "$f(y) = \\int_{- \\infty}^\\infty f(x, y) dx$\n",
    "\n",
    "Intuitively, we will again \"sum\" across rows for $f(x)$ and across columns for $f(y)$. Since we are dealing with continuous random variables, instead of a sum, we will use an integral instead. "
   ]
  },
  {
   "cell_type": "code",
   "execution_count": null,
   "metadata": {
    "colab": {
     "base_uri": "https://localhost:8080/",
     "height": 296
    },
    "colab_type": "code",
    "id": "IXGFaomQYzKw",
    "outputId": "027524b0-6271-4a42-ec54-398050382941"
   },
   "outputs": [
    {
     "data": {
      "text/plain": [
       "Text(0, 0.5, 'y')"
      ]
     },
     "execution_count": 56,
     "metadata": {
      "tags": []
     },
     "output_type": "execute_result"
    },
    {
     "data": {
      "image/png": "[encoded data removed]",
      "text/plain": [
       "<Figure size 432x288 with 3 Axes>"
      ]
     },
     "metadata": {
      "needs_background": "light",
      "tags": []
     },
     "output_type": "display_data"
    }
   ],
   "source": [
    "fig = plt.figure()\n",
    "from matplotlib.gridspec import GridSpec\n",
    "\n",
    "def hidespines(ax):\n",
    "  ax.spines['right'].set_visible(False)\n",
    "  ax.spines['top'].set_visible(False)\n",
    "\n",
    "  \n",
    "\n",
    "gs = GridSpec(2, 2, width_ratios=[1, 5], height_ratios=[5, 1])\n",
    "ax1 = fig.add_subplot(gs[0])\n",
    "ax2 = fig.add_subplot(gs[1])\n",
    "# ax3 = fig.add_subplot(gs[2])\n",
    "ax4 = fig.add_subplot(gs[3])\n",
    "\n",
    "ax2.contourf(x, y, rv_pdf)\n",
    "ax4.plot(x[:,0], np.sum(rv_pdf, 0))\n",
    "hidespines(ax4)\n",
    "ax4.set_xlabel('x')\n",
    "\n",
    "ax1.plot( np.sum(rv_pdf, 1), y[0,:])\n",
    "ax1.invert_xaxis()\n",
    "hidespines(ax1)\n",
    "ax1.set_ylabel('y')\n"
   ]
  },
  {
   "cell_type": "markdown",
   "metadata": {
    "colab_type": "text",
    "id": "Hp2fgOjZTW3M"
   },
   "source": [
    "Finally, the condition probability is similar to the discrete case in that we'll want to take a column or row of the pdf, then scale that by the marginal pdf accordingly. \n",
    "\n",
    "Mathematically, we can define it as such: \n",
    "\n",
    "$f(x|y) = \\frac {f(x, y)}{f(y)}$\n",
    "\n",
    "$f(y|x) = \\frac {f(x, y)}{f(x)}$\n",
    "\n",
    "\n",
    "For example, if we're looking for \n",
    "\n",
    "$f(y| x = 1)$, we can take a column from the pdf earlier in which x = 1. \n",
    "\n",
    "\n"
   ]
  },
  {
   "cell_type": "code",
   "execution_count": null,
   "metadata": {
    "colab": {
     "base_uri": "https://localhost:8080/",
     "height": 312
    },
    "colab_type": "code",
    "id": "8wYupucANZjU",
    "outputId": "9d0c7b36-1fc9-4a17-f3e0-43825295f477"
   },
   "outputs": [
    {
     "data": {
      "text/plain": [
       "<matplotlib.collections.LineCollection at 0x7fe4bdd1d668>"
      ]
     },
     "execution_count": 59,
     "metadata": {
      "tags": []
     },
     "output_type": "execute_result"
    },
    {
     "data": {
      "image/png": "[encoded data removed]",
      "text/plain": [
       "<Figure size 432x288 with 1 Axes>"
      ]
     },
     "metadata": {
      "needs_background": "light",
      "tags": []
     },
     "output_type": "display_data"
    }
   ],
   "source": [
    "plt.contourf(x, y, rv_pdf)\n",
    "plt.xlabel('x')\n",
    "plt.ylabel('y')\n",
    "plt.title('P(x,y)')\n",
    "plt.vlines(1, -3, 2.9, color = 'r')"
   ]
  },
  {
   "cell_type": "markdown",
   "metadata": {
    "colab_type": "text",
    "id": "JsPYtJ140sa2"
   },
   "source": [
    "However, we will still need a \"normalizing\" factor like in the discrete case (hence the $f(x)$ in the denominator). Note that this probability cannot be calculated for our example since in continuous case we know that the pmf does not exist for a single value. \n",
    "\n",
    "Right now, we won't go thru how to calculate the conditional probability of the continuous case, but tomorrow we will give you more tools to how to calculate the entire conditional distribution tomorrow. "
   ]
  },
  {
   "cell_type": "code",
   "execution_count": null,
   "metadata": {
    "colab": {},
    "colab_type": "code",
    "id": "tE4oCMny0bjG"
   },
   "outputs": [],
   "source": []
  }
 ],
 "metadata": {
  "colab": {
   "collapsed_sections": [],
   "name": "probability-0.ipynb",
   "provenance": []
  },
  "kernelspec": {
   "display_name": "Python 3",
   "language": "python",
   "name": "python3"
  },
  "language_info": {
   "codemirror_mode": {
    "name": "ipython",
    "version": 3
   },
   "file_extension": ".py",
   "mimetype": "text/x-python",
   "name": "python",
   "nbconvert_exporter": "python",
   "pygments_lexer": "ipython3",
   "version": "3.5.6"
  }
 },
 "nbformat": 4,
 "nbformat_minor": 2
}
