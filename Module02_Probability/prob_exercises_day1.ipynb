{
 "cells": [
  {
   "cell_type": "markdown",
   "metadata": {},
   "source": [
    "# Probability Day 1 Exercises"
   ]
  },
  {
   "cell_type": "code",
   "execution_count": 1,
   "metadata": {},
   "outputs": [
    {
     "data": {
      "application/javascript": [
       "IPython.notebook.set_autosave_interval(1000)"
      ]
     },
     "metadata": {},
     "output_type": "display_data"
    },
    {
     "name": "stdout",
     "output_type": "stream",
     "text": [
      "Autosaving every 1 seconds\n"
     ]
    },
    {
     "name": "stderr",
     "output_type": "stream",
     "text": [
      "/Users/sasha/anaconda/envs/biomath/lib/python3.5/site-packages/matplotlib/__init__.py:1060: UserWarning: Illegal line #1\n",
      "\t\"~/.matplotlib/matplotlibrc\n",
      "\"\n",
      "\tin file \"/Users/sasha/.matplotlib/matplotlibrc\"\n",
      "  warnings.warn('Illegal %s' % error_details)\n"
     ]
    }
   ],
   "source": [
    "%autosave 1\n",
    "%matplotlib notebook\n",
    "import numpy as np\n",
    "import matplotlib.pyplot as plt\n",
    "import matplotlib.mlab as mlab\n",
    "import scipy.stats as stats\n",
    "import math\n",
    "%matplotlib inline\n"
   ]
  },
  {
   "cell_type": "markdown",
   "metadata": {},
   "source": [
    "---\n",
    "### 1) Marginal and conditional densities I (Discrete distributions)\n",
    "You’re doing a development experiment in which on each attempt of your experiment, you get either 1, or, two, or three dividing cells (we’ll call the number of dividing cells $y$), and there are 1, or, two, or three genes of interest expressed (we’ll call this number $x$). The possible outcomes occur with the following joint probability:\n",
    "\n",
    "| _ | x = 1 | x = 2 | x = 3 |\n",
    "|------|------|------|------|\n",
    "| y = 1 | 4/18 | 1/18 | 1/18 | \n",
    "| y = 2 | 3/18 | 1/18 | 2/18 | \n",
    "| y = 3 | 2/18 | 1/18 | 3/18 |\n",
    "\n",
    "**1a)** From this joint two-dimensional density, compute $P(x)$ : the marginal distribution over x"
   ]
  },
  {
   "cell_type": "code",
   "execution_count": null,
   "metadata": {},
   "outputs": [],
   "source": []
  },
  {
   "cell_type": "markdown",
   "metadata": {},
   "source": [
    "**1b)** Compute $P(y)$ : the marginal distribution over y"
   ]
  },
  {
   "cell_type": "code",
   "execution_count": null,
   "metadata": {},
   "outputs": [],
   "source": []
  },
  {
   "cell_type": "markdown",
   "metadata": {},
   "source": [
    "**1c)** Compute $P(y\\,|\\,x=3)$ : the conditional over $y$ given $x=3$"
   ]
  },
  {
   "cell_type": "code",
   "execution_count": null,
   "metadata": {},
   "outputs": [],
   "source": []
  },
  {
   "cell_type": "markdown",
   "metadata": {},
   "source": [
    "### 2) More Marginal and Conditional Dentisities (Middle School Survey)\n",
    "As part of a STEM outreach program, you’re mentoring students while they do a survey of physical attributes (eye color, hair color) of their classmates in a middle school of 543 people. Let's refer to these random variables as $E$, and $H$ for eye color and hair color respectively. You collect the frequencies of each combination in the following pair of tables:\n",
    "\n",
    "\n",
    "|  | E = *Brown* | E = *Blue* | E = *Hazel* | E = *Green* |\n",
    "|------|------|------|------|------|\n",
    "| H = *Black* | 52 | 19 | 12 | 2 |\n",
    "| H = *Brown* | 129 | 82 | 22 | 31 |\n",
    "| H = *Red* | 21 | 14 | 25 | 9 |\n",
    "| H = *Blonde* | 8 | 102 | 12 | 8 |\n",
    "\n",
    "\n",
    "**2a)** Compute the joint density P(E, H)"
   ]
  },
  {
   "cell_type": "code",
   "execution_count": null,
   "metadata": {},
   "outputs": [],
   "source": []
  },
  {
   "cell_type": "markdown",
   "metadata": {},
   "source": [
    "**2b)** From this joint density, compute: \n",
    "\n",
    "- $P(E)$: the marginal distribution over eye color\n",
    "- $P(H\\mid E=\\text{hazel})$ : the conditional over hair color given the student has hazel eyes\n",
    "- $P(E\\mid H)$ : the full conditional density over eye color given hair color\n",
    "- $P(H\\mid E=\\text{not brown})$: the conditional over hair color given the student doesn't have brown eyes.\n"
   ]
  },
  {
   "cell_type": "code",
   "execution_count": null,
   "metadata": {},
   "outputs": [],
   "source": []
  },
  {
   "cell_type": "markdown",
   "metadata": {},
   "source": [
    "### 3) PDFs and integrals\n",
    "\n",
    "\n",
    "Consider a continuous random variable with a probability density function is $p(x) = 6x(1 − x)$ over the interval $x \\in [0, 1]$. \n",
    "\n",
    "**3a)** Given the PMF, can you plot the PMF? \n",
    "\n"
   ]
  },
  {
   "cell_type": "code",
   "execution_count": null,
   "metadata": {},
   "outputs": [],
   "source": []
  },
  {
   "cell_type": "markdown",
   "metadata": {},
   "source": [
    "**3b)**  One way to work with continuous random variables is to discretize it. When you plot the pmf, you had to approximate the pmf by choosing values of x with small steps to calculate individual values for p(x). Using the same method, can you approximate the integral over the entire PMF? "
   ]
  },
  {
   "cell_type": "code",
   "execution_count": null,
   "metadata": {},
   "outputs": [],
   "source": []
  },
  {
   "cell_type": "markdown",
   "metadata": {},
   "source": [
    "\n",
    "**3c) ** Derive the exact integral using calculus. \n",
    "\n"
   ]
  },
  {
   "cell_type": "markdown",
   "metadata": {},
   "source": []
  },
  {
   "cell_type": "markdown",
   "metadata": {},
   "source": [
    "**3d) ** Does this function match the approximated integral? \n",
    "\n",
    "\n"
   ]
  },
  {
   "cell_type": "markdown",
   "metadata": {},
   "source": []
  },
  {
   "cell_type": "markdown",
   "metadata": {},
   "source": [
    "**3e)** From inspecting the graph, what is the maximal value of p(x) and for what x does it occur?"
   ]
  },
  {
   "cell_type": "markdown",
   "metadata": {},
   "source": []
  },
  {
   "cell_type": "markdown",
   "metadata": {},
   "source": [
    "---\n",
    "### 4) Marginal and conditional densities II (Continuous distributions and numerical integration)\n",
    "\n",
    "Load the file `pdfData2D.mat`, which contains a discretely sampled 2D probability density. The variables defined include: \n",
    "\n",
    "$\\quad$ `x` = a vector of $x$ points\n",
    "\n",
    "$\\quad$ `y` = a vector of $y$ points\n",
    "\n",
    "$\\quad$ `Pxy` = a 2D matrix, whose $(i, j)$ 'th entry is the probability $p(x = {\\tt x[j]}, y = {\\tt y[i]})$ \n",
    "\n",
    "*Note:* This isn't really \"continuous\", is it? When we work with continuous densities, it is common to discretely sample them in a grid. While this problem looks harder than the previous problem, all of the same methods apply! The *only* difference is that instead of three values of $x$ and $y$, we now have 200 and 250 values, respectively.\n",
    " \n",
    "*Another Note:* `np.sum(Pxy) * dx * dy = 1`, where `dx = x[2] - x[1] = .1 = dy`.  Here is a block of code to get you started and help you visualize $p(x,y)$: (use this as a reference when you'll need to make your own 2D plots below)\n",
    "\n",
    "\n",
    "\n"
   ]
  },
  {
   "cell_type": "code",
   "execution_count": null,
   "metadata": {},
   "outputs": [],
   "source": []
  },
  {
   "cell_type": "markdown",
   "metadata": {},
   "source": [
    "**4a)** From this joint two-dimensional density, compute and make plots (or images) of\n",
    "\n",
    "- $P(x)$ : the marginal distribution over x\n",
    "\n",
    "- $P(y)$ : the marginal distribution over y\n",
    "\n",
    "- $P(y\\,|\\,x=5)$ : the conditional over $y$ given $x=5$\n",
    "\n",
    "- $P(x\\,|\\,y)$ : the full image of the conditional density $P(x\\,|\\,y)$"
   ]
  },
  {
   "cell_type": "code",
   "execution_count": null,
   "metadata": {},
   "outputs": [],
   "source": []
  },
  {
   "cell_type": "markdown",
   "metadata": {},
   "source": [
    "\n",
    "**4b)**  Three common statistics one might wish to compute from a density are its mean, mode, and median.  \n",
    "\n",
    "- The *mean* is the average value, given by $\\mathbb{E}[x] = \\int x P(x) dx$ when $P(x)$ is a pdf, and $\\mathbb{E}[x] = \\sum_{i} x_i P(x_i)$ when $P(x)$ is a pmf.\n",
    "\n",
    "- The *mode* is the value $x$ where $P(x)$ takes its maximum. We\n",
    "  can write this (fancily, if we like) as $\\arg\\max_x P(x)$. \n",
    "\n",
    "- The *median* is the value of $x$ where half the probability\n",
    "  mass $P(x)$ is to the left (smaller than $t$) and half the\n",
    "  probability is to the right (greater than $t$). In math notation,\n",
    "  this corresponds to saying that the mode $t$ satisfies \n",
    "  \n",
    "  Compute the mean, mode and median of the marginal $P(x)$ and of the conditional $P(x|y=3)$. \n"
   ]
  },
  {
   "cell_type": "code",
   "execution_count": null,
   "metadata": {},
   "outputs": [],
   "source": []
  },
  {
   "cell_type": "code",
   "execution_count": null,
   "metadata": {},
   "outputs": [],
   "source": []
  }
 ],
 "metadata": {
  "kernelspec": {
   "display_name": "Python 3",
   "language": "python",
   "name": "python3"
  },
  "language_info": {
   "codemirror_mode": {
    "name": "ipython",
    "version": 3
   },
   "file_extension": ".py",
   "mimetype": "text/x-python",
   "name": "python",
   "nbconvert_exporter": "python",
   "pygments_lexer": "ipython3",
   "version": "3.5.6"
  }
 },
 "nbformat": 4,
 "nbformat_minor": 2
}
