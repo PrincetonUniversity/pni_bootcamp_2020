{
 "cells": [
  {
   "cell_type": "markdown",
   "metadata": {},
   "source": [
    "## Basic exercises\n",
    "\n",
    "1) Write a function that computes the log-likelihood of a series of fair coin tosses. This function should accept a list, each element of which is either 1 (heads) or 0 (tails). "
   ]
  },
  {
   "cell_type": "code",
   "execution_count": null,
   "metadata": {},
   "outputs": [],
   "source": []
  },
  {
   "cell_type": "markdown",
   "metadata": {},
   "source": [
    "2) Write a function that computes the log-likelihood of a series of biased coin tosses. This function should accept a list, each element of which is either 1 (heads) or 0 (tails), as well as a parameter $p$ = $P(heads)$ for the coin."
   ]
  },
  {
   "cell_type": "code",
   "execution_count": null,
   "metadata": {},
   "outputs": [],
   "source": []
  },
  {
   "cell_type": "markdown",
   "metadata": {},
   "source": [
    "3) Write a function that computes the log-likelihood of a sequence of samples from a normal distribution. This function should accept a list of real numbers, as well as a mean $\\mu$ and standard deviation $\\sigma$ that define the distribution."
   ]
  },
  {
   "cell_type": "code",
   "execution_count": null,
   "metadata": {},
   "outputs": [],
   "source": []
  },
  {
   "cell_type": "markdown",
   "metadata": {},
   "source": [
    "4) Challenge: A mixture of two Gaussians is a model in which you have two Gaussian distributions, with means $\\mu_1, \\mu_2$ and standard deviations $\\sigma_1, \\sigma_2$, each of which contributes data with some weighting. To sample from this model, one first selects a Gaussian to sample from according to some distribution (called a \"mixing distribution\"), and then samples directly from the chosen Gaussian.\n",
    "\n",
    "Write a function that accepts a list of data (real numbers), two means $\\mu_1, \\mu_2$, two standard deviations $\\sigma_1, \\sigma_2$. This function should return the log-likelihood of the list of data, assuming they are independent samples from the Gaussian mixture model. You may assume that the mixing distribution is uniform for the two Gaussians."
   ]
  },
  {
   "cell_type": "code",
   "execution_count": null,
   "metadata": {},
   "outputs": [],
   "source": []
  },
  {
   "cell_type": "markdown",
   "metadata": {},
   "source": [
    "## Cooler stuff\n",
    "\n",
    "In this section of the exercises, you're going to implement some of the models discussed in the lecture."
   ]
  },
  {
   "cell_type": "markdown",
   "metadata": {},
   "source": [
    "#### 1) Neural coding (Poisson-spiking neurons)\n",
    "\n",
    "In this example, we consider a fictional neuronal subtype that fires according to the azimuthal (horizontal) angle of the eye in goldfish. This neuron has a firing rate function\n",
    "\n",
    "$$\n",
    "    f(x) = kx\n",
    "$$\n",
    "\n",
    "where $x \\in [0, 90]$ corresponds to the eye angle, $k$ is some positive constant (why does $k$ have to be positive?), and $f(x)$ denotes the firing rate of the neuron at angle $x$ in Hz. It then emits a spike count $r$ according to a Poisson distribution with rate parameter $f(x)$. That is, the distribution of possible spike counts $r$ at location $x$ is given by:\n",
    "\n",
    "$$\n",
    "P(r | x) = Poisson(f(x))\n",
    "$$\n",
    "\n",
    "Tomorrow, we will deal with fitting this model to \"real\" data. For today, we are just going to simulate data according to this model. \n",
    "\n",
    "Write a function that accepts a positive real number $k$ and an eye angle $x$, and samples a spike count for our fictional neuron during a period of one second. "
   ]
  },
  {
   "cell_type": "code",
   "execution_count": null,
   "metadata": {},
   "outputs": [],
   "source": []
  },
  {
   "cell_type": "markdown",
   "metadata": {},
   "source": [
    "Now that we have our function, we're going to simulate some data using it. Specifically, we will be simulating the behaviour of the neuron as the eye sits on a single angle for a specified number of seconds.\n",
    "\n",
    "Below, write a function that accepts a number of seconds $T$, an eye angle $x$, and a positive real $k$. This function should return a $1 \\times T$ vector containing the sampled spike counts for each second. Use this function with $T=10000, k=0.5, x=15$ and plot a histogram of the returned spike counts."
   ]
  },
  {
   "cell_type": "code",
   "execution_count": null,
   "metadata": {},
   "outputs": [],
   "source": []
  },
  {
   "cell_type": "markdown",
   "metadata": {},
   "source": [
    "Of course, goldfish eyes are capable of moving <sup>[citation needed]</sup>. Edit your function above so that, instead of accepting a single eye angle $x$, it accepts a $1 \\times T$ vector of eye angles $\\vec{x}$ that corresponds to the goldfish's eye angle at each second of the simulation. Your function should now simulate spike counts at every second $t$ according to $x[t]$."
   ]
  },
  {
   "cell_type": "code",
   "execution_count": null,
   "metadata": {},
   "outputs": [],
   "source": []
  },
  {
   "cell_type": "markdown",
   "metadata": {},
   "source": [
    "Finally, let $T=10000$ and pick $\\vec{x}$ however you like. Below, plot both the evolution of the firing rate function $f(x)$ over time, as well as the actual sampled spike counts. "
   ]
  },
  {
   "cell_type": "code",
   "execution_count": null,
   "metadata": {},
   "outputs": [],
   "source": []
  },
  {
   "cell_type": "markdown",
   "metadata": {},
   "source": [
    "#### 2) Psychometric curves"
   ]
  },
  {
   "cell_type": "markdown",
   "metadata": {},
   "source": [
    "In this example, we consider the behaviour of a mouse performing an evidence accumulation task. The mouse hears a stream of randomly-generated clicks on both the right and left sides of its head. After 60 seconds pass, the mouse must pull a lever corresponding to the side that had the most clicks. \n",
    "\n",
    "As in 1), we are going to write *generative* code for this process, and will worry about fitting it tomorrow. \n",
    "\n",
    "Before we describe the generative model, write a function that implements the sigmoid function:\n",
    "\n",
    "$$\n",
    "f(x) = \\frac{1}{1 + e^{-k(x - x_0)}}\n",
    "$$"
   ]
  },
  {
   "cell_type": "code",
   "execution_count": null,
   "metadata": {},
   "outputs": [],
   "source": []
  },
  {
   "cell_type": "markdown",
   "metadata": {},
   "source": [
    "Plot $f(x)$ for various settings of $k, x_0$ below. What do they represent?"
   ]
  },
  {
   "cell_type": "code",
   "execution_count": null,
   "metadata": {},
   "outputs": [],
   "source": []
  },
  {
   "cell_type": "markdown",
   "metadata": {},
   "source": [
    "The sigmoid function is a useful function to be aware of. It maps the real line to the interval $[0, 1]$. This is handy, as we can use it to convert real numbers between $-\\infty$ and $\\infty$ into probabilities.\n",
    "\n",
    "In the case of our mouse, we will assume that it is not perfect at this task. When the accumulated numbers of clicks on either side are close, the mouse is less likely to make the correct choice. (Why is the sigmoid function useful to express this idea?)\n",
    "\n",
    "We are going to capture this as follows. First, let $x$ denote the difference in clicks on either side:\n",
    "\n",
    "$$\n",
    "    x = n_L - n_R\n",
    "$$\n",
    "\n",
    "where $n_L$ and $n_R$ are the number of clicks on the left and right sides, respectively. Then, we will say that:\n",
    "\n",
    "$$\n",
    "    P(\\text{mouse turns left} | x) = f(x) \n",
    "$$\n",
    "\n",
    "(What should $k, x_0$ be for this mouse to have perfect performance on this task?)\n",
    "\n",
    "Write a function that accepts the two count variables $n_L, n_R$, as well as the sigmoid parameters $k, x_0$. This function should sample a decision (1 for left, 0 for right) for the mouse on a trial with counts $n_L, n_R$."
   ]
  },
  {
   "cell_type": "code",
   "execution_count": null,
   "metadata": {},
   "outputs": [],
   "source": []
  },
  {
   "cell_type": "markdown",
   "metadata": {},
   "source": [
    "Now we will simulate several trials' worth of data. For the moment, we will assume that the counts $n_L, n_R$ are fixed.\n",
    "\n",
    "Write a function that accepts an integer number of trials $T$, as well as parameters $n_L, n_R, k, x_0$ and returns a $1 \\times T$ vector of the mouse's choices on $T$ trials consisting of counts $n_L, n_R$. For several choices of $n_L, n_R$, compare the value of $f(n_L - n_R)$ to the fraction of trials on which the mouse turned left in the simulated data (say, using $T=10000$). Are they similar?"
   ]
  },
  {
   "cell_type": "code",
   "execution_count": null,
   "metadata": {},
   "outputs": [],
   "source": []
  },
  {
   "cell_type": "markdown",
   "metadata": {},
   "source": [
    "Finally, we will allow $n_L$ and $n_R$ to vary. Modify your function above, so that instead of accepting $n_L, n_R$ as parameters, it accepts $r_L$ and $r_R$. These will be rate parameters for a Poisson distribution. On every trial, sample $n_L$ from $Poisson(r_L)$ and $n_R$ from $Poisson(r_R)$."
   ]
  },
  {
   "cell_type": "code",
   "execution_count": null,
   "metadata": {},
   "outputs": [],
   "source": []
  },
  {
   "cell_type": "markdown",
   "metadata": {},
   "source": [
    "Finally, plot $f(x)$ directly, and overlay a scatter plot of the empirical counts as above (that is, for each sampled $x = n_L - n_R$, calculate the fraction of trials on which the mouse turned left and scatter on that on the same axes). For this exercise, you can set $T = 10000, r_L = 2.1, r_R = 6.4, k = 1, x_0 = 0$. "
   ]
  },
  {
   "cell_type": "code",
   "execution_count": null,
   "metadata": {},
   "outputs": [],
   "source": []
  }
 ],
 "metadata": {
  "kernelspec": {
   "display_name": "Python 3",
   "language": "python",
   "name": "python3"
  },
  "language_info": {
   "codemirror_mode": {
    "name": "ipython",
    "version": 3
   },
   "file_extension": ".py",
   "mimetype": "text/x-python",
   "name": "python",
   "nbconvert_exporter": "python",
   "pygments_lexer": "ipython3",
   "version": "3.7.4"
  }
 },
 "nbformat": 4,
 "nbformat_minor": 2
}
